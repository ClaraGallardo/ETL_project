{
 "cells": [
  {
   "cell_type": "markdown",
   "metadata": {},
   "source": [
    "# Limpieza archivo CSV (Fuente: Tripadvisor):\n",
    "\n",
    "Una vez tenemos el archivos csv,procedemos a limpiarlo."
   ]
  },
  {
   "cell_type": "code",
   "execution_count": 1,
   "metadata": {},
   "outputs": [],
   "source": [
    "import pandas as pd\n",
    "\n",
    "import sys\n",
    "sys.path.append(\"..\")\n",
    "from src.funciones import * "
   ]
  },
  {
   "cell_type": "code",
   "execution_count": 2,
   "metadata": {},
   "outputs": [],
   "source": [
    "ruta_al_csv = '../data/Tripadvisor.csv'\n",
    "df = pd.read_csv(ruta_al_csv)\n",
    "data=df.copy()"
   ]
  },
  {
   "cell_type": "code",
   "execution_count": 3,
   "metadata": {},
   "outputs": [
    {
     "name": "stdout",
     "output_type": "stream",
     "text": [
      "<class 'pandas.core.frame.DataFrame'>\n",
      "RangeIndex: 95 entries, 0 to 94\n",
      "Data columns (total 5 columns):\n",
      " #   Column  Non-Null Count  Dtype \n",
      "---  ------  --------------  ----- \n",
      " 0   0       95 non-null     object\n",
      " 1   1       95 non-null     object\n",
      " 2   2       95 non-null     object\n",
      " 3   3       12 non-null     object\n",
      " 4   4       2 non-null      object\n",
      "dtypes: object(5)\n",
      "memory usage: 3.8+ KB\n"
     ]
    }
   ],
   "source": [
    "data.info()"
   ]
  },
  {
   "cell_type": "code",
   "execution_count": 4,
   "metadata": {},
   "outputs": [
    {
     "data": {
      "text/html": [
       "<div>\n",
       "<style scoped>\n",
       "    .dataframe tbody tr th:only-of-type {\n",
       "        vertical-align: middle;\n",
       "    }\n",
       "\n",
       "    .dataframe tbody tr th {\n",
       "        vertical-align: top;\n",
       "    }\n",
       "\n",
       "    .dataframe thead th {\n",
       "        text-align: right;\n",
       "    }\n",
       "</style>\n",
       "<table border=\"1\" class=\"dataframe\">\n",
       "  <thead>\n",
       "    <tr style=\"text-align: right;\">\n",
       "      <th></th>\n",
       "      <th>count</th>\n",
       "      <th>unique</th>\n",
       "      <th>top</th>\n",
       "      <th>freq</th>\n",
       "    </tr>\n",
       "  </thead>\n",
       "  <tbody>\n",
       "    <tr>\n",
       "      <th>0</th>\n",
       "      <td>95</td>\n",
       "      <td>59</td>\n",
       "      <td>MICHELIN</td>\n",
       "      <td>7</td>\n",
       "    </tr>\n",
       "    <tr>\n",
       "      <th>1</th>\n",
       "      <td>95</td>\n",
       "      <td>61</td>\n",
       "      <td>Viajes</td>\n",
       "      <td>5</td>\n",
       "    </tr>\n",
       "    <tr>\n",
       "      <th>2</th>\n",
       "      <td>95</td>\n",
       "      <td>28</td>\n",
       "      <td>Italiana, Mediterránea€€ - €€€Carta</td>\n",
       "      <td>18</td>\n",
       "    </tr>\n",
       "    <tr>\n",
       "      <th>3</th>\n",
       "      <td>12</td>\n",
       "      <td>5</td>\n",
       "      <td>Japonesa, Sushi€€€€Carta</td>\n",
       "      <td>4</td>\n",
       "    </tr>\n",
       "    <tr>\n",
       "      <th>4</th>\n",
       "      <td>2</td>\n",
       "      <td>1</td>\n",
       "      <td>Iniciar sesión</td>\n",
       "      <td>2</td>\n",
       "    </tr>\n",
       "  </tbody>\n",
       "</table>\n",
       "</div>"
      ],
      "text/plain": [
       "  count unique                                  top freq\n",
       "0    95     59                             MICHELIN    7\n",
       "1    95     61                               Viajes    5\n",
       "2    95     28  Italiana, Mediterránea€€ - €€€Carta   18\n",
       "3    12      5             Japonesa, Sushi€€€€Carta    4\n",
       "4     2      1                       Iniciar sesión    2"
      ]
     },
     "execution_count": 4,
     "metadata": {},
     "output_type": "execute_result"
    }
   ],
   "source": [
    "data.describe().T"
   ]
  },
  {
   "cell_type": "code",
   "execution_count": 5,
   "metadata": {},
   "outputs": [
    {
     "data": {
      "text/html": [
       "<div>\n",
       "<style scoped>\n",
       "    .dataframe tbody tr th:only-of-type {\n",
       "        vertical-align: middle;\n",
       "    }\n",
       "\n",
       "    .dataframe tbody tr th {\n",
       "        vertical-align: top;\n",
       "    }\n",
       "\n",
       "    .dataframe thead th {\n",
       "        text-align: right;\n",
       "    }\n",
       "</style>\n",
       "<table border=\"1\" class=\"dataframe\">\n",
       "  <thead>\n",
       "    <tr style=\"text-align: right;\">\n",
       "      <th></th>\n",
       "      <th>0</th>\n",
       "      <th>1</th>\n",
       "      <th>2</th>\n",
       "      <th>3</th>\n",
       "      <th>4</th>\n",
       "    </tr>\n",
       "  </thead>\n",
       "  <tbody>\n",
       "    <tr>\n",
       "      <th>0</th>\n",
       "      <td>Descubrir</td>\n",
       "      <td>Viajes</td>\n",
       "      <td>Comunidad</td>\n",
       "      <td>Iniciar sesión</td>\n",
       "      <td>NaN</td>\n",
       "    </tr>\n",
       "    <tr>\n",
       "      <th>1</th>\n",
       "      <td>1. Pizzart Fuencarral</td>\n",
       "      <td>897 opinionesAbierto ahora</td>\n",
       "      <td>Italiana, Pizza€€ - €€€Carta</td>\n",
       "      <td>NaN</td>\n",
       "      <td>NaN</td>\n",
       "    </tr>\n",
       "    <tr>\n",
       "      <th>2</th>\n",
       "      <td>2. Maximo's</td>\n",
       "      <td>267 opinionesAbierto ahora</td>\n",
       "      <td>Japonesa, Sushi€€ - €€€Carta</td>\n",
       "      <td>NaN</td>\n",
       "      <td>NaN</td>\n",
       "    </tr>\n",
       "    <tr>\n",
       "      <th>3</th>\n",
       "      <td>3. Ornella Velázquez</td>\n",
       "      <td>2282 opinionesAbierto ahora</td>\n",
       "      <td>Italiana, Mediterránea€€ - €€€Carta</td>\n",
       "      <td>NaN</td>\n",
       "      <td>NaN</td>\n",
       "    </tr>\n",
       "    <tr>\n",
       "      <th>4</th>\n",
       "      <td>4. Smok Mok</td>\n",
       "      <td>103 opinionesAbierto ahora</td>\n",
       "      <td>Japonesa, Asiática€</td>\n",
       "      <td>NaN</td>\n",
       "      <td>NaN</td>\n",
       "    </tr>\n",
       "  </tbody>\n",
       "</table>\n",
       "</div>"
      ],
      "text/plain": [
       "                       0                            1  \\\n",
       "0              Descubrir                       Viajes   \n",
       "1  1. Pizzart Fuencarral   897 opinionesAbierto ahora   \n",
       "2            2. Maximo's   267 opinionesAbierto ahora   \n",
       "3   3. Ornella Velázquez  2282 opinionesAbierto ahora   \n",
       "4            4. Smok Mok   103 opinionesAbierto ahora   \n",
       "\n",
       "                                     2               3    4  \n",
       "0                            Comunidad  Iniciar sesión  NaN  \n",
       "1         Italiana, Pizza€€ - €€€Carta             NaN  NaN  \n",
       "2         Japonesa, Sushi€€ - €€€Carta             NaN  NaN  \n",
       "3  Italiana, Mediterránea€€ - €€€Carta             NaN  NaN  \n",
       "4                  Japonesa, Asiática€             NaN  NaN  "
      ]
     },
     "execution_count": 5,
     "metadata": {},
     "output_type": "execute_result"
    }
   ],
   "source": [
    "data.head()"
   ]
  },
  {
   "cell_type": "markdown",
   "metadata": {},
   "source": [
    "Tras ver el dataframe procedemos con la siguiente limpieza:\n",
    "\n",
    "* Ponemos los títulos bien\n",
    "* Quitamos las filas que han salido mal durante la extracción de datos\n",
    "* Quitamos los números que preceden a los nomber\n",
    "* Reseteamos los índices\n",
    "* Quitamos de la columna opiniones Abierto/Cerrado ahora\n",
    "* Quitamos de Tipo '€' y los añadimos a precio la equivalencia\n",
    "* Quitamos Carta de Tipo"
   ]
  },
  {
   "cell_type": "code",
   "execution_count": 6,
   "metadata": {},
   "outputs": [],
   "source": [
    "data.columns=['Nombre','Opiniones','Tipo','Precio','Cosas']\n",
    "\n",
    "eliminar=['Patrocinado', 'Descubrir','MICHELIN','Opinión']\n",
    "data = data[~data['Nombre'].isin(eliminar)]\n",
    "\n",
    "data['Nombre'] = data['Nombre'].str.replace(r'\\d+\\.\\s', '', regex=True) #eliminamos numeros de nombre\n",
    "data = data.reset_index(drop=True)\n",
    "\n",
    "data['Opiniones'] = data['Opiniones'].str.replace('Abierto ahora', '')\n",
    "data['Opiniones'] = data['Opiniones'].str.replace('Cerrado ahora', '')\n",
    "\n",
    "data['Tipo'] = data['Tipo'].str.replace(r'Carta$', '', regex=True)\n",
    "data['Precio'] = data['Tipo'].str.extract(r'(€+)')"
   ]
  },
  {
   "cell_type": "code",
   "execution_count": 7,
   "metadata": {},
   "outputs": [],
   "source": [
    "def precio(tipo):\n",
    "    if '€€€€' in tipo:\n",
    "        return 'Alto'\n",
    "    elif '€€ - €€€' in tipo:\n",
    "        return 'Medio'\n",
    "    elif '€' in tipo:\n",
    "        return 'Bajo'\n",
    "    else:\n",
    "        return ''"
   ]
  },
  {
   "cell_type": "code",
   "execution_count": 8,
   "metadata": {},
   "outputs": [],
   "source": [
    "data['Precio'] = data['Tipo'].apply(precio)\n",
    "data['Tipo'] = data['Tipo'].str.replace('€', '', regex=False)\n",
    "data['Tipo'] = data['Tipo'].str.replace('-', '', regex=False)"
   ]
  },
  {
   "cell_type": "code",
   "execution_count": 9,
   "metadata": {},
   "outputs": [
    {
     "data": {
      "text/html": [
       "<div>\n",
       "<style scoped>\n",
       "    .dataframe tbody tr th:only-of-type {\n",
       "        vertical-align: middle;\n",
       "    }\n",
       "\n",
       "    .dataframe tbody tr th {\n",
       "        vertical-align: top;\n",
       "    }\n",
       "\n",
       "    .dataframe thead th {\n",
       "        text-align: right;\n",
       "    }\n",
       "</style>\n",
       "<table border=\"1\" class=\"dataframe\">\n",
       "  <thead>\n",
       "    <tr style=\"text-align: right;\">\n",
       "      <th></th>\n",
       "      <th>Nombre</th>\n",
       "      <th>Opiniones</th>\n",
       "      <th>Tipo</th>\n",
       "      <th>Precio</th>\n",
       "      <th>Cosas</th>\n",
       "    </tr>\n",
       "  </thead>\n",
       "  <tbody>\n",
       "    <tr>\n",
       "      <th>0</th>\n",
       "      <td>Pizzart Fuencarral</td>\n",
       "      <td>897 opiniones</td>\n",
       "      <td>Italiana, Pizza</td>\n",
       "      <td>Medio</td>\n",
       "      <td>NaN</td>\n",
       "    </tr>\n",
       "    <tr>\n",
       "      <th>1</th>\n",
       "      <td>Maximo's</td>\n",
       "      <td>267 opiniones</td>\n",
       "      <td>Japonesa, Sushi</td>\n",
       "      <td>Medio</td>\n",
       "      <td>NaN</td>\n",
       "    </tr>\n",
       "    <tr>\n",
       "      <th>2</th>\n",
       "      <td>Ornella Velázquez</td>\n",
       "      <td>2282 opiniones</td>\n",
       "      <td>Italiana, Mediterránea</td>\n",
       "      <td>Medio</td>\n",
       "      <td>NaN</td>\n",
       "    </tr>\n",
       "    <tr>\n",
       "      <th>3</th>\n",
       "      <td>Smok Mok</td>\n",
       "      <td>103 opiniones</td>\n",
       "      <td>Japonesa, Asiática</td>\n",
       "      <td>Bajo</td>\n",
       "      <td>NaN</td>\n",
       "    </tr>\n",
       "    <tr>\n",
       "      <th>4</th>\n",
       "      <td>Maruzzella</td>\n",
       "      <td>960 opiniones</td>\n",
       "      <td>Italiana, Napolitana</td>\n",
       "      <td>Medio</td>\n",
       "      <td>NaN</td>\n",
       "    </tr>\n",
       "  </tbody>\n",
       "</table>\n",
       "</div>"
      ],
      "text/plain": [
       "               Nombre       Opiniones                      Tipo Precio Cosas\n",
       "0  Pizzart Fuencarral   897 opiniones         Italiana, Pizza    Medio   NaN\n",
       "1            Maximo's   267 opiniones         Japonesa, Sushi    Medio   NaN\n",
       "2   Ornella Velázquez  2282 opiniones  Italiana, Mediterránea    Medio   NaN\n",
       "3            Smok Mok   103 opiniones        Japonesa, Asiática   Bajo   NaN\n",
       "4          Maruzzella   960 opiniones    Italiana, Napolitana    Medio   NaN"
      ]
     },
     "execution_count": 9,
     "metadata": {},
     "output_type": "execute_result"
    }
   ],
   "source": [
    "data.head()"
   ]
  },
  {
   "cell_type": "markdown",
   "metadata": {},
   "source": [
    "Ponemos valores únicos en Tipo:"
   ]
  },
  {
   "cell_type": "code",
   "execution_count": 10,
   "metadata": {},
   "outputs": [],
   "source": [
    "limpieza_tipo(data)"
   ]
  },
  {
   "cell_type": "code",
   "execution_count": 11,
   "metadata": {},
   "outputs": [
    {
     "data": {
      "text/plain": [
       "Tipo\n",
       "Italiana      51\n",
       "Japonesa      12\n",
       "India          6\n",
       "China          4\n",
       "Japonesa       3\n",
       "China          3\n",
       "Mexicana       2\n",
       "Sushi          2\n",
       "Name: count, dtype: int64"
      ]
     },
     "execution_count": 11,
     "metadata": {},
     "output_type": "execute_result"
    }
   ],
   "source": [
    "data.Tipo.value_counts()"
   ]
  },
  {
   "cell_type": "code",
   "execution_count": 12,
   "metadata": {},
   "outputs": [
    {
     "data": {
      "text/html": [
       "<div>\n",
       "<style scoped>\n",
       "    .dataframe tbody tr th:only-of-type {\n",
       "        vertical-align: middle;\n",
       "    }\n",
       "\n",
       "    .dataframe tbody tr th {\n",
       "        vertical-align: top;\n",
       "    }\n",
       "\n",
       "    .dataframe thead th {\n",
       "        text-align: right;\n",
       "    }\n",
       "</style>\n",
       "<table border=\"1\" class=\"dataframe\">\n",
       "  <thead>\n",
       "    <tr style=\"text-align: right;\">\n",
       "      <th></th>\n",
       "      <th>Nombre</th>\n",
       "      <th>Opiniones</th>\n",
       "      <th>Tipo</th>\n",
       "      <th>Precio</th>\n",
       "      <th>Cosas</th>\n",
       "    </tr>\n",
       "  </thead>\n",
       "  <tbody>\n",
       "    <tr>\n",
       "      <th>78</th>\n",
       "      <td>Art &amp; Sushi</td>\n",
       "      <td>288 opiniones</td>\n",
       "      <td>Sushi</td>\n",
       "      <td>Medio</td>\n",
       "      <td>NaN</td>\n",
       "    </tr>\n",
       "    <tr>\n",
       "      <th>79</th>\n",
       "      <td>That's Amore</td>\n",
       "      <td>55 opiniones</td>\n",
       "      <td>Italiana</td>\n",
       "      <td>Medio</td>\n",
       "      <td>NaN</td>\n",
       "    </tr>\n",
       "    <tr>\n",
       "      <th>80</th>\n",
       "      <td>Bowlers Kitchen</td>\n",
       "      <td>49 opiniones</td>\n",
       "      <td>India</td>\n",
       "      <td>Medio</td>\n",
       "      <td>NaN</td>\n",
       "    </tr>\n",
       "    <tr>\n",
       "      <th>81</th>\n",
       "      <td>Lamonarracha-Chamberí</td>\n",
       "      <td>91 opiniones</td>\n",
       "      <td>Japonesa</td>\n",
       "      <td>Medio</td>\n",
       "      <td>NaN</td>\n",
       "    </tr>\n",
       "    <tr>\n",
       "      <th>82</th>\n",
       "      <td>Vecchia Milano</td>\n",
       "      <td>133 opiniones</td>\n",
       "      <td>Italiana</td>\n",
       "      <td>Medio</td>\n",
       "      <td>NaN</td>\n",
       "    </tr>\n",
       "  </tbody>\n",
       "</table>\n",
       "</div>"
      ],
      "text/plain": [
       "                   Nombre      Opiniones        Tipo Precio Cosas\n",
       "78            Art & Sushi  288 opiniones     Sushi    Medio   NaN\n",
       "79           That's Amore   55 opiniones    Italiana  Medio   NaN\n",
       "80        Bowlers Kitchen   49 opiniones     India    Medio   NaN\n",
       "81  Lamonarracha-Chamberí   91 opiniones  Japonesa    Medio   NaN\n",
       "82         Vecchia Milano  133 opiniones    Italiana  Medio   NaN"
      ]
     },
     "execution_count": 12,
     "metadata": {},
     "output_type": "execute_result"
    }
   ],
   "source": [
    "data.tail()"
   ]
  }
 ],
 "metadata": {
  "kernelspec": {
   "display_name": "clase",
   "language": "python",
   "name": "python3"
  },
  "language_info": {
   "codemirror_mode": {
    "name": "ipython",
    "version": 3
   },
   "file_extension": ".py",
   "mimetype": "text/x-python",
   "name": "python",
   "nbconvert_exporter": "python",
   "pygments_lexer": "ipython3",
   "version": "3.10.13"
  }
 },
 "nbformat": 4,
 "nbformat_minor": 2
}
