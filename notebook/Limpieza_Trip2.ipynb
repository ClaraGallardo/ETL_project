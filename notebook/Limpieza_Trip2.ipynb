{
 "cells": [
  {
   "cell_type": "code",
   "execution_count": 1,
   "metadata": {},
   "outputs": [],
   "source": [
    "import pandas as pd\n",
    "\n",
    "import sys\n",
    "sys.path.append(\"..\")\n",
    "from src.funciones import * \n",
    "\n"
   ]
  },
  {
   "cell_type": "code",
   "execution_count": 2,
   "metadata": {},
   "outputs": [],
   "source": [
    "ruta_al_csv = '..\\data\\Tripadvisor2'\n",
    "df = pd.read_csv(ruta_al_csv)\n",
    "data=df.copy()"
   ]
  },
  {
   "cell_type": "code",
   "execution_count": 3,
   "metadata": {},
   "outputs": [],
   "source": [
    "data.columns=['Nombre','Opiniones','Tipo','Precio','Cosas']\n",
    "\n",
    "eliminar=['Patrocinado', 'Descubrir','MICHELIN','Opinión']\n",
    "data = data[~data['Nombre'].isin(eliminar)]\n",
    "\n",
    "data['Nombre'] = data['Nombre'].str.replace(r'\\d+\\.\\s', '', regex=True) #eliminamos numeros de nombre\n",
    "data = data.reset_index(drop=True)\n",
    "\n",
    "data['Opiniones'] = data['Opiniones'].str.replace('Abierto ahora', '')\n",
    "data['Opiniones'] = data['Opiniones'].str.replace('Cerrado ahora', '')\n",
    "\n",
    "data['Tipo'] = data['Tipo'].str.replace(r'Carta$', '', regex=True)\n",
    "data['Precio'] = data['Tipo'].str.extract(r'(€+)')\n",
    "\n",
    "\n",
    "def precio(tipo):\n",
    "    if '€€€€' in tipo:\n",
    "        return 'Alto'\n",
    "    elif '€€ - €€€' in tipo:\n",
    "        return 'Medio'\n",
    "    elif '€' in tipo:\n",
    "        return 'Bajo'\n",
    "    else:\n",
    "        return ''\n",
    "    \n",
    "\n",
    "data['Precio'] = data['Tipo'].apply(precio)\n",
    "data['Tipo'] = data['Tipo'].str.replace('€', '', regex=False)\n",
    "data['Tipo'] = data['Tipo'].str.replace('-', '', regex=False)\n",
    "data.head()\n",
    "\n",
    "\n",
    "limpieza_tipo(data)\n"
   ]
  },
  {
   "cell_type": "code",
   "execution_count": 4,
   "metadata": {},
   "outputs": [],
   "source": [
    "import regex as re\n",
    "\n",
    "cerrado = [re.sub(r'Cerrado hoy', '', cadena) for cadena in data.Opiniones]\n",
    "minutos = [re.sub(r'Abre en 6 minutos', '', opinion) for opinion in data.Opiniones]\n",
    "\n",
    "data['Opiniones'] = data['Opiniones'].apply(lambda x: re.sub(r'Abre en 6 minutos', '', x))\n",
    "data['Opiniones'] = data['Opiniones'].apply(lambda x: re.sub(r'Cerrado hoy', '', x))"
   ]
  },
  {
   "cell_type": "code",
   "execution_count": 5,
   "metadata": {},
   "outputs": [],
   "source": [
    "def eliminar_palabras(texto):\n",
    "    palabras_a_eliminar = [\"Latina\", \"Francesa\", \"Saludable\", \"Internacional\",'rápida','saludable']\n",
    "    patron = r'\\b(?:' + '|'.join(palabras_a_eliminar) + r')\\b'\n",
    "    return re.sub(patron, '', texto)\n",
    "\n",
    "# Aplica la función a la columna \"Tipo\"\n",
    "\n",
    "data['Tipo'] = data['Tipo'].apply(eliminar_palabras)\n"
   ]
  },
  {
   "cell_type": "code",
   "execution_count": 6,
   "metadata": {},
   "outputs": [
    {
     "data": {
      "text/html": [
       "<div>\n",
       "<style scoped>\n",
       "    .dataframe tbody tr th:only-of-type {\n",
       "        vertical-align: middle;\n",
       "    }\n",
       "\n",
       "    .dataframe tbody tr th {\n",
       "        vertical-align: top;\n",
       "    }\n",
       "\n",
       "    .dataframe thead th {\n",
       "        text-align: right;\n",
       "    }\n",
       "</style>\n",
       "<table border=\"1\" class=\"dataframe\">\n",
       "  <thead>\n",
       "    <tr style=\"text-align: right;\">\n",
       "      <th></th>\n",
       "      <th>Nombre</th>\n",
       "      <th>Opiniones</th>\n",
       "      <th>Tipo</th>\n",
       "      <th>Precio</th>\n",
       "      <th>Cosas</th>\n",
       "    </tr>\n",
       "  </thead>\n",
       "  <tbody>\n",
       "    <tr>\n",
       "      <th>0</th>\n",
       "      <td>Pizzeria Fratelli</td>\n",
       "      <td>460 opiniones</td>\n",
       "      <td>Italiana</td>\n",
       "      <td>Medio</td>\n",
       "      <td>NaN</td>\n",
       "    </tr>\n",
       "    <tr>\n",
       "      <th>1</th>\n",
       "      <td>Asian Army</td>\n",
       "      <td>52 opiniones</td>\n",
       "      <td>Vietnamita</td>\n",
       "      <td>Medio</td>\n",
       "      <td>NaN</td>\n",
       "    </tr>\n",
       "    <tr>\n",
       "      <th>2</th>\n",
       "      <td>Menomale</td>\n",
       "      <td>204 opiniones</td>\n",
       "      <td>Italiana</td>\n",
       "      <td>Medio</td>\n",
       "      <td>NaN</td>\n",
       "    </tr>\n",
       "    <tr>\n",
       "      <th>3</th>\n",
       "      <td>Borax</td>\n",
       "      <td>445 opiniones</td>\n",
       "      <td>Caribeña</td>\n",
       "      <td>Medio</td>\n",
       "      <td>NaN</td>\n",
       "    </tr>\n",
       "    <tr>\n",
       "      <th>4</th>\n",
       "      <td>Éccolo</td>\n",
       "      <td>133 opiniones</td>\n",
       "      <td>Italiana</td>\n",
       "      <td>Medio</td>\n",
       "      <td>NaN</td>\n",
       "    </tr>\n",
       "  </tbody>\n",
       "</table>\n",
       "</div>"
      ],
      "text/plain": [
       "              Nombre      Opiniones          Tipo Precio Cosas\n",
       "0  Pizzeria Fratelli  460 opiniones      Italiana  Medio   NaN\n",
       "1         Asian Army   52 opiniones  Vietnamita    Medio   NaN\n",
       "2           Menomale  204 opiniones      Italiana  Medio   NaN\n",
       "3              Borax  445 opiniones    Caribeña    Medio   NaN\n",
       "4             Éccolo  133 opiniones      Italiana  Medio   NaN"
      ]
     },
     "execution_count": 6,
     "metadata": {},
     "output_type": "execute_result"
    }
   ],
   "source": [
    "data.head()"
   ]
  },
  {
   "cell_type": "code",
   "execution_count": 7,
   "metadata": {},
   "outputs": [
    {
     "data": {
      "text/plain": [
       "Tipo\n",
       "Italiana                        108\n",
       "Japonesa                         47\n",
       "China                            20\n",
       "India                            15\n",
       "China                            10\n",
       "Japonesa                          9\n",
       "Mexicana                          6\n",
       "Mexicana                          6\n",
       "Caribeña                          5\n",
       "Peruana                           4\n",
       "Vietnamita                        3\n",
       "Fusión                            2\n",
       "Japonesa                          2\n",
       "Tailandesa                        2\n",
       "Caribeña                          2\n",
       "Mediterránea                      2\n",
       "Venezolana                        1\n",
       "Americana                         1\n",
       "Colombiana                        1\n",
       "Venezolana                        1\n",
       "Filipina                          1\n",
       "LatinaComida                      1\n",
       "LatinaInternacional               1\n",
       "Comida rápidaInternacional        1\n",
       "FusiónSaludable                   1\n",
       "Argentino                         1\n",
       "Americana                         1\n",
       "Coreana                           1\n",
       "Turca                             1\n",
       "Name: count, dtype: int64"
      ]
     },
     "execution_count": 7,
     "metadata": {},
     "output_type": "execute_result"
    }
   ],
   "source": [
    "data.Tipo.value_counts()"
   ]
  }
 ],
 "metadata": {
  "kernelspec": {
   "display_name": "clase",
   "language": "python",
   "name": "python3"
  },
  "language_info": {
   "codemirror_mode": {
    "name": "ipython",
    "version": 3
   },
   "file_extension": ".py",
   "mimetype": "text/x-python",
   "name": "python",
   "nbconvert_exporter": "python",
   "pygments_lexer": "ipython3",
   "version": "3.10.13"
  }
 },
 "nbformat": 4,
 "nbformat_minor": 2
}
