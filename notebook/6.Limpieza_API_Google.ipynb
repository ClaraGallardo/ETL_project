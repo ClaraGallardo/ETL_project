{
 "cells": [
  {
   "cell_type": "code",
   "execution_count": 1,
   "metadata": {},
   "outputs": [
    {
     "name": "stderr",
     "output_type": "stream",
     "text": [
      "c:\\Users\\Usuario\\anaconda3\\envs\\clase\\lib\\site-packages\\fuzzywuzzy\\fuzz.py:11: UserWarning: Using slow pure-python SequenceMatcher. Install python-Levenshtein to remove this warning\n",
      "  warnings.warn('Using slow pure-python SequenceMatcher. Install python-Levenshtein to remove this warning')\n"
     ]
    }
   ],
   "source": [
    "import pandas as pd\n",
    "\n",
    "from fuzzywuzzy import fuzz\n",
    "from fuzzywuzzy import process"
   ]
  },
  {
   "cell_type": "markdown",
   "metadata": {},
   "source": [
    "# Limpieza tablas extraidas desde la API PLACE de Google: "
   ]
  },
  {
   "cell_type": "markdown",
   "metadata": {},
   "source": [
    "#### Todas las tablas tienen la misma estructura por lo que la misma limpieza se la aplico a todas."
   ]
  },
  {
   "cell_type": "code",
   "execution_count": 2,
   "metadata": {},
   "outputs": [],
   "source": [
    "caribe = pd.read_csv('../data/caribe.csv', encoding='latin1')\n",
    "coreano = pd.read_csv('../data/coreano.csv', encoding='latin1')\n",
    "india = pd.read_csv('../data/india.csv', encoding='latin1')\n",
    "ita = pd.read_csv('../data/ita.csv', encoding='latin1')\n",
    "japo = pd.read_csv('../data/japo.csv', encoding='latin1')\n",
    "mex = pd.read_csv('../data/mex.csv', encoding='latin1')\n",
    "peru = pd.read_csv('../data/peru.csv', encoding='latin1')\n",
    "chino = pd.read_csv('../data/chino.csv', encoding='latin1')"
   ]
  },
  {
   "cell_type": "code",
   "execution_count": 3,
   "metadata": {},
   "outputs": [
    {
     "name": "stdout",
     "output_type": "stream",
     "text": [
      "<class 'pandas.core.frame.DataFrame'>\n",
      "RangeIndex: 20 entries, 0 to 19\n",
      "Data columns (total 9 columns):\n",
      " #   Column              Non-Null Count  Dtype  \n",
      "---  ------              --------------  -----  \n",
      " 0   business_status     20 non-null     object \n",
      " 1   geometry            20 non-null     object \n",
      " 2   name                20 non-null     object \n",
      " 3   photos              20 non-null     object \n",
      " 4   price_level         12 non-null     float64\n",
      " 5   rating              20 non-null     float64\n",
      " 6   types               20 non-null     object \n",
      " 7   user_ratings_total  20 non-null     int64  \n",
      " 8   tipo                20 non-null     object \n",
      "dtypes: float64(2), int64(1), object(6)\n",
      "memory usage: 1.5+ KB\n"
     ]
    }
   ],
   "source": [
    "coreano.info() # Aqui veo que solo price-level tiene nulos"
   ]
  },
  {
   "cell_type": "code",
   "execution_count": 4,
   "metadata": {},
   "outputs": [
    {
     "data": {
      "text/plain": [
       "Index(['business_status', 'geometry', 'name', 'photos', 'price_level',\n",
       "       'rating', 'types', 'user_ratings_total', 'tipo'],\n",
       "      dtype='object')"
      ]
     },
     "execution_count": 4,
     "metadata": {},
     "output_type": "execute_result"
    }
   ],
   "source": [
    "coreano.columns"
   ]
  },
  {
   "cell_type": "code",
   "execution_count": 5,
   "metadata": {},
   "outputs": [],
   "source": [
    "coreano=coreano.drop(columns=['business_status','geometry','tipo'])"
   ]
  },
  {
   "cell_type": "code",
   "execution_count": 6,
   "metadata": {},
   "outputs": [],
   "source": [
    "coreano.columns = ['Nombre','Foto','Precio','Puntuacion','Servicios', 'Nº opiniones']"
   ]
  },
  {
   "cell_type": "code",
   "execution_count": 7,
   "metadata": {},
   "outputs": [],
   "source": [
    "coreano.Nombre = coreano.Nombre.str.upper()"
   ]
  },
  {
   "cell_type": "code",
   "execution_count": 8,
   "metadata": {},
   "outputs": [
    {
     "data": {
      "text/html": [
       "<div>\n",
       "<style scoped>\n",
       "    .dataframe tbody tr th:only-of-type {\n",
       "        vertical-align: middle;\n",
       "    }\n",
       "\n",
       "    .dataframe tbody tr th {\n",
       "        vertical-align: top;\n",
       "    }\n",
       "\n",
       "    .dataframe thead th {\n",
       "        text-align: right;\n",
       "    }\n",
       "</style>\n",
       "<table border=\"1\" class=\"dataframe\">\n",
       "  <thead>\n",
       "    <tr style=\"text-align: right;\">\n",
       "      <th></th>\n",
       "      <th>Nombre</th>\n",
       "      <th>Foto</th>\n",
       "      <th>Precio</th>\n",
       "      <th>Puntuacion</th>\n",
       "      <th>Servicios</th>\n",
       "      <th>Nº opiniones</th>\n",
       "    </tr>\n",
       "  </thead>\n",
       "  <tbody>\n",
       "    <tr>\n",
       "      <th>0</th>\n",
       "      <td>RESTAURANTE COREANO GANGNAM</td>\n",
       "      <td>[{'height': 2988, 'html_attributions': ['&lt;a hr...</td>\n",
       "      <td>1.0</td>\n",
       "      <td>4.4</td>\n",
       "      <td>['restaurant', 'food', 'point_of_interest', 'e...</td>\n",
       "      <td>597</td>\n",
       "    </tr>\n",
       "    <tr>\n",
       "      <th>1</th>\n",
       "      <td>RESTAURANTE KOREA</td>\n",
       "      <td>[{'height': 2773, 'html_attributions': ['&lt;a hr...</td>\n",
       "      <td>2.0</td>\n",
       "      <td>4.5</td>\n",
       "      <td>['restaurant', 'food', 'point_of_interest', 'e...</td>\n",
       "      <td>1922</td>\n",
       "    </tr>\n",
       "    <tr>\n",
       "      <th>2</th>\n",
       "      <td>GO HYANG MAT</td>\n",
       "      <td>[{'height': 3000, 'html_attributions': ['&lt;a hr...</td>\n",
       "      <td>1.0</td>\n",
       "      <td>4.5</td>\n",
       "      <td>['restaurant', 'food', 'point_of_interest', 'e...</td>\n",
       "      <td>994</td>\n",
       "    </tr>\n",
       "    <tr>\n",
       "      <th>3</th>\n",
       "      <td>RESTAURANTE MIDANG</td>\n",
       "      <td>[{'height': 1669, 'html_attributions': ['&lt;a hr...</td>\n",
       "      <td>2.0</td>\n",
       "      <td>4.7</td>\n",
       "      <td>['meal_delivery', 'restaurant', 'food', 'point...</td>\n",
       "      <td>762</td>\n",
       "    </tr>\n",
       "    <tr>\n",
       "      <th>4</th>\n",
       "      <td>RESTAURANTE MARU</td>\n",
       "      <td>[{'height': 3024, 'html_attributions': ['&lt;a hr...</td>\n",
       "      <td>2.0</td>\n",
       "      <td>4.3</td>\n",
       "      <td>['restaurant', 'food', 'point_of_interest', 'e...</td>\n",
       "      <td>847</td>\n",
       "    </tr>\n",
       "  </tbody>\n",
       "</table>\n",
       "</div>"
      ],
      "text/plain": [
       "                        Nombre  \\\n",
       "0  RESTAURANTE COREANO GANGNAM   \n",
       "1            RESTAURANTE KOREA   \n",
       "2                 GO HYANG MAT   \n",
       "3           RESTAURANTE MIDANG   \n",
       "4             RESTAURANTE MARU   \n",
       "\n",
       "                                                Foto  Precio  Puntuacion  \\\n",
       "0  [{'height': 2988, 'html_attributions': ['<a hr...     1.0         4.4   \n",
       "1  [{'height': 2773, 'html_attributions': ['<a hr...     2.0         4.5   \n",
       "2  [{'height': 3000, 'html_attributions': ['<a hr...     1.0         4.5   \n",
       "3  [{'height': 1669, 'html_attributions': ['<a hr...     2.0         4.7   \n",
       "4  [{'height': 3024, 'html_attributions': ['<a hr...     2.0         4.3   \n",
       "\n",
       "                                           Servicios  Nº opiniones  \n",
       "0  ['restaurant', 'food', 'point_of_interest', 'e...           597  \n",
       "1  ['restaurant', 'food', 'point_of_interest', 'e...          1922  \n",
       "2  ['restaurant', 'food', 'point_of_interest', 'e...           994  \n",
       "3  ['meal_delivery', 'restaurant', 'food', 'point...           762  \n",
       "4  ['restaurant', 'food', 'point_of_interest', 'e...           847  "
      ]
     },
     "execution_count": 8,
     "metadata": {},
     "output_type": "execute_result"
    }
   ],
   "source": [
    "coreano.head() "
   ]
  },
  {
   "cell_type": "markdown",
   "metadata": {},
   "source": [
    "#### Creo una función para limpiar 🫧🧹 todo de una."
   ]
  },
  {
   "cell_type": "code",
   "execution_count": 9,
   "metadata": {},
   "outputs": [],
   "source": [
    "import sys\n",
    "sys.path.append(\"..\")\n",
    "from src.funciones import *  #funciones"
   ]
  },
  {
   "cell_type": "code",
   "execution_count": 10,
   "metadata": {},
   "outputs": [],
   "source": [
    "india = clean(india) \n",
    "ita = clean(ita) \n",
    "japo = clean(japo)\n",
    "mex = clean(mex) \n",
    "peru = clean(peru)\n",
    "chino = clean(chino)"
   ]
  },
  {
   "cell_type": "markdown",
   "metadata": {},
   "source": [
    "#### La talba de Caribe tiene una columna menos por lo que la funcion no se puede aplicar"
   ]
  },
  {
   "cell_type": "code",
   "execution_count": 11,
   "metadata": {},
   "outputs": [],
   "source": [
    "caribe=caribe.drop(columns=['business_status','geometry','tipo'])\n",
    "caribe.columns = ['Nombre','Foto','Puntuacion','Servicios', 'Nº opiniones']\n",
    "caribe.Nombre = caribe.Nombre.str.upper()"
   ]
  },
  {
   "cell_type": "markdown",
   "metadata": {},
   "source": [
    "#### Nuesto principal objetivo 🎯🎯 es tener todos los nombres de los restaurantes de las tablas para poder relacionarlos con la tabla de locales"
   ]
  },
  {
   "cell_type": "code",
   "execution_count": 12,
   "metadata": {},
   "outputs": [],
   "source": [
    "locales = pd.read_csv('../data/restaurantes.csv', encoding='latin1')"
   ]
  },
  {
   "cell_type": "code",
   "execution_count": 13,
   "metadata": {},
   "outputs": [],
   "source": [
    "locales.columns = ['o', 'id_local','Nombre']"
   ]
  },
  {
   "cell_type": "code",
   "execution_count": 14,
   "metadata": {},
   "outputs": [],
   "source": [
    "df_list = [caribe, japo, chino, mex, peru, india, ita]\n",
    "\n",
    "\n",
    "results = []\n",
    "\n",
    "for df in df_list:\n",
    "    result = locales.merge(df, on='Nombre', how='inner')\n",
    "    results.append(result)\n",
    "\n",
    "# Concatenar todos los resultados en un solo DataFrame\n",
    "result = pd.concat(results, ignore_index=True)"
   ]
  },
  {
   "cell_type": "code",
   "execution_count": 15,
   "metadata": {},
   "outputs": [],
   "source": [
    "result = result.drop_duplicates(subset=['id_local'], keep=False)\n"
   ]
  },
  {
   "cell_type": "code",
   "execution_count": 16,
   "metadata": {},
   "outputs": [],
   "source": [
    "result= result.drop(columns=['o','Foto'])"
   ]
  },
  {
   "cell_type": "code",
   "execution_count": 17,
   "metadata": {},
   "outputs": [
    {
     "data": {
      "text/html": [
       "<div>\n",
       "<style scoped>\n",
       "    .dataframe tbody tr th:only-of-type {\n",
       "        vertical-align: middle;\n",
       "    }\n",
       "\n",
       "    .dataframe tbody tr th {\n",
       "        vertical-align: top;\n",
       "    }\n",
       "\n",
       "    .dataframe thead th {\n",
       "        text-align: right;\n",
       "    }\n",
       "</style>\n",
       "<table border=\"1\" class=\"dataframe\">\n",
       "  <thead>\n",
       "    <tr style=\"text-align: right;\">\n",
       "      <th></th>\n",
       "      <th>id_local</th>\n",
       "      <th>Nombre</th>\n",
       "      <th>Puntuacion</th>\n",
       "      <th>Servicios</th>\n",
       "      <th>Nº opiniones</th>\n",
       "      <th>Precio</th>\n",
       "    </tr>\n",
       "  </thead>\n",
       "  <tbody>\n",
       "    <tr>\n",
       "      <th>0</th>\n",
       "      <td>17202</td>\n",
       "      <td>KABUKI</td>\n",
       "      <td>4.6</td>\n",
       "      <td>['restaurant', 'food', 'point_of_interest', 'e...</td>\n",
       "      <td>876</td>\n",
       "      <td>4.0</td>\n",
       "    </tr>\n",
       "    <tr>\n",
       "      <th>1</th>\n",
       "      <td>50673</td>\n",
       "      <td>KABUKI</td>\n",
       "      <td>4.6</td>\n",
       "      <td>['restaurant', 'food', 'point_of_interest', 'e...</td>\n",
       "      <td>876</td>\n",
       "      <td>4.0</td>\n",
       "    </tr>\n",
       "    <tr>\n",
       "      <th>2</th>\n",
       "      <td>33122</td>\n",
       "      <td>HATTORI HANZO</td>\n",
       "      <td>3.9</td>\n",
       "      <td>['restaurant', 'food', 'point_of_interest', 'e...</td>\n",
       "      <td>3484</td>\n",
       "      <td>2.0</td>\n",
       "    </tr>\n",
       "    <tr>\n",
       "      <th>3</th>\n",
       "      <td>78750</td>\n",
       "      <td>PILAR AKANEYA</td>\n",
       "      <td>4.8</td>\n",
       "      <td>['restaurant', 'food', 'point_of_interest', 'e...</td>\n",
       "      <td>1188</td>\n",
       "      <td>NaN</td>\n",
       "    </tr>\n",
       "    <tr>\n",
       "      <th>4</th>\n",
       "      <td>1792</td>\n",
       "      <td>RESTAURANTE CHINO GRAN SIGLO</td>\n",
       "      <td>4.3</td>\n",
       "      <td>['restaurant', 'food', 'point_of_interest', 'e...</td>\n",
       "      <td>636</td>\n",
       "      <td>1.0</td>\n",
       "    </tr>\n",
       "  </tbody>\n",
       "</table>\n",
       "</div>"
      ],
      "text/plain": [
       "   id_local                        Nombre  Puntuacion  \\\n",
       "0     17202                        KABUKI         4.6   \n",
       "1     50673                        KABUKI         4.6   \n",
       "2     33122                 HATTORI HANZO         3.9   \n",
       "3     78750                 PILAR AKANEYA         4.8   \n",
       "4      1792  RESTAURANTE CHINO GRAN SIGLO         4.3   \n",
       "\n",
       "                                           Servicios  Nº opiniones  Precio  \n",
       "0  ['restaurant', 'food', 'point_of_interest', 'e...           876     4.0  \n",
       "1  ['restaurant', 'food', 'point_of_interest', 'e...           876     4.0  \n",
       "2  ['restaurant', 'food', 'point_of_interest', 'e...          3484     2.0  \n",
       "3  ['restaurant', 'food', 'point_of_interest', 'e...          1188     NaN  \n",
       "4  ['restaurant', 'food', 'point_of_interest', 'e...           636     1.0  "
      ]
     },
     "execution_count": 17,
     "metadata": {},
     "output_type": "execute_result"
    }
   ],
   "source": [
    "result.head()"
   ]
  },
  {
   "cell_type": "code",
   "execution_count": 18,
   "metadata": {},
   "outputs": [
    {
     "name": "stdout",
     "output_type": "stream",
     "text": [
      "<class 'pandas.core.frame.DataFrame'>\n",
      "Index: 24 entries, 0 to 53\n",
      "Data columns (total 6 columns):\n",
      " #   Column        Non-Null Count  Dtype  \n",
      "---  ------        --------------  -----  \n",
      " 0   id_local      24 non-null     int64  \n",
      " 1   Nombre        24 non-null     object \n",
      " 2   Puntuacion    24 non-null     float64\n",
      " 3   Servicios     24 non-null     object \n",
      " 4   Nº opiniones  24 non-null     int64  \n",
      " 5   Precio        22 non-null     float64\n",
      "dtypes: float64(2), int64(2), object(2)\n",
      "memory usage: 5.4 KB\n"
     ]
    }
   ],
   "source": [
    "result.info(memory_usage='deep')"
   ]
  },
  {
   "cell_type": "code",
   "execution_count": 19,
   "metadata": {},
   "outputs": [
    {
     "name": "stdout",
     "output_type": "stream",
     "text": [
      "<class 'pandas.core.frame.DataFrame'>\n",
      "Index: 24 entries, 0 to 53\n",
      "Data columns (total 6 columns):\n",
      " #   Column        Non-Null Count  Dtype   \n",
      "---  ------        --------------  -----   \n",
      " 0   id_local      24 non-null     int32   \n",
      " 1   Nombre        24 non-null     category\n",
      " 2   Puntuacion    24 non-null     float32 \n",
      " 3   Servicios     24 non-null     category\n",
      " 4   Nº opiniones  24 non-null     int16   \n",
      " 5   Precio        22 non-null     float32 \n",
      "dtypes: category(2), float32(2), int16(1), int32(1)\n",
      "memory usage: 3.3 KB\n"
     ]
    }
   ],
   "source": [
    "optim(result)\n",
    "result.info(memory_usage='deep')"
   ]
  },
  {
   "cell_type": "code",
   "execution_count": 20,
   "metadata": {},
   "outputs": [],
   "source": [
    "result.to_csv('../data/Opiniones.csv',index=False)"
   ]
  },
  {
   "cell_type": "code",
   "execution_count": 21,
   "metadata": {},
   "outputs": [],
   "source": [
    "india = optim(india) \n",
    "ita = optim(ita) \n",
    "japo = optim(japo)\n",
    "mex = optim(mex) \n",
    "peru = optim(peru)\n",
    "chino = optim(chino)\n",
    "caribe = optim(caribe)"
   ]
  },
  {
   "cell_type": "code",
   "execution_count": 22,
   "metadata": {},
   "outputs": [],
   "source": [
    "india.to_csv('../data/Indio.csv',index=False)\n",
    "ita.to_csv('../data/Italiano.csv',index=False)\n",
    "japo.to_csv('../data/Japonés.csv',index=False)\n",
    "mex.to_csv('../data/Mexicano.csv',index=False)\n",
    "peru.to_csv('../data/Peruano.csv',index=False)\n",
    "chino.to_csv('../data/Chino.csv',index=False)\n",
    "caribe.to_csv('../data/Carie.csv',index=False)"
   ]
  }
 ],
 "metadata": {
  "kernelspec": {
   "display_name": "clase",
   "language": "python",
   "name": "python3"
  },
  "language_info": {
   "codemirror_mode": {
    "name": "ipython",
    "version": 3
   },
   "file_extension": ".py",
   "mimetype": "text/x-python",
   "name": "python",
   "nbconvert_exporter": "python",
   "pygments_lexer": "ipython3",
   "version": "3.10.13"
  }
 },
 "nbformat": 4,
 "nbformat_minor": 2
}
