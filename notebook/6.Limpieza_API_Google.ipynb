{
 "cells": [
  {
   "cell_type": "code",
   "execution_count": 4,
   "metadata": {},
   "outputs": [],
   "source": [
    "import pandas as pd\n"
   ]
  },
  {
   "cell_type": "markdown",
   "metadata": {},
   "source": [
    "# Limpieza tablas extraidas desde la API PLACE de Google: "
   ]
  },
  {
   "cell_type": "markdown",
   "metadata": {},
   "source": [
    "#### Todas las tablas tienen la misma estructura por lo que la misma limpieza se la aplico a todas."
   ]
  },
  {
   "cell_type": "code",
   "execution_count": 5,
   "metadata": {},
   "outputs": [],
   "source": [
    "caribe = pd.read_csv('../data/caribe.csv', encoding='latin1')\n",
    "coreano = pd.read_csv('../data/coreano.csv', encoding='latin1')\n",
    "india = pd.read_csv('../data/india.csv', encoding='latin1')\n",
    "ita = pd.read_csv('../data/ita.csv', encoding='latin1')\n",
    "japo = pd.read_csv('../data/japo.csv', encoding='latin1')\n",
    "mex = pd.read_csv('../data/mex.csv', encoding='latin1')\n",
    "peru = pd.read_csv('../data/peru.csv', encoding='latin1')\n",
    "chino = pd.read_csv('../data/chino.csv', encoding='latin1')"
   ]
  },
  {
   "cell_type": "code",
   "execution_count": 6,
   "metadata": {},
   "outputs": [
    {
     "name": "stdout",
     "output_type": "stream",
     "text": [
      "<class 'pandas.core.frame.DataFrame'>\n",
      "RangeIndex: 20 entries, 0 to 19\n",
      "Data columns (total 9 columns):\n",
      " #   Column              Non-Null Count  Dtype  \n",
      "---  ------              --------------  -----  \n",
      " 0   business_status     20 non-null     object \n",
      " 1   geometry            20 non-null     object \n",
      " 2   name                20 non-null     object \n",
      " 3   photos              20 non-null     object \n",
      " 4   price_level         12 non-null     float64\n",
      " 5   rating              20 non-null     float64\n",
      " 6   types               20 non-null     object \n",
      " 7   user_ratings_total  20 non-null     int64  \n",
      " 8   tipo                20 non-null     object \n",
      "dtypes: float64(2), int64(1), object(6)\n",
      "memory usage: 1.5+ KB\n"
     ]
    }
   ],
   "source": [
    "coreano.info() # Aqui veo que solo price-level tiene nulos"
   ]
  },
  {
   "cell_type": "code",
   "execution_count": 7,
   "metadata": {},
   "outputs": [
    {
     "data": {
      "text/plain": [
       "Index(['business_status', 'geometry', 'name', 'photos', 'price_level',\n",
       "       'rating', 'types', 'user_ratings_total', 'tipo'],\n",
       "      dtype='object')"
      ]
     },
     "execution_count": 7,
     "metadata": {},
     "output_type": "execute_result"
    }
   ],
   "source": [
    "coreano.columns"
   ]
  },
  {
   "cell_type": "code",
   "execution_count": 8,
   "metadata": {},
   "outputs": [],
   "source": [
    "coreano=coreano.drop(columns=['business_status','geometry','tipo'])"
   ]
  },
  {
   "cell_type": "code",
   "execution_count": 9,
   "metadata": {},
   "outputs": [],
   "source": [
    "coreano.columns = ['Nombre','Foto','Precio','Puntuacion','Servicios', 'Nº opiniones']"
   ]
  },
  {
   "cell_type": "code",
   "execution_count": 10,
   "metadata": {},
   "outputs": [],
   "source": [
    "coreano.Nombre = coreano.Nombre.str.upper()"
   ]
  },
  {
   "cell_type": "code",
   "execution_count": 11,
   "metadata": {},
   "outputs": [
    {
     "data": {
      "text/html": [
       "<div>\n",
       "<style scoped>\n",
       "    .dataframe tbody tr th:only-of-type {\n",
       "        vertical-align: middle;\n",
       "    }\n",
       "\n",
       "    .dataframe tbody tr th {\n",
       "        vertical-align: top;\n",
       "    }\n",
       "\n",
       "    .dataframe thead th {\n",
       "        text-align: right;\n",
       "    }\n",
       "</style>\n",
       "<table border=\"1\" class=\"dataframe\">\n",
       "  <thead>\n",
       "    <tr style=\"text-align: right;\">\n",
       "      <th></th>\n",
       "      <th>Nombre</th>\n",
       "      <th>Foto</th>\n",
       "      <th>Precio</th>\n",
       "      <th>Puntuacion</th>\n",
       "      <th>Servicios</th>\n",
       "      <th>Nº opiniones</th>\n",
       "    </tr>\n",
       "  </thead>\n",
       "  <tbody>\n",
       "    <tr>\n",
       "      <th>0</th>\n",
       "      <td>RESTAURANTE COREANO GANGNAM</td>\n",
       "      <td>[{'height': 2988, 'html_attributions': ['&lt;a hr...</td>\n",
       "      <td>1.0</td>\n",
       "      <td>4.4</td>\n",
       "      <td>['restaurant', 'food', 'point_of_interest', 'e...</td>\n",
       "      <td>597</td>\n",
       "    </tr>\n",
       "    <tr>\n",
       "      <th>1</th>\n",
       "      <td>RESTAURANTE KOREA</td>\n",
       "      <td>[{'height': 2773, 'html_attributions': ['&lt;a hr...</td>\n",
       "      <td>2.0</td>\n",
       "      <td>4.5</td>\n",
       "      <td>['restaurant', 'food', 'point_of_interest', 'e...</td>\n",
       "      <td>1922</td>\n",
       "    </tr>\n",
       "    <tr>\n",
       "      <th>2</th>\n",
       "      <td>GO HYANG MAT</td>\n",
       "      <td>[{'height': 3000, 'html_attributions': ['&lt;a hr...</td>\n",
       "      <td>1.0</td>\n",
       "      <td>4.5</td>\n",
       "      <td>['restaurant', 'food', 'point_of_interest', 'e...</td>\n",
       "      <td>994</td>\n",
       "    </tr>\n",
       "    <tr>\n",
       "      <th>3</th>\n",
       "      <td>RESTAURANTE MIDANG</td>\n",
       "      <td>[{'height': 1669, 'html_attributions': ['&lt;a hr...</td>\n",
       "      <td>2.0</td>\n",
       "      <td>4.7</td>\n",
       "      <td>['meal_delivery', 'restaurant', 'food', 'point...</td>\n",
       "      <td>762</td>\n",
       "    </tr>\n",
       "    <tr>\n",
       "      <th>4</th>\n",
       "      <td>RESTAURANTE MARU</td>\n",
       "      <td>[{'height': 3024, 'html_attributions': ['&lt;a hr...</td>\n",
       "      <td>2.0</td>\n",
       "      <td>4.3</td>\n",
       "      <td>['restaurant', 'food', 'point_of_interest', 'e...</td>\n",
       "      <td>848</td>\n",
       "    </tr>\n",
       "  </tbody>\n",
       "</table>\n",
       "</div>"
      ],
      "text/plain": [
       "                        Nombre  \\\n",
       "0  RESTAURANTE COREANO GANGNAM   \n",
       "1            RESTAURANTE KOREA   \n",
       "2                 GO HYANG MAT   \n",
       "3           RESTAURANTE MIDANG   \n",
       "4             RESTAURANTE MARU   \n",
       "\n",
       "                                                Foto  Precio  Puntuacion  \\\n",
       "0  [{'height': 2988, 'html_attributions': ['<a hr...     1.0         4.4   \n",
       "1  [{'height': 2773, 'html_attributions': ['<a hr...     2.0         4.5   \n",
       "2  [{'height': 3000, 'html_attributions': ['<a hr...     1.0         4.5   \n",
       "3  [{'height': 1669, 'html_attributions': ['<a hr...     2.0         4.7   \n",
       "4  [{'height': 3024, 'html_attributions': ['<a hr...     2.0         4.3   \n",
       "\n",
       "                                           Servicios  Nº opiniones  \n",
       "0  ['restaurant', 'food', 'point_of_interest', 'e...           597  \n",
       "1  ['restaurant', 'food', 'point_of_interest', 'e...          1922  \n",
       "2  ['restaurant', 'food', 'point_of_interest', 'e...           994  \n",
       "3  ['meal_delivery', 'restaurant', 'food', 'point...           762  \n",
       "4  ['restaurant', 'food', 'point_of_interest', 'e...           848  "
      ]
     },
     "execution_count": 11,
     "metadata": {},
     "output_type": "execute_result"
    }
   ],
   "source": [
    "coreano.head() "
   ]
  },
  {
   "cell_type": "markdown",
   "metadata": {},
   "source": [
    "#### Creo una función para limpiar 🫧🧹 todo de una."
   ]
  },
  {
   "cell_type": "code",
   "execution_count": 12,
   "metadata": {},
   "outputs": [],
   "source": [
    "import sys\n",
    "sys.path.append(\"..\")\n",
    "from src.funciones import *  #funciones"
   ]
  },
  {
   "cell_type": "code",
   "execution_count": 13,
   "metadata": {},
   "outputs": [],
   "source": [
    "india = clean(india) \n",
    "ita = clean(ita) \n",
    "japo = clean(japo)\n",
    "mex = clean(mex) \n",
    "peru = clean(peru)\n",
    "chino = clean(chino)"
   ]
  },
  {
   "cell_type": "code",
   "execution_count": 14,
   "metadata": {},
   "outputs": [
    {
     "data": {
      "text/html": [
       "<div>\n",
       "<style scoped>\n",
       "    .dataframe tbody tr th:only-of-type {\n",
       "        vertical-align: middle;\n",
       "    }\n",
       "\n",
       "    .dataframe tbody tr th {\n",
       "        vertical-align: top;\n",
       "    }\n",
       "\n",
       "    .dataframe thead th {\n",
       "        text-align: right;\n",
       "    }\n",
       "</style>\n",
       "<table border=\"1\" class=\"dataframe\">\n",
       "  <thead>\n",
       "    <tr style=\"text-align: right;\">\n",
       "      <th></th>\n",
       "      <th>Nombre</th>\n",
       "      <th>Foto</th>\n",
       "      <th>Precio</th>\n",
       "      <th>Puntuacion</th>\n",
       "      <th>Servicios</th>\n",
       "      <th>Nº opiniones</th>\n",
       "    </tr>\n",
       "  </thead>\n",
       "  <tbody>\n",
       "    <tr>\n",
       "      <th>0</th>\n",
       "      <td>PISCOMAR RESTAURANTE PERUANO BY JHOSEF ARIAS</td>\n",
       "      <td>[{'height': 4000, 'html_attributions': ['&lt;a hr...</td>\n",
       "      <td>2.0</td>\n",
       "      <td>4.6</td>\n",
       "      <td>['restaurant', 'food', 'point_of_interest', 'e...</td>\n",
       "      <td>4353</td>\n",
       "    </tr>\n",
       "    <tr>\n",
       "      <th>1</th>\n",
       "      <td>PE DE PISCO RESTAURANTE PERUANO</td>\n",
       "      <td>[{'height': 3024, 'html_attributions': ['&lt;a hr...</td>\n",
       "      <td>1.0</td>\n",
       "      <td>4.0</td>\n",
       "      <td>['bar', 'restaurant', 'food', 'point_of_intere...</td>\n",
       "      <td>1031</td>\n",
       "    </tr>\n",
       "    <tr>\n",
       "      <th>2</th>\n",
       "      <td>CHINCHA CASA PERÃº</td>\n",
       "      <td>[{'height': 2592, 'html_attributions': ['&lt;a hr...</td>\n",
       "      <td>2.0</td>\n",
       "      <td>4.4</td>\n",
       "      <td>['restaurant', 'food', 'point_of_interest', 'e...</td>\n",
       "      <td>1399</td>\n",
       "    </tr>\n",
       "    <tr>\n",
       "      <th>3</th>\n",
       "      <td>PISCO 41 RESTAURANTE PERUANO</td>\n",
       "      <td>[{'height': 3000, 'html_attributions': ['&lt;a hr...</td>\n",
       "      <td>2.0</td>\n",
       "      <td>4.2</td>\n",
       "      <td>['restaurant', 'food', 'point_of_interest', 'e...</td>\n",
       "      <td>992</td>\n",
       "    </tr>\n",
       "    <tr>\n",
       "      <th>4</th>\n",
       "      <td>RESTAURANTE HUACATAY</td>\n",
       "      <td>[{'height': 1192, 'html_attributions': ['&lt;a hr...</td>\n",
       "      <td>1.0</td>\n",
       "      <td>4.0</td>\n",
       "      <td>['restaurant', 'food', 'point_of_interest', 'e...</td>\n",
       "      <td>573</td>\n",
       "    </tr>\n",
       "    <tr>\n",
       "      <th>5</th>\n",
       "      <td>RESTAURANTE PERUANO SHARI'S</td>\n",
       "      <td>[{'height': 3024, 'html_attributions': ['&lt;a hr...</td>\n",
       "      <td>1.0</td>\n",
       "      <td>3.8</td>\n",
       "      <td>['restaurant', 'food', 'point_of_interest', 'e...</td>\n",
       "      <td>435</td>\n",
       "    </tr>\n",
       "    <tr>\n",
       "      <th>6</th>\n",
       "      <td>RESTAURANTE MIS TRADICIONES</td>\n",
       "      <td>[{'height': 3000, 'html_attributions': ['&lt;a hr...</td>\n",
       "      <td>2.0</td>\n",
       "      <td>4.2</td>\n",
       "      <td>['restaurant', 'food', 'point_of_interest', 'e...</td>\n",
       "      <td>2558</td>\n",
       "    </tr>\n",
       "    <tr>\n",
       "      <th>7</th>\n",
       "      <td>RESTAURANTE MIKUNA</td>\n",
       "      <td>[{'height': 3024, 'html_attributions': ['&lt;a hr...</td>\n",
       "      <td>NaN</td>\n",
       "      <td>4.5</td>\n",
       "      <td>['bar', 'restaurant', 'food', 'point_of_intere...</td>\n",
       "      <td>745</td>\n",
       "    </tr>\n",
       "    <tr>\n",
       "      <th>8</th>\n",
       "      <td>INTI DE ORO BARRIO DE LAS LETRAS</td>\n",
       "      <td>[{'height': 2624, 'html_attributions': ['&lt;a hr...</td>\n",
       "      <td>2.0</td>\n",
       "      <td>4.5</td>\n",
       "      <td>['bar', 'restaurant', 'food', 'point_of_intere...</td>\n",
       "      <td>1930</td>\n",
       "    </tr>\n",
       "    <tr>\n",
       "      <th>9</th>\n",
       "      <td>LA BUENA MESA PERÃº</td>\n",
       "      <td>[{'height': 3024, 'html_attributions': ['&lt;a hr...</td>\n",
       "      <td>1.0</td>\n",
       "      <td>4.4</td>\n",
       "      <td>['restaurant', 'food', 'point_of_interest', 'e...</td>\n",
       "      <td>483</td>\n",
       "    </tr>\n",
       "    <tr>\n",
       "      <th>10</th>\n",
       "      <td>TAMPU - RESTAURANTE PERUANO</td>\n",
       "      <td>[{'height': 427, 'html_attributions': ['&lt;a hre...</td>\n",
       "      <td>2.0</td>\n",
       "      <td>4.6</td>\n",
       "      <td>['meal_delivery', 'restaurant', 'food', 'point...</td>\n",
       "      <td>1986</td>\n",
       "    </tr>\n",
       "    <tr>\n",
       "      <th>11</th>\n",
       "      <td>FUEGO Y SABOR</td>\n",
       "      <td>[{'height': 2448, 'html_attributions': ['&lt;a hr...</td>\n",
       "      <td>NaN</td>\n",
       "      <td>4.0</td>\n",
       "      <td>['restaurant', 'food', 'point_of_interest', 'e...</td>\n",
       "      <td>1073</td>\n",
       "    </tr>\n",
       "    <tr>\n",
       "      <th>12</th>\n",
       "      <td>KECHUA</td>\n",
       "      <td>[{'height': 1152, 'html_attributions': ['&lt;a hr...</td>\n",
       "      <td>2.0</td>\n",
       "      <td>4.3</td>\n",
       "      <td>['restaurant', 'food', 'point_of_interest', 'e...</td>\n",
       "      <td>2025</td>\n",
       "    </tr>\n",
       "    <tr>\n",
       "      <th>13</th>\n",
       "      <td>INTI DE ORO CASTELLANA</td>\n",
       "      <td>[{'height': 2963, 'html_attributions': ['&lt;a hr...</td>\n",
       "      <td>2.0</td>\n",
       "      <td>4.4</td>\n",
       "      <td>['restaurant', 'food', 'point_of_interest', 'e...</td>\n",
       "      <td>1372</td>\n",
       "    </tr>\n",
       "    <tr>\n",
       "      <th>14</th>\n",
       "      <td>EL INCA</td>\n",
       "      <td>[{'height': 529, 'html_attributions': ['&lt;a hre...</td>\n",
       "      <td>2.0</td>\n",
       "      <td>4.1</td>\n",
       "      <td>['restaurant', 'food', 'point_of_interest', 'e...</td>\n",
       "      <td>775</td>\n",
       "    </tr>\n",
       "    <tr>\n",
       "      <th>15</th>\n",
       "      <td>RESTAURANTE MIS TRADICIONES</td>\n",
       "      <td>[{'height': 715, 'html_attributions': ['&lt;a hre...</td>\n",
       "      <td>2.0</td>\n",
       "      <td>4.2</td>\n",
       "      <td>['restaurant', 'food', 'point_of_interest', 'e...</td>\n",
       "      <td>1764</td>\n",
       "    </tr>\n",
       "    <tr>\n",
       "      <th>16</th>\n",
       "      <td>KAUSA MADRID 1</td>\n",
       "      <td>[{'height': 3024, 'html_attributions': ['&lt;a hr...</td>\n",
       "      <td>1.0</td>\n",
       "      <td>4.7</td>\n",
       "      <td>['restaurant', 'food', 'point_of_interest', 'e...</td>\n",
       "      <td>1839</td>\n",
       "    </tr>\n",
       "    <tr>\n",
       "      <th>17</th>\n",
       "      <td>NUESTRO MAR</td>\n",
       "      <td>[{'height': 4032, 'html_attributions': ['&lt;a hr...</td>\n",
       "      <td>1.0</td>\n",
       "      <td>4.3</td>\n",
       "      <td>['restaurant', 'food', 'point_of_interest', 'e...</td>\n",
       "      <td>541</td>\n",
       "    </tr>\n",
       "    <tr>\n",
       "      <th>18</th>\n",
       "      <td>LA ESQUINA PERUANA</td>\n",
       "      <td>[{'height': 4032, 'html_attributions': ['&lt;a hr...</td>\n",
       "      <td>1.0</td>\n",
       "      <td>4.2</td>\n",
       "      <td>['bar', 'restaurant', 'food', 'point_of_intere...</td>\n",
       "      <td>897</td>\n",
       "    </tr>\n",
       "    <tr>\n",
       "      <th>19</th>\n",
       "      <td>LA TUSHPA RESTAURANTE PERUANO</td>\n",
       "      <td>[{'height': 1536, 'html_attributions': ['&lt;a hr...</td>\n",
       "      <td>1.0</td>\n",
       "      <td>3.9</td>\n",
       "      <td>['restaurant', 'food', 'point_of_interest', 'e...</td>\n",
       "      <td>772</td>\n",
       "    </tr>\n",
       "  </tbody>\n",
       "</table>\n",
       "</div>"
      ],
      "text/plain": [
       "                                          Nombre  \\\n",
       "0   PISCOMAR RESTAURANTE PERUANO BY JHOSEF ARIAS   \n",
       "1                PE DE PISCO RESTAURANTE PERUANO   \n",
       "2                             CHINCHA CASA PERÃº   \n",
       "3                   PISCO 41 RESTAURANTE PERUANO   \n",
       "4                           RESTAURANTE HUACATAY   \n",
       "5                    RESTAURANTE PERUANO SHARI'S   \n",
       "6                    RESTAURANTE MIS TRADICIONES   \n",
       "7                             RESTAURANTE MIKUNA   \n",
       "8               INTI DE ORO BARRIO DE LAS LETRAS   \n",
       "9                            LA BUENA MESA PERÃº   \n",
       "10                   TAMPU - RESTAURANTE PERUANO   \n",
       "11                                 FUEGO Y SABOR   \n",
       "12                                        KECHUA   \n",
       "13                        INTI DE ORO CASTELLANA   \n",
       "14                                       EL INCA   \n",
       "15                   RESTAURANTE MIS TRADICIONES   \n",
       "16                                KAUSA MADRID 1   \n",
       "17                                   NUESTRO MAR   \n",
       "18                            LA ESQUINA PERUANA   \n",
       "19                 LA TUSHPA RESTAURANTE PERUANO   \n",
       "\n",
       "                                                 Foto  Precio  Puntuacion  \\\n",
       "0   [{'height': 4000, 'html_attributions': ['<a hr...     2.0         4.6   \n",
       "1   [{'height': 3024, 'html_attributions': ['<a hr...     1.0         4.0   \n",
       "2   [{'height': 2592, 'html_attributions': ['<a hr...     2.0         4.4   \n",
       "3   [{'height': 3000, 'html_attributions': ['<a hr...     2.0         4.2   \n",
       "4   [{'height': 1192, 'html_attributions': ['<a hr...     1.0         4.0   \n",
       "5   [{'height': 3024, 'html_attributions': ['<a hr...     1.0         3.8   \n",
       "6   [{'height': 3000, 'html_attributions': ['<a hr...     2.0         4.2   \n",
       "7   [{'height': 3024, 'html_attributions': ['<a hr...     NaN         4.5   \n",
       "8   [{'height': 2624, 'html_attributions': ['<a hr...     2.0         4.5   \n",
       "9   [{'height': 3024, 'html_attributions': ['<a hr...     1.0         4.4   \n",
       "10  [{'height': 427, 'html_attributions': ['<a hre...     2.0         4.6   \n",
       "11  [{'height': 2448, 'html_attributions': ['<a hr...     NaN         4.0   \n",
       "12  [{'height': 1152, 'html_attributions': ['<a hr...     2.0         4.3   \n",
       "13  [{'height': 2963, 'html_attributions': ['<a hr...     2.0         4.4   \n",
       "14  [{'height': 529, 'html_attributions': ['<a hre...     2.0         4.1   \n",
       "15  [{'height': 715, 'html_attributions': ['<a hre...     2.0         4.2   \n",
       "16  [{'height': 3024, 'html_attributions': ['<a hr...     1.0         4.7   \n",
       "17  [{'height': 4032, 'html_attributions': ['<a hr...     1.0         4.3   \n",
       "18  [{'height': 4032, 'html_attributions': ['<a hr...     1.0         4.2   \n",
       "19  [{'height': 1536, 'html_attributions': ['<a hr...     1.0         3.9   \n",
       "\n",
       "                                            Servicios  Nº opiniones  \n",
       "0   ['restaurant', 'food', 'point_of_interest', 'e...          4353  \n",
       "1   ['bar', 'restaurant', 'food', 'point_of_intere...          1031  \n",
       "2   ['restaurant', 'food', 'point_of_interest', 'e...          1399  \n",
       "3   ['restaurant', 'food', 'point_of_interest', 'e...           992  \n",
       "4   ['restaurant', 'food', 'point_of_interest', 'e...           573  \n",
       "5   ['restaurant', 'food', 'point_of_interest', 'e...           435  \n",
       "6   ['restaurant', 'food', 'point_of_interest', 'e...          2558  \n",
       "7   ['bar', 'restaurant', 'food', 'point_of_intere...           745  \n",
       "8   ['bar', 'restaurant', 'food', 'point_of_intere...          1930  \n",
       "9   ['restaurant', 'food', 'point_of_interest', 'e...           483  \n",
       "10  ['meal_delivery', 'restaurant', 'food', 'point...          1986  \n",
       "11  ['restaurant', 'food', 'point_of_interest', 'e...          1073  \n",
       "12  ['restaurant', 'food', 'point_of_interest', 'e...          2025  \n",
       "13  ['restaurant', 'food', 'point_of_interest', 'e...          1372  \n",
       "14  ['restaurant', 'food', 'point_of_interest', 'e...           775  \n",
       "15  ['restaurant', 'food', 'point_of_interest', 'e...          1764  \n",
       "16  ['restaurant', 'food', 'point_of_interest', 'e...          1839  \n",
       "17  ['restaurant', 'food', 'point_of_interest', 'e...           541  \n",
       "18  ['bar', 'restaurant', 'food', 'point_of_intere...           897  \n",
       "19  ['restaurant', 'food', 'point_of_interest', 'e...           772  "
      ]
     },
     "execution_count": 14,
     "metadata": {},
     "output_type": "execute_result"
    }
   ],
   "source": [
    "peru"
   ]
  },
  {
   "cell_type": "markdown",
   "metadata": {},
   "source": [
    "#### La talba de Caribe tiene una columna menos por lo que la funcion no se puede aplicar"
   ]
  },
  {
   "cell_type": "code",
   "execution_count": 15,
   "metadata": {},
   "outputs": [],
   "source": [
    "caribe=caribe.drop(columns=['business_status','geometry','tipo'])\n",
    "caribe.columns = ['Nombre','Foto','Puntuacion','Servicios', 'Nº opiniones']\n",
    "caribe.Nombre = caribe.Nombre.str.upper()"
   ]
  },
  {
   "cell_type": "markdown",
   "metadata": {},
   "source": [
    "#### Nuesto principal objetivo 🎯🎯 es tener todos los nombres de los restaurantes de las tablas para poder relacionarlos con la tabla de locales"
   ]
  },
  {
   "cell_type": "code",
   "execution_count": 16,
   "metadata": {},
   "outputs": [],
   "source": [
    "locales = pd.read_csv('../data/restaurantes.csv', encoding='latin1')"
   ]
  },
  {
   "cell_type": "code",
   "execution_count": 17,
   "metadata": {},
   "outputs": [],
   "source": [
    "locales.columns = ['o', 'id_local','Nombre']"
   ]
  },
  {
   "cell_type": "code",
   "execution_count": 18,
   "metadata": {},
   "outputs": [],
   "source": [
    "df_list = [caribe, japo, chino, mex, peru, india, ita]\n",
    "\n",
    "\n",
    "results = []\n",
    "\n",
    "for df in df_list:\n",
    "    result = locales.merge(df, on='Nombre', how='inner')\n",
    "    results.append(result)\n",
    "\n",
    "# Concatenar todos los resultados en un solo DataFrame\n",
    "result = pd.concat(results, ignore_index=True)"
   ]
  },
  {
   "cell_type": "code",
   "execution_count": 19,
   "metadata": {},
   "outputs": [],
   "source": [
    "result = result.drop_duplicates(subset=['id_local'], keep=False)\n"
   ]
  },
  {
   "cell_type": "code",
   "execution_count": 20,
   "metadata": {},
   "outputs": [],
   "source": [
    "result= result.drop(columns=['o','Foto'])"
   ]
  },
  {
   "cell_type": "code",
   "execution_count": 21,
   "metadata": {},
   "outputs": [
    {
     "data": {
      "text/html": [
       "<div>\n",
       "<style scoped>\n",
       "    .dataframe tbody tr th:only-of-type {\n",
       "        vertical-align: middle;\n",
       "    }\n",
       "\n",
       "    .dataframe tbody tr th {\n",
       "        vertical-align: top;\n",
       "    }\n",
       "\n",
       "    .dataframe thead th {\n",
       "        text-align: right;\n",
       "    }\n",
       "</style>\n",
       "<table border=\"1\" class=\"dataframe\">\n",
       "  <thead>\n",
       "    <tr style=\"text-align: right;\">\n",
       "      <th></th>\n",
       "      <th>id_local</th>\n",
       "      <th>Nombre</th>\n",
       "      <th>Puntuacion</th>\n",
       "      <th>Servicios</th>\n",
       "      <th>Nº opiniones</th>\n",
       "      <th>Precio</th>\n",
       "    </tr>\n",
       "  </thead>\n",
       "  <tbody>\n",
       "    <tr>\n",
       "      <th>0</th>\n",
       "      <td>17202</td>\n",
       "      <td>KABUKI</td>\n",
       "      <td>4.6</td>\n",
       "      <td>['restaurant', 'food', 'point_of_interest', 'e...</td>\n",
       "      <td>876.0</td>\n",
       "      <td>4.0</td>\n",
       "    </tr>\n",
       "    <tr>\n",
       "      <th>1</th>\n",
       "      <td>50673</td>\n",
       "      <td>KABUKI</td>\n",
       "      <td>4.6</td>\n",
       "      <td>['restaurant', 'food', 'point_of_interest', 'e...</td>\n",
       "      <td>876.0</td>\n",
       "      <td>4.0</td>\n",
       "    </tr>\n",
       "    <tr>\n",
       "      <th>2</th>\n",
       "      <td>33122</td>\n",
       "      <td>HATTORI HANZO</td>\n",
       "      <td>3.9</td>\n",
       "      <td>['restaurant', 'food', 'point_of_interest', 'e...</td>\n",
       "      <td>3484.0</td>\n",
       "      <td>2.0</td>\n",
       "    </tr>\n",
       "    <tr>\n",
       "      <th>3</th>\n",
       "      <td>78750</td>\n",
       "      <td>PILAR AKANEYA</td>\n",
       "      <td>4.8</td>\n",
       "      <td>['restaurant', 'food', 'point_of_interest', 'e...</td>\n",
       "      <td>1189.0</td>\n",
       "      <td>NaN</td>\n",
       "    </tr>\n",
       "    <tr>\n",
       "      <th>4</th>\n",
       "      <td>1792</td>\n",
       "      <td>RESTAURANTE CHINO GRAN SIGLO</td>\n",
       "      <td>4.3</td>\n",
       "      <td>['restaurant', 'food', 'point_of_interest', 'e...</td>\n",
       "      <td>636.0</td>\n",
       "      <td>1.0</td>\n",
       "    </tr>\n",
       "  </tbody>\n",
       "</table>\n",
       "</div>"
      ],
      "text/plain": [
       "   id_local                        Nombre Puntuacion  \\\n",
       "0     17202                        KABUKI        4.6   \n",
       "1     50673                        KABUKI        4.6   \n",
       "2     33122                 HATTORI HANZO        3.9   \n",
       "3     78750                 PILAR AKANEYA        4.8   \n",
       "4      1792  RESTAURANTE CHINO GRAN SIGLO        4.3   \n",
       "\n",
       "                                           Servicios  Nº opiniones  Precio  \n",
       "0  ['restaurant', 'food', 'point_of_interest', 'e...         876.0     4.0  \n",
       "1  ['restaurant', 'food', 'point_of_interest', 'e...         876.0     4.0  \n",
       "2  ['restaurant', 'food', 'point_of_interest', 'e...        3484.0     2.0  \n",
       "3  ['restaurant', 'food', 'point_of_interest', 'e...        1189.0     NaN  \n",
       "4  ['restaurant', 'food', 'point_of_interest', 'e...         636.0     1.0  "
      ]
     },
     "execution_count": 21,
     "metadata": {},
     "output_type": "execute_result"
    }
   ],
   "source": [
    "result.head()"
   ]
  },
  {
   "cell_type": "code",
   "execution_count": 22,
   "metadata": {},
   "outputs": [
    {
     "name": "stdout",
     "output_type": "stream",
     "text": [
      "<class 'pandas.core.frame.DataFrame'>\n",
      "Index: 25 entries, 0 to 54\n",
      "Data columns (total 6 columns):\n",
      " #   Column        Non-Null Count  Dtype  \n",
      "---  ------        --------------  -----  \n",
      " 0   id_local      25 non-null     int64  \n",
      " 1   Nombre        25 non-null     object \n",
      " 2   Puntuacion    25 non-null     object \n",
      " 3   Servicios     25 non-null     object \n",
      " 4   Nº opiniones  23 non-null     float64\n",
      " 5   Precio        24 non-null     float64\n",
      "dtypes: float64(2), int64(1), object(3)\n",
      "memory usage: 6.2 KB\n"
     ]
    }
   ],
   "source": [
    "result.info(memory_usage='deep')"
   ]
  },
  {
   "cell_type": "code",
   "execution_count": 23,
   "metadata": {},
   "outputs": [
    {
     "name": "stdout",
     "output_type": "stream",
     "text": [
      "<class 'pandas.core.frame.DataFrame'>\n",
      "Index: 25 entries, 0 to 54\n",
      "Data columns (total 6 columns):\n",
      " #   Column        Non-Null Count  Dtype   \n",
      "---  ------        --------------  -----   \n",
      " 0   id_local      25 non-null     int32   \n",
      " 1   Nombre        25 non-null     category\n",
      " 2   Puntuacion    25 non-null     category\n",
      " 3   Servicios     25 non-null     category\n",
      " 4   Nº opiniones  23 non-null     float32 \n",
      " 5   Precio        24 non-null     float32 \n",
      "dtypes: category(3), float32(2), int32(1)\n",
      "memory usage: 4.7 KB\n"
     ]
    }
   ],
   "source": [
    "optim(result)\n",
    "result.info(memory_usage='deep')"
   ]
  },
  {
   "cell_type": "code",
   "execution_count": 24,
   "metadata": {},
   "outputs": [],
   "source": [
    "result.to_csv('../data/Opiniones.csv',index=False)"
   ]
  },
  {
   "cell_type": "code",
   "execution_count": 25,
   "metadata": {},
   "outputs": [],
   "source": [
    "india = optim(india) \n",
    "ita = optim(ita) \n",
    "japo = optim(japo)\n",
    "mex = optim(mex) \n",
    "peru = optim(peru)\n",
    "chino = optim(chino)\n",
    "caribe = optim(caribe)"
   ]
  },
  {
   "cell_type": "code",
   "execution_count": 26,
   "metadata": {},
   "outputs": [],
   "source": [
    "india.to_json('../data/Indio.json',index=False)\n",
    "ita.to_json('../data/Italiano.json',index=False)\n",
    "japo.to_json('../data/Japonés.json',index=False)\n",
    "mex.to_json('../data/Mexicano.json',index=False)\n",
    "peru.to_json('../data/Peruano.json',index=False)\n",
    "chino.to_json('../data/Chino.json',index=False)\n",
    "caribe.to_json('../data/Caribe.json',index=False)"
   ]
  }
 ],
 "metadata": {
  "kernelspec": {
   "display_name": "clase",
   "language": "python",
   "name": "python3"
  },
  "language_info": {
   "codemirror_mode": {
    "name": "ipython",
    "version": 3
   },
   "file_extension": ".py",
   "mimetype": "text/x-python",
   "name": "python",
   "nbconvert_exporter": "python",
   "pygments_lexer": "ipython3",
   "version": "3.10.13"
  }
 },
 "nbformat": 4,
 "nbformat_minor": 2
}
