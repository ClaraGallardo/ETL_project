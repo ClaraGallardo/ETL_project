{
 "cells": [
  {
   "cell_type": "code",
   "execution_count": 1,
   "metadata": {},
   "outputs": [],
   "source": [
    "import pandas as pd"
   ]
  },
  {
   "cell_type": "markdown",
   "metadata": {},
   "source": [
    "# Limpieza tablas extraidas desde la API PLACE de Google: "
   ]
  },
  {
   "cell_type": "markdown",
   "metadata": {},
   "source": [
    "#### Todas las tablas tienen la misma estructura por lo que la misma limpieza se la aplico a todas."
   ]
  },
  {
   "cell_type": "code",
   "execution_count": 2,
   "metadata": {},
   "outputs": [],
   "source": [
    "caribe = pd.read_csv('../data/caribe.csv', encoding='latin1')\n",
    "coreano = pd.read_csv('../data/coreano.csv', encoding='latin1')\n",
    "india = pd.read_csv('../data/india.csv', encoding='latin1')\n",
    "ita = pd.read_csv('../data/ita.csv', encoding='latin1')\n",
    "japo = pd.read_csv('../data/japo.csv', encoding='latin1')\n",
    "mex = pd.read_csv('../data/mex.csv', encoding='latin1')\n",
    "peru = pd.read_csv('../data/peru.csv', encoding='latin1')"
   ]
  },
  {
   "cell_type": "code",
   "execution_count": 3,
   "metadata": {},
   "outputs": [
    {
     "name": "stdout",
     "output_type": "stream",
     "text": [
      "<class 'pandas.core.frame.DataFrame'>\n",
      "RangeIndex: 20 entries, 0 to 19\n",
      "Data columns (total 9 columns):\n",
      " #   Column              Non-Null Count  Dtype  \n",
      "---  ------              --------------  -----  \n",
      " 0   business_status     20 non-null     object \n",
      " 1   geometry            20 non-null     object \n",
      " 2   name                20 non-null     object \n",
      " 3   photos              20 non-null     object \n",
      " 4   price_level         12 non-null     float64\n",
      " 5   rating              20 non-null     float64\n",
      " 6   types               20 non-null     object \n",
      " 7   user_ratings_total  20 non-null     int64  \n",
      " 8   tipo                20 non-null     object \n",
      "dtypes: float64(2), int64(1), object(6)\n",
      "memory usage: 1.5+ KB\n"
     ]
    }
   ],
   "source": [
    "coreano.info() # Aqui veo que solo price-level tiene nulos"
   ]
  },
  {
   "cell_type": "code",
   "execution_count": 4,
   "metadata": {},
   "outputs": [
    {
     "data": {
      "text/plain": [
       "Index(['business_status', 'geometry', 'name', 'photos', 'price_level',\n",
       "       'rating', 'types', 'user_ratings_total', 'tipo'],\n",
       "      dtype='object')"
      ]
     },
     "execution_count": 4,
     "metadata": {},
     "output_type": "execute_result"
    }
   ],
   "source": [
    "coreano.columns"
   ]
  },
  {
   "cell_type": "code",
   "execution_count": 5,
   "metadata": {},
   "outputs": [],
   "source": [
    "coreano=coreano.drop(columns=['business_status','geometry','tipo'])"
   ]
  },
  {
   "cell_type": "code",
   "execution_count": 6,
   "metadata": {},
   "outputs": [],
   "source": [
    "coreano.columns = ['Nombre','Foto','Precio','Puntuacion','Servicios', 'Nº opiniones']"
   ]
  },
  {
   "cell_type": "code",
   "execution_count": 7,
   "metadata": {},
   "outputs": [],
   "source": [
    "coreano.Nombre = coreano.Nombre.str.upper()"
   ]
  },
  {
   "cell_type": "code",
   "execution_count": 8,
   "metadata": {},
   "outputs": [
    {
     "data": {
      "text/html": [
       "<div>\n",
       "<style scoped>\n",
       "    .dataframe tbody tr th:only-of-type {\n",
       "        vertical-align: middle;\n",
       "    }\n",
       "\n",
       "    .dataframe tbody tr th {\n",
       "        vertical-align: top;\n",
       "    }\n",
       "\n",
       "    .dataframe thead th {\n",
       "        text-align: right;\n",
       "    }\n",
       "</style>\n",
       "<table border=\"1\" class=\"dataframe\">\n",
       "  <thead>\n",
       "    <tr style=\"text-align: right;\">\n",
       "      <th></th>\n",
       "      <th>Nombre</th>\n",
       "      <th>Foto</th>\n",
       "      <th>Precio</th>\n",
       "      <th>Puntuacion</th>\n",
       "      <th>Servicios</th>\n",
       "      <th>Nº opiniones</th>\n",
       "    </tr>\n",
       "  </thead>\n",
       "  <tbody>\n",
       "    <tr>\n",
       "      <th>0</th>\n",
       "      <td>RESTAURANTE COREANO GANGNAM</td>\n",
       "      <td>[{'height': 2988, 'html_attributions': ['&lt;a hr...</td>\n",
       "      <td>1.0</td>\n",
       "      <td>4.4</td>\n",
       "      <td>['restaurant', 'food', 'point_of_interest', 'e...</td>\n",
       "      <td>597</td>\n",
       "    </tr>\n",
       "    <tr>\n",
       "      <th>1</th>\n",
       "      <td>RESTAURANTE KOREA</td>\n",
       "      <td>[{'height': 2773, 'html_attributions': ['&lt;a hr...</td>\n",
       "      <td>2.0</td>\n",
       "      <td>4.5</td>\n",
       "      <td>['restaurant', 'food', 'point_of_interest', 'e...</td>\n",
       "      <td>1922</td>\n",
       "    </tr>\n",
       "    <tr>\n",
       "      <th>2</th>\n",
       "      <td>GO HYANG MAT</td>\n",
       "      <td>[{'height': 3000, 'html_attributions': ['&lt;a hr...</td>\n",
       "      <td>1.0</td>\n",
       "      <td>4.5</td>\n",
       "      <td>['restaurant', 'food', 'point_of_interest', 'e...</td>\n",
       "      <td>994</td>\n",
       "    </tr>\n",
       "    <tr>\n",
       "      <th>3</th>\n",
       "      <td>RESTAURANTE MIDANG</td>\n",
       "      <td>[{'height': 1669, 'html_attributions': ['&lt;a hr...</td>\n",
       "      <td>2.0</td>\n",
       "      <td>4.7</td>\n",
       "      <td>['meal_delivery', 'restaurant', 'food', 'point...</td>\n",
       "      <td>762</td>\n",
       "    </tr>\n",
       "    <tr>\n",
       "      <th>4</th>\n",
       "      <td>RESTAURANTE MARU</td>\n",
       "      <td>[{'height': 3024, 'html_attributions': ['&lt;a hr...</td>\n",
       "      <td>2.0</td>\n",
       "      <td>4.3</td>\n",
       "      <td>['restaurant', 'food', 'point_of_interest', 'e...</td>\n",
       "      <td>847</td>\n",
       "    </tr>\n",
       "  </tbody>\n",
       "</table>\n",
       "</div>"
      ],
      "text/plain": [
       "                        Nombre  \\\n",
       "0  RESTAURANTE COREANO GANGNAM   \n",
       "1            RESTAURANTE KOREA   \n",
       "2                 GO HYANG MAT   \n",
       "3           RESTAURANTE MIDANG   \n",
       "4             RESTAURANTE MARU   \n",
       "\n",
       "                                                Foto  Precio  Puntuacion  \\\n",
       "0  [{'height': 2988, 'html_attributions': ['<a hr...     1.0         4.4   \n",
       "1  [{'height': 2773, 'html_attributions': ['<a hr...     2.0         4.5   \n",
       "2  [{'height': 3000, 'html_attributions': ['<a hr...     1.0         4.5   \n",
       "3  [{'height': 1669, 'html_attributions': ['<a hr...     2.0         4.7   \n",
       "4  [{'height': 3024, 'html_attributions': ['<a hr...     2.0         4.3   \n",
       "\n",
       "                                           Servicios  Nº opiniones  \n",
       "0  ['restaurant', 'food', 'point_of_interest', 'e...           597  \n",
       "1  ['restaurant', 'food', 'point_of_interest', 'e...          1922  \n",
       "2  ['restaurant', 'food', 'point_of_interest', 'e...           994  \n",
       "3  ['meal_delivery', 'restaurant', 'food', 'point...           762  \n",
       "4  ['restaurant', 'food', 'point_of_interest', 'e...           847  "
      ]
     },
     "execution_count": 8,
     "metadata": {},
     "output_type": "execute_result"
    }
   ],
   "source": [
    "coreano.head() "
   ]
  },
  {
   "cell_type": "markdown",
   "metadata": {},
   "source": [
    "#### Creo una función para limpiar 🫧🧹 todo de una."
   ]
  },
  {
   "cell_type": "code",
   "execution_count": 9,
   "metadata": {},
   "outputs": [],
   "source": [
    "import sys\n",
    "sys.path.append(\"..\")\n",
    "from src.funciones import *  #funciones"
   ]
  },
  {
   "cell_type": "code",
   "execution_count": 10,
   "metadata": {},
   "outputs": [],
   "source": [
    "india = clean(india) \n",
    "ita = clean(ita) \n",
    "japo = clean(japo)\n",
    "mex = clean(mex) \n",
    "peru = clean(peru)"
   ]
  },
  {
   "cell_type": "markdown",
   "metadata": {},
   "source": [
    "#### La talba de Caribe tiene una columna menos por lo que la funcion no se puede aplicar"
   ]
  },
  {
   "cell_type": "code",
   "execution_count": 11,
   "metadata": {},
   "outputs": [],
   "source": [
    "caribe=caribe.drop(columns=['business_status','geometry','tipo'])\n",
    "caribe.columns = ['Nombre','Foto','Puntuacion','Servicios', 'Nº opiniones']\n",
    "caribe.Nombre = caribe.Nombre.str.upper()"
   ]
  },
  {
   "cell_type": "markdown",
   "metadata": {},
   "source": [
    "#### Nuesto principal objetivo 🎯🎯 es tener todos los nombres de los restaurantes de las tablas para poder relacionarlos con la tabla de locales"
   ]
  },
  {
   "cell_type": "markdown",
   "metadata": {},
   "source": []
  }
 ],
 "metadata": {
  "kernelspec": {
   "display_name": "clase",
   "language": "python",
   "name": "python3"
  },
  "language_info": {
   "codemirror_mode": {
    "name": "ipython",
    "version": 3
   },
   "file_extension": ".py",
   "mimetype": "text/x-python",
   "name": "python",
   "nbconvert_exporter": "python",
   "pygments_lexer": "ipython3",
   "version": "3.10.13"
  }
 },
 "nbformat": 4,
 "nbformat_minor": 2
}
