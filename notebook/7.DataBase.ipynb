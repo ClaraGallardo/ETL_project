{
 "cells": [
  {
   "cell_type": "code",
   "execution_count": 19,
   "metadata": {},
   "outputs": [],
   "source": [
    "from pymongo import MongoClient\n",
    "import os\n",
    "import json"
   ]
  },
  {
   "cell_type": "markdown",
   "metadata": {},
   "source": [
    "# Subimos nuestros data a Mongo."
   ]
  },
  {
   "cell_type": "code",
   "execution_count": 20,
   "metadata": {},
   "outputs": [],
   "source": [
    "cursor=MongoClient('mongodb://localhost:27017')"
   ]
  },
  {
   "cell_type": "code",
   "execution_count": 21,
   "metadata": {},
   "outputs": [],
   "source": [
    "db = MongoClient[\"restaurantes\"]\n",
    "\n",
    "\n",
    "collection_name = \"mi_coleccion\""
   ]
  },
  {
   "cell_type": "code",
   "execution_count": 25,
   "metadata": {},
   "outputs": [
    {
     "ename": "TypeError",
     "evalue": "pymongo.mongo_client.MongoClient[ForwardRef('restaurantes')] is not a generic class",
     "output_type": "error",
     "traceback": [
      "\u001b[1;31m---------------------------------------------------------------------------\u001b[0m",
      "\u001b[1;31mTypeError\u001b[0m                                 Traceback (most recent call last)",
      "\u001b[1;32mc:\\Users\\Usuario\\ironhack\\proyectos\\MyETL_project\\notebook\\7.DataBase.ipynb Cell 5\u001b[0m line \u001b[0;36m1\n\u001b[0;32m     <a href='vscode-notebook-cell:/c%3A/Users/Usuario/ironhack/proyectos/MyETL_project/notebook/7.DataBase.ipynb#W6sZmlsZQ%3D%3D?line=10'>11</a>\u001b[0m db \u001b[39m=\u001b[39m MongoClient[\u001b[39m\"\u001b[39m\u001b[39mrestaurantes\u001b[39m\u001b[39m\"\u001b[39m]\n\u001b[0;32m     <a href='vscode-notebook-cell:/c%3A/Users/Usuario/ironhack/proyectos/MyETL_project/notebook/7.DataBase.ipynb#W6sZmlsZQ%3D%3D?line=12'>13</a>\u001b[0m \u001b[39m# Inserta los documentos en la colección \"mi_coleccion\" de la base de datos \"restaurantes\"\u001b[39;00m\n\u001b[1;32m---> <a href='vscode-notebook-cell:/c%3A/Users/Usuario/ironhack/proyectos/MyETL_project/notebook/7.DataBase.ipynb#W6sZmlsZQ%3D%3D?line=13'>14</a>\u001b[0m db[collection_name]\u001b[39m.\u001b[39minsert_many(documents)\n",
      "File \u001b[1;32mc:\\Users\\Usuario\\anaconda3\\envs\\clase\\lib\\typing.py:312\u001b[0m, in \u001b[0;36m_tp_cache.<locals>.decorator.<locals>.inner\u001b[1;34m(*args, **kwds)\u001b[0m\n\u001b[0;32m    310\u001b[0m \u001b[39mexcept\u001b[39;00m \u001b[39mTypeError\u001b[39;00m:\n\u001b[0;32m    311\u001b[0m     \u001b[39mpass\u001b[39;00m  \u001b[39m# All real errors (not unhashable args) are raised below.\u001b[39;00m\n\u001b[1;32m--> 312\u001b[0m \u001b[39mreturn\u001b[39;00m func(\u001b[39m*\u001b[39margs, \u001b[39m*\u001b[39m\u001b[39m*\u001b[39mkwds)\n",
      "File \u001b[1;32mc:\\Users\\Usuario\\anaconda3\\envs\\clase\\lib\\typing.py:1058\u001b[0m, in \u001b[0;36m_GenericAlias.__getitem__\u001b[1;34m(self, params)\u001b[0m\n\u001b[0;32m   1056\u001b[0m     params \u001b[39m=\u001b[39m _prepare_paramspec_params(\u001b[39mself\u001b[39m, params)\n\u001b[0;32m   1057\u001b[0m \u001b[39melse\u001b[39;00m:\n\u001b[1;32m-> 1058\u001b[0m     _check_generic(\u001b[39mself\u001b[39;49m, params, \u001b[39mlen\u001b[39;49m(\u001b[39mself\u001b[39;49m\u001b[39m.\u001b[39;49m__parameters__))\n\u001b[0;32m   1060\u001b[0m subst \u001b[39m=\u001b[39m \u001b[39mdict\u001b[39m(\u001b[39mzip\u001b[39m(\u001b[39mself\u001b[39m\u001b[39m.\u001b[39m__parameters__, params))\n\u001b[0;32m   1061\u001b[0m new_args \u001b[39m=\u001b[39m []\n",
      "File \u001b[1;32mc:\\Users\\Usuario\\anaconda3\\envs\\clase\\lib\\typing.py:228\u001b[0m, in \u001b[0;36m_check_generic\u001b[1;34m(cls, parameters, elen)\u001b[0m\n\u001b[0;32m    224\u001b[0m \u001b[39m\u001b[39m\u001b[39m\"\"\"Check correct count for parameters of a generic cls (internal helper).\u001b[39;00m\n\u001b[0;32m    225\u001b[0m \u001b[39mThis gives a nice error message in case of count mismatch.\u001b[39;00m\n\u001b[0;32m    226\u001b[0m \u001b[39m\"\"\"\u001b[39;00m\n\u001b[0;32m    227\u001b[0m \u001b[39mif\u001b[39;00m \u001b[39mnot\u001b[39;00m elen:\n\u001b[1;32m--> 228\u001b[0m     \u001b[39mraise\u001b[39;00m \u001b[39mTypeError\u001b[39;00m(\u001b[39mf\u001b[39m\u001b[39m\"\u001b[39m\u001b[39m{\u001b[39;00m\u001b[39mcls\u001b[39m\u001b[39m}\u001b[39;00m\u001b[39m is not a generic class\u001b[39m\u001b[39m\"\u001b[39m)\n\u001b[0;32m    229\u001b[0m alen \u001b[39m=\u001b[39m \u001b[39mlen\u001b[39m(parameters)\n\u001b[0;32m    230\u001b[0m \u001b[39mif\u001b[39;00m alen \u001b[39m!=\u001b[39m elen:\n",
      "\u001b[1;31mTypeError\u001b[0m: pymongo.mongo_client.MongoClient[ForwardRef('restaurantes')] is not a generic class"
     ]
    }
   ],
   "source": [
    "documents=[]\n",
    "\n",
    "for filename in os.listdir('../data/'):\n",
    "    if filename.endswith(\".json\"):\n",
    "        file_path = os.path.join('../data/', filename)\n",
    "        with open(file_path, \"r\") as file:\n",
    "            data = json.load(file)\n",
    "            documents.append(data)\n",
    "\n",
    "# Accede a la base de datos \"restaurantes\" (implícitamente)\n",
    "db = MongoClient[\"restaurantes\"]\n",
    "\n",
    "# Inserta los documentos en la colección \"mi_coleccion\" de la base de datos \"restaurantes\"\n",
    "db[collection_name].insert_many(documents)"
   ]
  }
 ],
 "metadata": {
  "kernelspec": {
   "display_name": "clase",
   "language": "python",
   "name": "python3"
  },
  "language_info": {
   "codemirror_mode": {
    "name": "ipython",
    "version": 3
   },
   "file_extension": ".py",
   "mimetype": "text/x-python",
   "name": "python",
   "nbconvert_exporter": "python",
   "pygments_lexer": "ipython3",
   "version": "3.10.13"
  }
 },
 "nbformat": 4,
 "nbformat_minor": 2
}
