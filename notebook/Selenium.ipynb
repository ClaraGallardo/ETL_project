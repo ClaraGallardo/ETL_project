{
 "cells": [
  {
   "cell_type": "code",
   "execution_count": 1,
   "metadata": {},
   "outputs": [],
   "source": [
    "import time\n",
    "import pandas as pd\n",
    "import warnings\n",
    "warnings.filterwarnings('ignore')\n",
    "\n",
    "import asyncio\n",
    "from tqdm.notebook import tqdm\n",
    "\n",
    "from selenium import webdriver\n",
    "from webdriver_manager.chrome import ChromeDriverManager\n",
    "from selenium.webdriver.common.by import By\n",
    "from selenium.webdriver.support.ui import Select\n",
    "\n",
    "driver = webdriver.Chrome()"
   ]
  },
  {
   "cell_type": "code",
   "execution_count": 2,
   "metadata": {},
   "outputs": [],
   "source": [
    "def asincrono(funcion):\n",
    "    \n",
    "    def eventos(*args, **kwargs):\n",
    "        return asyncio.get_event_loop().run_in_executor(None, funcion, *args, **kwargs)\n",
    "    \n",
    "    return eventos"
   ]
  },
  {
   "cell_type": "code",
   "execution_count": 3,
   "metadata": {},
   "outputs": [],
   "source": [
    "tabla=[]"
   ]
  },
  {
   "cell_type": "code",
   "execution_count": 4,
   "metadata": {},
   "outputs": [],
   "source": [
    "\n",
    "def extraer(url):\n",
    "    \n",
    "    global tabla\n",
    "    \n",
    "    # paso 1\n",
    "    # inicia un driver\n",
    "    driver = webdriver.Chrome()\n",
    "    driver.get(url)\n",
    "    \n",
    "    time.sleep(2)\n",
    "    \n",
    "    \n",
    "    # paso 2, cookies:\n",
    "    \n",
    "    time.sleep(2)\n",
    "\n",
    "    try:\n",
    "        aceptar=driver.find_element(By.XPATH,'//*[@id=\"onetrust-accept-btn-handler\"]')\n",
    "\n",
    "        aceptar.click()\n",
    "    \n",
    "    except:\n",
    "        print('Ya')\n",
    "\n",
    "    # paso 3 obtener tabla:\n",
    "\n",
    "    time.sleep(3)\n",
    " \n",
    "    try:\n",
    "\n",
    "        tarjetas=[]\n",
    "        for e in range(len(driver.find_elements(By.TAG_NAME,'header'))):\n",
    "                \n",
    "            box=driver.find_elements(By.TAG_NAME,'header')[e].text.split('\\n')\n",
    "            tarjetas.append(box)\n",
    "    except:\n",
    "\n",
    "        print('Algo fallo en la obtención de las tablas')\n",
    "            \n",
    "\n",
    "    # paso 4 concatenamos las tablas:\n",
    "\n",
    "    tabla+=tarjetas"
   ]
  },
  {
   "cell_type": "code",
   "execution_count": 5,
   "metadata": {},
   "outputs": [],
   "source": [
    "url1='https://www.tripadvisor.es/FindRestaurants?geo=187514&cuisines=10749%2C10639%2C10659%2C4617%2C5473%2C10653%2C5110%2C5379%2C10698%2C10631%2C10715%2C10772%2C5086%2C20076%2C10687%2C10346%2C10660%2C20062%2C10622%2C10757%2C10661%2C20069%2C10348%2C10347%2C10626%2C10791%2C10633%2C10692%2C20066%2C10680%2C10744%2C10632%2C10752%2C20068%2C20067%2C11744%2C10618%2C11739%2C10769%2C10742%2C10765%2C10753%2C10732%2C10635%2C10767%2C10662%2C10693%2C10695%2C10664%2C10636%2C10617%2C10628%2C21363%2C10675%2C20074%2C10696%2C10748%2C10756%2C10690%2C10681%2C10717%2C10747%2C10784%2C10775%2C10766%2C10755&establishmentTypes=10591&broadened=false'\n",
    "extraer(url1)\n",
    "url2='https://www.tripadvisor.es/FindRestaurants?geo=187514&offset=30&cuisines=10749%2C10639%2C10659%2C4617%2C5473%2C10653%2C5110%2C5379%2C10698%2C10631%2C10715%2C10772%2C5086%2C20076%2C10687%2C10346%2C10660%2C20062%2C10622%2C10757%2C10661%2C20069%2C10348%2C10347%2C10626%2C10791%2C10633%2C10692%2C20066%2C10680%2C10744%2C10632%2C10752%2C20068%2C20067%2C11744%2C10618%2C11739%2C10769%2C10742%2C10765%2C10753%2C10732%2C10635%2C10767%2C10662%2C10693%2C10695%2C10664%2C10636%2C10617%2C10628%2C21363%2C10675%2C20074%2C10696%2C10748%2C10756%2C10690%2C10681%2C10717%2C10747%2C10784%2C10775%2C10766%2C10755&establishmentTypes=10591&broadened=false'\n",
    "extraer(url2)\n",
    "url3='https://www.tripadvisor.es/FindRestaurants?geo=187514&offset=60&cuisines=10749%2C10639%2C10659%2C4617%2C5473%2C10653%2C5110%2C5379%2C10698%2C10631%2C10715%2C10772%2C5086%2C20076%2C10687%2C10346%2C10660%2C20062%2C10622%2C10757%2C10661%2C20069%2C10348%2C10347%2C10626%2C10791%2C10633%2C10692%2C20066%2C10680%2C10744%2C10632%2C10752%2C20068%2C20067%2C11744%2C10618%2C11739%2C10769%2C10742%2C10765%2C10753%2C10732%2C10635%2C10767%2C10662%2C10693%2C10695%2C10664%2C10636%2C10617%2C10628%2C21363%2C10675%2C20074%2C10696%2C10748%2C10756%2C10690%2C10681%2C10717%2C10747%2C10784%2C10775%2C10766%2C10755&establishmentTypes=10591&broadened=false'\n",
    "extraer(url3)\n",
    "url4='https://www.tripadvisor.es/FindRestaurants?geo=187514&offset=90&cuisines=10749%2C10639%2C10659%2C4617%2C5473%2C10653%2C5110%2C5379%2C10698%2C10631%2C10715%2C10772%2C5086%2C20076%2C10687%2C10346%2C10660%2C20062%2C10622%2C10757%2C10661%2C20069%2C10348%2C10347%2C10626%2C10791%2C10633%2C10692%2C20066%2C10680%2C10744%2C10632%2C10752%2C20068%2C20067%2C11744%2C10618%2C11739%2C10769%2C10742%2C10765%2C10753%2C10732%2C10635%2C10767%2C10662%2C10693%2C10695%2C10664%2C10636%2C10617%2C10628%2C21363%2C10675%2C20074%2C10696%2C10748%2C10756%2C10690%2C10681%2C10717%2C10747%2C10784%2C10775%2C10766%2C10755&establishmentTypes=10591&broadened=false'\n",
    "extraer(url4)\n",
    "url5='https://www.tripadvisor.es/FindRestaurants?geo=187514&offset=90&cuisines=10749%2C10639%2C10659%2C4617%2C5473%2C10653%2C5110%2C5379%2C10698%2C10631%2C10715%2C10772%2C5086%2C20076%2C10687%2C10346%2C10660%2C20062%2C10622%2C10757%2C10661%2C20069%2C10348%2C10347%2C10626%2C10791%2C10633%2C10692%2C20066%2C10680%2C10744%2C10632%2C10752%2C20068%2C20067%2C11744%2C10618%2C11739%2C10769%2C10742%2C10765%2C10753%2C10732%2C10635%2C10767%2C10662%2C10693%2C10695%2C10664%2C10636%2C10617%2C10628%2C21363%2C10675%2C20074%2C10696%2C10748%2C10756%2C10690%2C10681%2C10717%2C10747%2C10784%2C10775%2C10766%2C10755&establishmentTypes=10591&broadened=false'\n",
    "extraer(url5)\n"
   ]
  },
  {
   "cell_type": "code",
   "execution_count": 10,
   "metadata": {},
   "outputs": [],
   "source": [
    "data=pd.DataFrame(tabla)"
   ]
  },
  {
   "cell_type": "code",
   "execution_count": 11,
   "metadata": {},
   "outputs": [
    {
     "data": {
      "text/html": [
       "<div>\n",
       "<style scoped>\n",
       "    .dataframe tbody tr th:only-of-type {\n",
       "        vertical-align: middle;\n",
       "    }\n",
       "\n",
       "    .dataframe tbody tr th {\n",
       "        vertical-align: top;\n",
       "    }\n",
       "\n",
       "    .dataframe thead th {\n",
       "        text-align: right;\n",
       "    }\n",
       "</style>\n",
       "<table border=\"1\" class=\"dataframe\">\n",
       "  <thead>\n",
       "    <tr style=\"text-align: right;\">\n",
       "      <th></th>\n",
       "      <th>0</th>\n",
       "      <th>1</th>\n",
       "      <th>2</th>\n",
       "      <th>3</th>\n",
       "      <th>4</th>\n",
       "      <th>5</th>\n",
       "    </tr>\n",
       "  </thead>\n",
       "  <tbody>\n",
       "    <tr>\n",
       "      <th>0</th>\n",
       "      <td>Descubrir</td>\n",
       "      <td>Viajes</td>\n",
       "      <td>Comunidad</td>\n",
       "      <td>Iniciar sesión</td>\n",
       "      <td>None</td>\n",
       "      <td>None</td>\n",
       "    </tr>\n",
       "    <tr>\n",
       "      <th>1</th>\n",
       "      <td>1. Pizzart Fuencarral</td>\n",
       "      <td>897 opinionesAbierto ahora</td>\n",
       "      <td>Italiana, Pizza€€ - €€€Carta</td>\n",
       "      <td>None</td>\n",
       "      <td>None</td>\n",
       "      <td>None</td>\n",
       "    </tr>\n",
       "    <tr>\n",
       "      <th>2</th>\n",
       "      <td>2. Maximo's</td>\n",
       "      <td>267 opinionesCerrado ahora</td>\n",
       "      <td>Japonesa, Sushi€€ - €€€Carta</td>\n",
       "      <td>None</td>\n",
       "      <td>None</td>\n",
       "      <td>None</td>\n",
       "    </tr>\n",
       "    <tr>\n",
       "      <th>3</th>\n",
       "      <td>3. Ornella Velázquez</td>\n",
       "      <td>2282 opinionesAbierto ahora</td>\n",
       "      <td>Italiana, Mediterránea€€ - €€€Carta</td>\n",
       "      <td>None</td>\n",
       "      <td>None</td>\n",
       "      <td>None</td>\n",
       "    </tr>\n",
       "    <tr>\n",
       "      <th>4</th>\n",
       "      <td>4. Smok Mok</td>\n",
       "      <td>103 opinionesAbierto ahora</td>\n",
       "      <td>Japonesa, Asiática€</td>\n",
       "      <td>None</td>\n",
       "      <td>None</td>\n",
       "      <td>None</td>\n",
       "    </tr>\n",
       "  </tbody>\n",
       "</table>\n",
       "</div>"
      ],
      "text/plain": [
       "                       0                            1  \\\n",
       "0              Descubrir                       Viajes   \n",
       "1  1. Pizzart Fuencarral   897 opinionesAbierto ahora   \n",
       "2            2. Maximo's   267 opinionesCerrado ahora   \n",
       "3   3. Ornella Velázquez  2282 opinionesAbierto ahora   \n",
       "4            4. Smok Mok   103 opinionesAbierto ahora   \n",
       "\n",
       "                                     2               3     4     5  \n",
       "0                            Comunidad  Iniciar sesión  None  None  \n",
       "1         Italiana, Pizza€€ - €€€Carta            None  None  None  \n",
       "2         Japonesa, Sushi€€ - €€€Carta            None  None  None  \n",
       "3  Italiana, Mediterránea€€ - €€€Carta            None  None  None  \n",
       "4                  Japonesa, Asiática€            None  None  None  "
      ]
     },
     "execution_count": 11,
     "metadata": {},
     "output_type": "execute_result"
    }
   ],
   "source": [
    "data.head()"
   ]
  },
  {
   "cell_type": "code",
   "execution_count": 16,
   "metadata": {},
   "outputs": [],
   "source": [
    "data.to_csv('Tripadvisor', index=False)"
   ]
  },
  {
   "cell_type": "code",
   "execution_count": null,
   "metadata": {},
   "outputs": [],
   "source": []
  }
 ],
 "metadata": {
  "kernelspec": {
   "display_name": "clase",
   "language": "python",
   "name": "python3"
  },
  "language_info": {
   "codemirror_mode": {
    "name": "ipython",
    "version": 3
   },
   "file_extension": ".py",
   "mimetype": "text/x-python",
   "name": "python",
   "nbconvert_exporter": "python",
   "pygments_lexer": "ipython3",
   "version": "3.10.13"
  }
 },
 "nbformat": 4,
 "nbformat_minor": 2
}
