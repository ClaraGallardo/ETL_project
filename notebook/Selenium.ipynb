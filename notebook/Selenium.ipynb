{
 "cells": [
  {
   "cell_type": "code",
   "execution_count": 1,
   "metadata": {},
   "outputs": [],
   "source": [
    "import time\n",
    "import pandas as pd\n",
    "import warnings\n",
    "warnings.filterwarnings('ignore')\n",
    "\n",
    "import asyncio\n",
    "from tqdm.notebook import tqdm\n",
    "\n",
    "from selenium import webdriver\n",
    "from webdriver_manager.chrome import ChromeDriverManager\n",
    "from selenium.webdriver.common.by import By\n",
    "from selenium.webdriver.support.ui import Select\n",
    "\n",
    "driver = webdriver.Chrome()\n",
    "\n",
    "import sys\n",
    "sys.path.append(\"..\")\n",
    "from src.testfunciones import *"
   ]
  },
  {
   "cell_type": "code",
   "execution_count": 2,
   "metadata": {},
   "outputs": [],
   "source": [
    "def asincrono(funcion):\n",
    "    \n",
    "    def eventos(*args, **kwargs):\n",
    "        return asyncio.get_event_loop().run_in_executor(None, funcion, *args, **kwargs)\n",
    "    \n",
    "    return eventos"
   ]
  },
  {
   "cell_type": "code",
   "execution_count": 3,
   "metadata": {},
   "outputs": [
    {
     "ename": "NameError",
     "evalue": "name 'tabla' is not defined",
     "output_type": "error",
     "traceback": [
      "\u001b[1;31m---------------------------------------------------------------------------\u001b[0m",
      "\u001b[1;31mNameError\u001b[0m                                 Traceback (most recent call last)",
      "\u001b[1;32mc:\\Users\\Usuario\\ironhack\\proyectos\\MyETL_project\\notebook\\Selenium.ipynb Cell 3\u001b[0m line \u001b[0;36m4\n\u001b[0;32m      <a href='vscode-notebook-cell:/c%3A/Users/Usuario/ironhack/proyectos/MyETL_project/notebook/Selenium.ipynb#W2sZmlsZQ%3D%3D?line=0'>1</a>\u001b[0m tabla\u001b[39m=\u001b[39m[]\n\u001b[0;32m      <a href='vscode-notebook-cell:/c%3A/Users/Usuario/ironhack/proyectos/MyETL_project/notebook/Selenium.ipynb#W2sZmlsZQ%3D%3D?line=2'>3</a>\u001b[0m url1\u001b[39m=\u001b[39m\u001b[39m'\u001b[39m\u001b[39mhttps://www.tripadvisor.es/FindRestaurants?geo=187514&cuisines=10749\u001b[39m\u001b[39m%\u001b[39m\u001b[39m2C10639\u001b[39m\u001b[39m%\u001b[39m\u001b[39m2C10659\u001b[39m\u001b[39m%\u001b[39m\u001b[39m2C4617\u001b[39m\u001b[39m%\u001b[39m\u001b[39m2C5473\u001b[39m\u001b[39m%\u001b[39m\u001b[39m2C10653\u001b[39m\u001b[39m%\u001b[39m\u001b[39m2C5110\u001b[39m\u001b[39m%\u001b[39m\u001b[39m2C5379\u001b[39m\u001b[39m%\u001b[39m\u001b[39m2C10698\u001b[39m\u001b[39m%\u001b[39m\u001b[39m2C10631\u001b[39m\u001b[39m%\u001b[39m\u001b[39m2C10715\u001b[39m\u001b[39m%\u001b[39m\u001b[39m2C10772\u001b[39m\u001b[39m%\u001b[39m\u001b[39m2C5086\u001b[39m\u001b[39m%\u001b[39m\u001b[39m2C20076\u001b[39m\u001b[39m%\u001b[39m\u001b[39m2C10687\u001b[39m\u001b[39m%\u001b[39m\u001b[39m2C10346\u001b[39m\u001b[39m%\u001b[39m\u001b[39m2C10660\u001b[39m\u001b[39m%\u001b[39m\u001b[39m2C20062\u001b[39m\u001b[39m%\u001b[39m\u001b[39m2C10622\u001b[39m\u001b[39m%\u001b[39m\u001b[39m2C10757\u001b[39m\u001b[39m%\u001b[39m\u001b[39m2C10661\u001b[39m\u001b[39m%\u001b[39m\u001b[39m2C20069\u001b[39m\u001b[39m%\u001b[39m\u001b[39m2C10348\u001b[39m\u001b[39m%\u001b[39m\u001b[39m2C10347\u001b[39m\u001b[39m%\u001b[39m\u001b[39m2C10626\u001b[39m\u001b[39m%\u001b[39m\u001b[39m2C10791\u001b[39m\u001b[39m%\u001b[39m\u001b[39m2C10633\u001b[39m\u001b[39m%\u001b[39m\u001b[39m2C10692\u001b[39m\u001b[39m%\u001b[39m\u001b[39m2C20066\u001b[39m\u001b[39m%\u001b[39m\u001b[39m2C10680\u001b[39m\u001b[39m%\u001b[39m\u001b[39m2C10744\u001b[39m\u001b[39m%\u001b[39m\u001b[39m2C10632\u001b[39m\u001b[39m%\u001b[39m\u001b[39m2C10752\u001b[39m\u001b[39m%\u001b[39m\u001b[39m2C20068\u001b[39m\u001b[39m%\u001b[39m\u001b[39m2C20067\u001b[39m\u001b[39m%\u001b[39m\u001b[39m2C11744\u001b[39m\u001b[39m%\u001b[39m\u001b[39m2C10618\u001b[39m\u001b[39m%\u001b[39m\u001b[39m2C11739\u001b[39m\u001b[39m%\u001b[39m\u001b[39m2C10769\u001b[39m\u001b[39m%\u001b[39m\u001b[39m2C10742\u001b[39m\u001b[39m%\u001b[39m\u001b[39m2C10765\u001b[39m\u001b[39m%\u001b[39m\u001b[39m2C10753\u001b[39m\u001b[39m%\u001b[39m\u001b[39m2C10732\u001b[39m\u001b[39m%\u001b[39m\u001b[39m2C10635\u001b[39m\u001b[39m%\u001b[39m\u001b[39m2C10767\u001b[39m\u001b[39m%\u001b[39m\u001b[39m2C10662\u001b[39m\u001b[39m%\u001b[39m\u001b[39m2C10693\u001b[39m\u001b[39m%\u001b[39m\u001b[39m2C10695\u001b[39m\u001b[39m%\u001b[39m\u001b[39m2C10664\u001b[39m\u001b[39m%\u001b[39m\u001b[39m2C10636\u001b[39m\u001b[39m%\u001b[39m\u001b[39m2C10617\u001b[39m\u001b[39m%\u001b[39m\u001b[39m2C10628\u001b[39m\u001b[39m%\u001b[39m\u001b[39m2C21363\u001b[39m\u001b[39m%\u001b[39m\u001b[39m2C10675\u001b[39m\u001b[39m%\u001b[39m\u001b[39m2C20074\u001b[39m\u001b[39m%\u001b[39m\u001b[39m2C10696\u001b[39m\u001b[39m%\u001b[39m\u001b[39m2C10748\u001b[39m\u001b[39m%\u001b[39m\u001b[39m2C10756\u001b[39m\u001b[39m%\u001b[39m\u001b[39m2C10690\u001b[39m\u001b[39m%\u001b[39m\u001b[39m2C10681\u001b[39m\u001b[39m%\u001b[39m\u001b[39m2C10717\u001b[39m\u001b[39m%\u001b[39m\u001b[39m2C10747\u001b[39m\u001b[39m%\u001b[39m\u001b[39m2C10784\u001b[39m\u001b[39m%\u001b[39m\u001b[39m2C10775\u001b[39m\u001b[39m%\u001b[39m\u001b[39m2C10766\u001b[39m\u001b[39m%\u001b[39m\u001b[39m2C10755&establishmentTypes=10591&broadened=false\u001b[39m\u001b[39m'\u001b[39m\n\u001b[1;32m----> <a href='vscode-notebook-cell:/c%3A/Users/Usuario/ironhack/proyectos/MyETL_project/notebook/Selenium.ipynb#W2sZmlsZQ%3D%3D?line=3'>4</a>\u001b[0m extraer(url1)\n\u001b[0;32m      <a href='vscode-notebook-cell:/c%3A/Users/Usuario/ironhack/proyectos/MyETL_project/notebook/Selenium.ipynb#W2sZmlsZQ%3D%3D?line=4'>5</a>\u001b[0m url2\u001b[39m=\u001b[39m\u001b[39m'\u001b[39m\u001b[39mhttps://www.tripadvisor.es/FindRestaurants?geo=187514&offset=30&cuisines=10749\u001b[39m\u001b[39m%\u001b[39m\u001b[39m2C10639\u001b[39m\u001b[39m%\u001b[39m\u001b[39m2C10659\u001b[39m\u001b[39m%\u001b[39m\u001b[39m2C4617\u001b[39m\u001b[39m%\u001b[39m\u001b[39m2C5473\u001b[39m\u001b[39m%\u001b[39m\u001b[39m2C10653\u001b[39m\u001b[39m%\u001b[39m\u001b[39m2C5110\u001b[39m\u001b[39m%\u001b[39m\u001b[39m2C5379\u001b[39m\u001b[39m%\u001b[39m\u001b[39m2C10698\u001b[39m\u001b[39m%\u001b[39m\u001b[39m2C10631\u001b[39m\u001b[39m%\u001b[39m\u001b[39m2C10715\u001b[39m\u001b[39m%\u001b[39m\u001b[39m2C10772\u001b[39m\u001b[39m%\u001b[39m\u001b[39m2C5086\u001b[39m\u001b[39m%\u001b[39m\u001b[39m2C20076\u001b[39m\u001b[39m%\u001b[39m\u001b[39m2C10687\u001b[39m\u001b[39m%\u001b[39m\u001b[39m2C10346\u001b[39m\u001b[39m%\u001b[39m\u001b[39m2C10660\u001b[39m\u001b[39m%\u001b[39m\u001b[39m2C20062\u001b[39m\u001b[39m%\u001b[39m\u001b[39m2C10622\u001b[39m\u001b[39m%\u001b[39m\u001b[39m2C10757\u001b[39m\u001b[39m%\u001b[39m\u001b[39m2C10661\u001b[39m\u001b[39m%\u001b[39m\u001b[39m2C20069\u001b[39m\u001b[39m%\u001b[39m\u001b[39m2C10348\u001b[39m\u001b[39m%\u001b[39m\u001b[39m2C10347\u001b[39m\u001b[39m%\u001b[39m\u001b[39m2C10626\u001b[39m\u001b[39m%\u001b[39m\u001b[39m2C10791\u001b[39m\u001b[39m%\u001b[39m\u001b[39m2C10633\u001b[39m\u001b[39m%\u001b[39m\u001b[39m2C10692\u001b[39m\u001b[39m%\u001b[39m\u001b[39m2C20066\u001b[39m\u001b[39m%\u001b[39m\u001b[39m2C10680\u001b[39m\u001b[39m%\u001b[39m\u001b[39m2C10744\u001b[39m\u001b[39m%\u001b[39m\u001b[39m2C10632\u001b[39m\u001b[39m%\u001b[39m\u001b[39m2C10752\u001b[39m\u001b[39m%\u001b[39m\u001b[39m2C20068\u001b[39m\u001b[39m%\u001b[39m\u001b[39m2C20067\u001b[39m\u001b[39m%\u001b[39m\u001b[39m2C11744\u001b[39m\u001b[39m%\u001b[39m\u001b[39m2C10618\u001b[39m\u001b[39m%\u001b[39m\u001b[39m2C11739\u001b[39m\u001b[39m%\u001b[39m\u001b[39m2C10769\u001b[39m\u001b[39m%\u001b[39m\u001b[39m2C10742\u001b[39m\u001b[39m%\u001b[39m\u001b[39m2C10765\u001b[39m\u001b[39m%\u001b[39m\u001b[39m2C10753\u001b[39m\u001b[39m%\u001b[39m\u001b[39m2C10732\u001b[39m\u001b[39m%\u001b[39m\u001b[39m2C10635\u001b[39m\u001b[39m%\u001b[39m\u001b[39m2C10767\u001b[39m\u001b[39m%\u001b[39m\u001b[39m2C10662\u001b[39m\u001b[39m%\u001b[39m\u001b[39m2C10693\u001b[39m\u001b[39m%\u001b[39m\u001b[39m2C10695\u001b[39m\u001b[39m%\u001b[39m\u001b[39m2C10664\u001b[39m\u001b[39m%\u001b[39m\u001b[39m2C10636\u001b[39m\u001b[39m%\u001b[39m\u001b[39m2C10617\u001b[39m\u001b[39m%\u001b[39m\u001b[39m2C10628\u001b[39m\u001b[39m%\u001b[39m\u001b[39m2C21363\u001b[39m\u001b[39m%\u001b[39m\u001b[39m2C10675\u001b[39m\u001b[39m%\u001b[39m\u001b[39m2C20074\u001b[39m\u001b[39m%\u001b[39m\u001b[39m2C10696\u001b[39m\u001b[39m%\u001b[39m\u001b[39m2C10748\u001b[39m\u001b[39m%\u001b[39m\u001b[39m2C10756\u001b[39m\u001b[39m%\u001b[39m\u001b[39m2C10690\u001b[39m\u001b[39m%\u001b[39m\u001b[39m2C10681\u001b[39m\u001b[39m%\u001b[39m\u001b[39m2C10717\u001b[39m\u001b[39m%\u001b[39m\u001b[39m2C10747\u001b[39m\u001b[39m%\u001b[39m\u001b[39m2C10784\u001b[39m\u001b[39m%\u001b[39m\u001b[39m2C10775\u001b[39m\u001b[39m%\u001b[39m\u001b[39m2C10766\u001b[39m\u001b[39m%\u001b[39m\u001b[39m2C10755&establishmentTypes=10591&broadened=false\u001b[39m\u001b[39m'\u001b[39m\n\u001b[0;32m      <a href='vscode-notebook-cell:/c%3A/Users/Usuario/ironhack/proyectos/MyETL_project/notebook/Selenium.ipynb#W2sZmlsZQ%3D%3D?line=5'>6</a>\u001b[0m extraer(url2)\n",
      "File \u001b[1;32mc:\\Users\\Usuario\\ironhack\\proyectos\\MyETL_project\\notebook\\..\\src\\testfunciones.py:50\u001b[0m, in \u001b[0;36mextraer\u001b[1;34m(url)\u001b[0m\n\u001b[0;32m     48\u001b[0m \u001b[39m# paso 4: concatenamos las tablas\u001b[39;00m\n\u001b[0;32m     49\u001b[0m \u001b[39mif\u001b[39;00m tarjetas:\n\u001b[1;32m---> 50\u001b[0m     tabla \u001b[39m+\u001b[39m\u001b[39m=\u001b[39m tarjetas\n\u001b[0;32m     51\u001b[0m     \u001b[39mbreak\u001b[39;00m  \u001b[39m# Salir del bucle si se ha obtenido alguna información\u001b[39;00m\n\u001b[0;32m     52\u001b[0m \u001b[39melse\u001b[39;00m:\n",
      "\u001b[1;31mNameError\u001b[0m: name 'tabla' is not defined"
     ]
    }
   ],
   "source": [
    "tabla=[]\n",
    "\n",
    "url1='https://www.tripadvisor.es/FindRestaurants?geo=187514&cuisines=10749%2C10639%2C10659%2C4617%2C5473%2C10653%2C5110%2C5379%2C10698%2C10631%2C10715%2C10772%2C5086%2C20076%2C10687%2C10346%2C10660%2C20062%2C10622%2C10757%2C10661%2C20069%2C10348%2C10347%2C10626%2C10791%2C10633%2C10692%2C20066%2C10680%2C10744%2C10632%2C10752%2C20068%2C20067%2C11744%2C10618%2C11739%2C10769%2C10742%2C10765%2C10753%2C10732%2C10635%2C10767%2C10662%2C10693%2C10695%2C10664%2C10636%2C10617%2C10628%2C21363%2C10675%2C20074%2C10696%2C10748%2C10756%2C10690%2C10681%2C10717%2C10747%2C10784%2C10775%2C10766%2C10755&establishmentTypes=10591&broadened=false'\n",
    "extraer(url1)\n",
    "url2='https://www.tripadvisor.es/FindRestaurants?geo=187514&offset=30&cuisines=10749%2C10639%2C10659%2C4617%2C5473%2C10653%2C5110%2C5379%2C10698%2C10631%2C10715%2C10772%2C5086%2C20076%2C10687%2C10346%2C10660%2C20062%2C10622%2C10757%2C10661%2C20069%2C10348%2C10347%2C10626%2C10791%2C10633%2C10692%2C20066%2C10680%2C10744%2C10632%2C10752%2C20068%2C20067%2C11744%2C10618%2C11739%2C10769%2C10742%2C10765%2C10753%2C10732%2C10635%2C10767%2C10662%2C10693%2C10695%2C10664%2C10636%2C10617%2C10628%2C21363%2C10675%2C20074%2C10696%2C10748%2C10756%2C10690%2C10681%2C10717%2C10747%2C10784%2C10775%2C10766%2C10755&establishmentTypes=10591&broadened=false'\n",
    "extraer(url2)\n",
    "url3='https://www.tripadvisor.es/FindRestaurants?geo=187514&offset=60&cuisines=10749%2C10639%2C10659%2C4617%2C5473%2C10653%2C5110%2C5379%2C10698%2C10631%2C10715%2C10772%2C5086%2C20076%2C10687%2C10346%2C10660%2C20062%2C10622%2C10757%2C10661%2C20069%2C10348%2C10347%2C10626%2C10791%2C10633%2C10692%2C20066%2C10680%2C10744%2C10632%2C10752%2C20068%2C20067%2C11744%2C10618%2C11739%2C10769%2C10742%2C10765%2C10753%2C10732%2C10635%2C10767%2C10662%2C10693%2C10695%2C10664%2C10636%2C10617%2C10628%2C21363%2C10675%2C20074%2C10696%2C10748%2C10756%2C10690%2C10681%2C10717%2C10747%2C10784%2C10775%2C10766%2C10755&establishmentTypes=10591&broadened=false'\n",
    "extraer(url3)\n",
    "url4='https://www.tripadvisor.es/FindRestaurants?geo=187514&offset=90&cuisines=10749%2C10639%2C10659%2C4617%2C5473%2C10653%2C5110%2C5379%2C10698%2C10631%2C10715%2C10772%2C5086%2C20076%2C10687%2C10346%2C10660%2C20062%2C10622%2C10757%2C10661%2C20069%2C10348%2C10347%2C10626%2C10791%2C10633%2C10692%2C20066%2C10680%2C10744%2C10632%2C10752%2C20068%2C20067%2C11744%2C10618%2C11739%2C10769%2C10742%2C10765%2C10753%2C10732%2C10635%2C10767%2C10662%2C10693%2C10695%2C10664%2C10636%2C10617%2C10628%2C21363%2C10675%2C20074%2C10696%2C10748%2C10756%2C10690%2C10681%2C10717%2C10747%2C10784%2C10775%2C10766%2C10755&establishmentTypes=10591&broadened=false'\n",
    "extraer(url4)\n",
    "url5='https://www.tripadvisor.es/FindRestaurants?geo=187514&offset=90&cuisines=10749%2C10639%2C10659%2C4617%2C5473%2C10653%2C5110%2C5379%2C10698%2C10631%2C10715%2C10772%2C5086%2C20076%2C10687%2C10346%2C10660%2C20062%2C10622%2C10757%2C10661%2C20069%2C10348%2C10347%2C10626%2C10791%2C10633%2C10692%2C20066%2C10680%2C10744%2C10632%2C10752%2C20068%2C20067%2C11744%2C10618%2C11739%2C10769%2C10742%2C10765%2C10753%2C10732%2C10635%2C10767%2C10662%2C10693%2C10695%2C10664%2C10636%2C10617%2C10628%2C21363%2C10675%2C20074%2C10696%2C10748%2C10756%2C10690%2C10681%2C10717%2C10747%2C10784%2C10775%2C10766%2C10755&establishmentTypes=10591&broadened=false'\n",
    "extraer(url5)\n"
   ]
  },
  {
   "cell_type": "code",
   "execution_count": null,
   "metadata": {},
   "outputs": [],
   "source": [
    "data=pd.DataFrame(tabla)"
   ]
  },
  {
   "cell_type": "code",
   "execution_count": null,
   "metadata": {},
   "outputs": [
    {
     "data": {
      "text/html": [
       "<div>\n",
       "<style scoped>\n",
       "    .dataframe tbody tr th:only-of-type {\n",
       "        vertical-align: middle;\n",
       "    }\n",
       "\n",
       "    .dataframe tbody tr th {\n",
       "        vertical-align: top;\n",
       "    }\n",
       "\n",
       "    .dataframe thead th {\n",
       "        text-align: right;\n",
       "    }\n",
       "</style>\n",
       "<table border=\"1\" class=\"dataframe\">\n",
       "  <thead>\n",
       "    <tr style=\"text-align: right;\">\n",
       "      <th></th>\n",
       "    </tr>\n",
       "  </thead>\n",
       "  <tbody>\n",
       "  </tbody>\n",
       "</table>\n",
       "</div>"
      ],
      "text/plain": [
       "Empty DataFrame\n",
       "Columns: []\n",
       "Index: []"
      ]
     },
     "execution_count": 5,
     "metadata": {},
     "output_type": "execute_result"
    }
   ],
   "source": [
    "data.head()"
   ]
  },
  {
   "cell_type": "code",
   "execution_count": null,
   "metadata": {},
   "outputs": [],
   "source": [
    "data.to_csv('Tripadvisor', index=False)"
   ]
  },
  {
   "cell_type": "markdown",
   "metadata": {},
   "source": [
    "# CODIGO DE EXTRACCIÓN SALTANDO DE PAGINA"
   ]
  },
  {
   "cell_type": "code",
   "execution_count": null,
   "metadata": {},
   "outputs": [],
   "source": [
    "def extraer(url):\n",
    "\n",
    "    global tabla\n",
    "\n",
    "    driver = webdriver.Chrome()\n",
    "    driver.get(url)\n",
    "\n",
    "    time.sleep(2)\n",
    "    \n",
    "    # COOKIES\n",
    "\n",
    "    try:\n",
    "\n",
    "        aceptar = driver.find_element(By.XPATH, '//*[@id=\"onetrust-accept-btn-handler\"]')\n",
    "        aceptar.click()\n",
    "\n",
    "    except:\n",
    "\n",
    "        print('Ya')\n",
    "\n",
    "    while tabla == tabla: # ejecutamos hasta que nos haya descargado todo 🤞🤞\n",
    "\n",
    "        time.sleep(5)\n",
    "\n",
    "        tarjetas = []\n",
    "\n",
    "        for e in range(len(driver.find_elements(By.TAG_NAME, 'header'))):\n",
    "            box = driver.find_elements(By.TAG_NAME, 'header')[e].text.split('\\n')\n",
    "            tarjetas.append(box)\n",
    "        \n",
    "        tabla += tarjetas\n",
    "\n",
    "        # HACEMOS SCROLL:\n",
    "\n",
    "        time.sleep(5)\n",
    "\n",
    "        driver.execute_script(\"window.scrollTo(0, document.body.scrollHeight);\")\n",
    "\n",
    "        # CLICK SIGUIENTE:\n",
    "\n",
    "        try:\n",
    "\n",
    "            time.sleep(5)\n",
    "\n",
    "            aceptar = driver.find_element(By.XPATH, '//*[@id=\"lithium-root\"]/main/div/div[4]/div[6]/div/div[1]/div[2]/div/a')\n",
    "            aceptar.click()\n",
    "\n",
    "        except:\n",
    "            try:\n",
    "\n",
    "                time.sleep( 2 )\n",
    "\n",
    "                aceptar = driver.find_element(By.CSS_SELECTOR, '#lithium-root > main > div > div.SuxDz > div:nth-child(6) > div > div.OvVFl.j > div.xkSty > div > a')\n",
    "                aceptar.click()\n",
    "\n",
    "            except:\n",
    "\n",
    "                \n",
    "\n",
    "                print('No se encontró el botón \"siguiente\"')\n",
    "              # Salir del bucle si no se encuentra el botón \"siguiente\""
   ]
  }
 ],
 "metadata": {
  "kernelspec": {
   "display_name": "clase",
   "language": "python",
   "name": "python3"
  },
  "language_info": {
   "codemirror_mode": {
    "name": "ipython",
    "version": 3
   },
   "file_extension": ".py",
   "mimetype": "text/x-python",
   "name": "python",
   "nbconvert_exporter": "python",
   "pygments_lexer": "ipython3",
   "version": "3.10.13"
  }
 },
 "nbformat": 4,
 "nbformat_minor": 2
}
