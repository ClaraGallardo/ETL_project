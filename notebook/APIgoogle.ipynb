{
 "cells": [
  {
   "cell_type": "code",
   "execution_count": 1,
   "metadata": {},
   "outputs": [],
   "source": [
    "import requests\n",
    "import json\n",
    "import pandas as pd\n",
    "\n",
    "import sys\n",
    "sys.path.append(\"..\")\n",
    "from src.funciones import *"
   ]
  },
  {
   "cell_type": "markdown",
   "metadata": {},
   "source": [
    "# Descarga tablas por tipo de restaurante y sus opiniones:\n",
    "\n",
    "Tendremos los datos de los restaurantes y el numero de opiniones. Solo me descargo los tipos de comida que me aparecene en el top según Tripadvisor, pero luego tendré que comprobar si coinciden."
   ]
  },
  {
   "cell_type": "code",
   "execution_count": 2,
   "metadata": {},
   "outputs": [],
   "source": [
    "with open('API.txt') as file:\n",
    "    \n",
    "    key = file.read() #cargo mi contraseña y la guardo en una variable"
   ]
  },
  {
   "cell_type": "code",
   "execution_count": 3,
   "metadata": {},
   "outputs": [],
   "source": [
    "japo = pd.DataFrame(consulta_API('japones'))\n",
    "japo = japo.drop(columns=['icon','icon_background_color','icon_mask_base_uri','opening_hours','place_id','plus_code','reference','scope','vicinity'])\n",
    "japo.to_csv('../data/japo.csv',index=False)"
   ]
  },
  {
   "cell_type": "code",
   "execution_count": 4,
   "metadata": {},
   "outputs": [],
   "source": [
    "chino = pd.DataFrame(consulta_API('Chino'))\n",
    "chino = chino.drop(columns=['icon','icon_background_color','icon_mask_base_uri','opening_hours','place_id','plus_code','reference','scope','vicinity'])\n",
    "chino.to_csv('chino.csv',index=False)"
   ]
  },
  {
   "cell_type": "code",
   "execution_count": 5,
   "metadata": {},
   "outputs": [],
   "source": [
    "coreano = pd.DataFrame(consulta_API('coreano'))\n",
    "coreano = coreano.drop(columns=['icon','icon_background_color','icon_mask_base_uri','opening_hours','place_id','plus_code','reference','scope','vicinity'])\n",
    "coreano.to_csv('../data/coreano.csv',index=False)"
   ]
  },
  {
   "cell_type": "code",
   "execution_count": 6,
   "metadata": {},
   "outputs": [],
   "source": [
    "italiano = pd.DataFrame(consulta_API('Italiano'))\n",
    "italiano = italiano.drop(columns=['icon','icon_background_color','icon_mask_base_uri','opening_hours','place_id','plus_code','reference','scope','vicinity'])\n",
    "italiano.to_csv('../data/ita.csv',index=False)"
   ]
  },
  {
   "cell_type": "code",
   "execution_count": 7,
   "metadata": {},
   "outputs": [],
   "source": [
    "cari = pd.DataFrame(consulta_API('Caribeña'))\n",
    "cari = cari.drop(columns=['icon','icon_background_color','icon_mask_base_uri','opening_hours','place_id','plus_code','reference','scope','vicinity'])\n",
    "cari.to_csv('../data/caribe.csv',index=False)"
   ]
  },
  {
   "cell_type": "code",
   "execution_count": 8,
   "metadata": {},
   "outputs": [],
   "source": [
    "indi = pd.DataFrame(consulta_API('India'))\n",
    "indi = indi.drop(columns=['icon','icon_background_color','icon_mask_base_uri','opening_hours','place_id','plus_code','reference','scope','vicinity'])\n",
    "indi.to_csv('../data/india.csv',index=False)"
   ]
  },
  {
   "cell_type": "code",
   "execution_count": 9,
   "metadata": {},
   "outputs": [],
   "source": [
    "mex = pd.DataFrame(consulta_API('Mexicana'))\n",
    "mex = mex.drop(columns=['icon','icon_background_color','icon_mask_base_uri','opening_hours','place_id','plus_code','reference','scope','vicinity'])\n",
    "mex.to_csv('../data/mex.csv',index=False)"
   ]
  },
  {
   "cell_type": "code",
   "execution_count": 10,
   "metadata": {},
   "outputs": [],
   "source": [
    "peru = pd.DataFrame(consulta_API('Peruana'))\n",
    "peru = peru.drop(columns=['icon','icon_background_color','icon_mask_base_uri','opening_hours','place_id','plus_code','reference','scope','vicinity'])\n",
    "peru.to_csv('../data/peru.csv',index=False)"
   ]
  },
  {
   "cell_type": "code",
   "execution_count": null,
   "metadata": {},
   "outputs": [],
   "source": []
  }
 ],
 "metadata": {
  "kernelspec": {
   "display_name": "clase",
   "language": "python",
   "name": "python3"
  },
  "language_info": {
   "codemirror_mode": {
    "name": "ipython",
    "version": 3
   },
   "file_extension": ".py",
   "mimetype": "text/x-python",
   "name": "python",
   "nbconvert_exporter": "python",
   "pygments_lexer": "ipython3",
   "version": "3.10.13"
  }
 },
 "nbformat": 4,
 "nbformat_minor": 2
}
