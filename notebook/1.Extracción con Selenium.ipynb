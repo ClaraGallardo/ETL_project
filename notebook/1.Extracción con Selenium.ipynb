{
 "cells": [
  {
   "cell_type": "code",
   "execution_count": 9,
   "metadata": {},
   "outputs": [],
   "source": [
    "import time\n",
    "import pandas as pd\n",
    "import warnings\n",
    "warnings.filterwarnings('ignore')\n",
    "\n",
    "from selenium import webdriver\n",
    "from webdriver_manager.chrome import ChromeDriverManager\n",
    "from selenium.webdriver.common.by import By\n",
    "from selenium.webdriver.support.ui import Select\n",
    "\n",
    "driver = webdriver.Chrome()"
   ]
  },
  {
   "cell_type": "markdown",
   "metadata": {},
   "source": [
    "# Extraccion de datos Tripadvisor.es:\n",
    "\n",
    "Comenzamos definiedo la funcion de extraccion.\n",
    "\n",
    "Definimos las url de las que queremos extrar la informacion ya seleccionada y la guardamos en una lista, con la que luego nos haremos nuestro DF."
   ]
  },
  {
   "cell_type": "code",
   "execution_count": 10,
   "metadata": {},
   "outputs": [],
   "source": [
    "def extraer(url):\n",
    "\n",
    "    global tabla\n",
    "\n",
    "    driver = webdriver.Chrome()\n",
    "    driver.get(url)\n",
    "\n",
    "    time.sleep(2)\n",
    "    \n",
    "    # COOKIES\n",
    "\n",
    "    try:\n",
    "\n",
    "        aceptar = driver.find_element(By.XPATH, '//*[@id=\"onetrust-accept-btn-handler\"]')\n",
    "        aceptar.click()\n",
    "\n",
    "    except:\n",
    "\n",
    "        print('Ya')\n",
    "\n",
    "    time.sleep(5)\n",
    "\n",
    "    tarjetas = []\n",
    "\n",
    "    for e in range(len(driver.find_elements(By.TAG_NAME, 'header'))):\n",
    "        box = driver.find_elements(By.TAG_NAME, 'header')[e].text.split('\\n')\n",
    "        tarjetas.append(box)\n",
    "        \n",
    "    tabla += tarjetas\n"
   ]
  },
  {
   "cell_type": "code",
   "execution_count": 11,
   "metadata": {},
   "outputs": [],
   "source": [
    "url1='https://www.tripadvisor.es/FindRestaurants?geo=187514&cuisines=10749%2C10639%2C10659%2C4617%2C5473%2C10653%2C5110%2C5379%2C10698%2C10631%2C10715%2C10772%2C5086%2C20076%2C10687%2C10346%2C10660%2C20062%2C10622%2C10757%2C10661%2C20069%2C10348%2C10347%2C10626%2C10791%2C10633%2C10692%2C20066%2C10680%2C10744%2C10632%2C10752%2C20068%2C20067%2C11744%2C10618%2C11739%2C10769%2C10742%2C10765%2C10753%2C10732%2C10635%2C10767%2C10662%2C10693%2C10695%2C10664%2C10636%2C10617%2C10628%2C21363%2C10675%2C20074%2C10696%2C10748%2C10756%2C10690%2C10681%2C10717%2C10747%2C10784%2C10775%2C10766%2C10755&establishmentTypes=10591&broadened=false'\n",
    "\n",
    "url2='https://www.tripadvisor.es/FindRestaurants?geo=187514&offset=30&cuisines=10749%2C10639%2C10659%2C4617%2C5473%2C10653%2C5110%2C5379%2C10698%2C10631%2C10715%2C10772%2C5086%2C20076%2C10687%2C10346%2C10660%2C20062%2C10622%2C10757%2C10661%2C20069%2C10348%2C10347%2C10626%2C10791%2C10633%2C10692%2C20066%2C10680%2C10744%2C10632%2C10752%2C20068%2C20067%2C11744%2C10618%2C11739%2C10769%2C10742%2C10765%2C10753%2C10732%2C10635%2C10767%2C10662%2C10693%2C10695%2C10664%2C10636%2C10617%2C10628%2C21363%2C10675%2C20074%2C10696%2C10748%2C10756%2C10690%2C10681%2C10717%2C10747%2C10784%2C10775%2C10766%2C10755&establishmentTypes=10591&broadened=false'\n",
    "\n",
    "url3='https://www.tripadvisor.es/FindRestaurants?geo=187514&offset=60&cuisines=10749%2C10639%2C10659%2C4617%2C5473%2C10653%2C5110%2C5379%2C10698%2C10631%2C10715%2C10772%2C5086%2C20076%2C10687%2C10346%2C10660%2C20062%2C10622%2C10757%2C10661%2C20069%2C10348%2C10347%2C10626%2C10791%2C10633%2C10692%2C20066%2C10680%2C10744%2C10632%2C10752%2C20068%2C20067%2C11744%2C10618%2C11739%2C10769%2C10742%2C10765%2C10753%2C10732%2C10635%2C10767%2C10662%2C10693%2C10695%2C10664%2C10636%2C10617%2C10628%2C21363%2C10675%2C20074%2C10696%2C10748%2C10756%2C10690%2C10681%2C10717%2C10747%2C10784%2C10775%2C10766%2C10755&establishmentTypes=10591&broadened=false'\n",
    "\n",
    "url4='https://www.tripadvisor.es/FindRestaurants?geo=187514&offset=90&cuisines=10749%2C10639%2C10659%2C4617%2C5473%2C10653%2C5110%2C5379%2C10698%2C10631%2C10715%2C10772%2C5086%2C20076%2C10687%2C10346%2C10660%2C20062%2C10622%2C10757%2C10661%2C20069%2C10348%2C10347%2C10626%2C10791%2C10633%2C10692%2C20066%2C10680%2C10744%2C10632%2C10752%2C20068%2C20067%2C11744%2C10618%2C11739%2C10769%2C10742%2C10765%2C10753%2C10732%2C10635%2C10767%2C10662%2C10693%2C10695%2C10664%2C10636%2C10617%2C10628%2C21363%2C10675%2C20074%2C10696%2C10748%2C10756%2C10690%2C10681%2C10717%2C10747%2C10784%2C10775%2C10766%2C10755&establishmentTypes=10591&broadened=false'\n",
    "\n",
    "url5='https://www.tripadvisor.es/FindRestaurants?geo=187514&offset=90&cuisines=10749%2C10639%2C10659%2C4617%2C5473%2C10653%2C5110%2C5379%2C10698%2C10631%2C10715%2C10772%2C5086%2C20076%2C10687%2C10346%2C10660%2C20062%2C10622%2C10757%2C10661%2C20069%2C10348%2C10347%2C10626%2C10791%2C10633%2C10692%2C20066%2C10680%2C10744%2C10632%2C10752%2C20068%2C20067%2C11744%2C10618%2C11739%2C10769%2C10742%2C10765%2C10753%2C10732%2C10635%2C10767%2C10662%2C10693%2C10695%2C10664%2C10636%2C10617%2C10628%2C21363%2C10675%2C20074%2C10696%2C10748%2C10756%2C10690%2C10681%2C10717%2C10747%2C10784%2C10775%2C10766%2C10755&establishmentTypes=10591&broadened=false'"
   ]
  },
  {
   "cell_type": "code",
   "execution_count": 12,
   "metadata": {},
   "outputs": [],
   "source": [
    "url6 = 'https://www.tripadvisor.es/FindRestaurants?geo=187514&offset=120&cuisines=10749%2C10639%2C10659%2C4617%2C5473%2C10653%2C5110%2C5379%2C10698%2C10631%2C10715%2C10772%2C5086%2C20076%2C10687%2C10346%2C10660%2C20062%2C10622%2C10757%2C10661%2C20069%2C10348%2C10347%2C10626%2C10791%2C10633%2C10692%2C20066%2C10680%2C10744%2C10632%2C10752%2C20068%2C20067%2C11744%2C10618%2C11739%2C10769%2C10742%2C10765%2C10753%2C10732%2C10635%2C10767%2C10662%2C10693%2C10695%2C10664%2C10636%2C10617%2C10628%2C21363%2C10675%2C20074%2C10696%2C10748%2C10756%2C10690%2C10681%2C10717%2C10747%2C10784%2C10775%2C10766%2C10755&establishmentTypes=10591&broadened=false'\n",
    "\n",
    "url7 = 'https://www.tripadvisor.es/FindRestaurants?geo=187514&offset=150&cuisines=10749%2C10639%2C10659%2C4617%2C5473%2C10653%2C5110%2C5379%2C10698%2C10631%2C10715%2C10772%2C5086%2C20076%2C10687%2C10346%2C10660%2C20062%2C10622%2C10757%2C10661%2C20069%2C10348%2C10347%2C10626%2C10791%2C10633%2C10692%2C20066%2C10680%2C10744%2C10632%2C10752%2C20068%2C20067%2C11744%2C10618%2C11739%2C10769%2C10742%2C10765%2C10753%2C10732%2C10635%2C10767%2C10662%2C10693%2C10695%2C10664%2C10636%2C10617%2C10628%2C21363%2C10675%2C20074%2C10696%2C10748%2C10756%2C10690%2C10681%2C10717%2C10747%2C10784%2C10775%2C10766%2C10755&establishmentTypes=10591&broadened=false'\n",
    "\n",
    "url8 = 'https://www.tripadvisor.es/FindRestaurants?geo=187514&offset=180&cuisines=10749%2C10639%2C10659%2C4617%2C5473%2C10653%2C5110%2C5379%2C10698%2C10631%2C10715%2C10772%2C5086%2C20076%2C10687%2C10346%2C10660%2C20062%2C10622%2C10757%2C10661%2C20069%2C10348%2C10347%2C10626%2C10791%2C10633%2C10692%2C20066%2C10680%2C10744%2C10632%2C10752%2C20068%2C20067%2C11744%2C10618%2C11739%2C10769%2C10742%2C10765%2C10753%2C10732%2C10635%2C10767%2C10662%2C10693%2C10695%2C10664%2C10636%2C10617%2C10628%2C21363%2C10675%2C20074%2C10696%2C10748%2C10756%2C10690%2C10681%2C10717%2C10747%2C10784%2C10775%2C10766%2C10755&establishmentTypes=10591&broadened=false'\n",
    "\n",
    "url9 = 'https://www.tripadvisor.es/FindRestaurants?geo=187514&offset=180&cuisines=10749%2C10639%2C10659%2C4617%2C5473%2C10653%2C5110%2C5379%2C10698%2C10631%2C10715%2C10772%2C5086%2C20076%2C10687%2C10346%2C10660%2C20062%2C10622%2C10757%2C10661%2C20069%2C10348%2C10347%2C10626%2C10791%2C10633%2C10692%2C20066%2C10680%2C10744%2C10632%2C10752%2C20068%2C20067%2C11744%2C10618%2C11739%2C10769%2C10742%2C10765%2C10753%2C10732%2C10635%2C10767%2C10662%2C10693%2C10695%2C10664%2C10636%2C10617%2C10628%2C21363%2C10675%2C20074%2C10696%2C10748%2C10756%2C10690%2C10681%2C10717%2C10747%2C10784%2C10775%2C10766%2C10755&establishmentTypes=10591&broadened=false'\n",
    "\n",
    "url10 = 'https://www.tripadvisor.es/FindRestaurants?geo=187514&offset=210&cuisines=10749%2C10639%2C10659%2C4617%2C5473%2C10653%2C5110%2C5379%2C10698%2C10631%2C10715%2C10772%2C5086%2C20076%2C10687%2C10346%2C10660%2C20062%2C10622%2C10757%2C10661%2C20069%2C10348%2C10347%2C10626%2C10791%2C10633%2C10692%2C20066%2C10680%2C10744%2C10632%2C10752%2C20068%2C20067%2C11744%2C10618%2C11739%2C10769%2C10742%2C10765%2C10753%2C10732%2C10635%2C10767%2C10662%2C10693%2C10695%2C10664%2C10636%2C10617%2C10628%2C21363%2C10675%2C20074%2C10696%2C10748%2C10756%2C10690%2C10681%2C10717%2C10747%2C10784%2C10775%2C10766%2C10755&establishmentTypes=10591&broadened=false'\n",
    "\n",
    "url11= 'https://www.tripadvisor.es/FindRestaurants?geo=187514&offset=240&cuisines=10749%2C10639%2C10659%2C4617%2C5473%2C10653%2C5110%2C5379%2C10698%2C10631%2C10715%2C10772%2C5086%2C20076%2C10687%2C10346%2C10660%2C20062%2C10622%2C10757%2C10661%2C20069%2C10348%2C10347%2C10626%2C10791%2C10633%2C10692%2C20066%2C10680%2C10744%2C10632%2C10752%2C20068%2C20067%2C11744%2C10618%2C11739%2C10769%2C10742%2C10765%2C10753%2C10732%2C10635%2C10767%2C10662%2C10693%2C10695%2C10664%2C10636%2C10617%2C10628%2C21363%2C10675%2C20074%2C10696%2C10748%2C10756%2C10690%2C10681%2C10717%2C10747%2C10784%2C10775%2C10766%2C10755&establishmentTypes=10591&broadened=false'\n"
   ]
  },
  {
   "cell_type": "code",
   "execution_count": 13,
   "metadata": {},
   "outputs": [],
   "source": [
    "tabla=[]\n",
    "\n",
    "extraer(url1)\n",
    "extraer(url2)\n",
    "extraer(url3)\n",
    "extraer(url4)\n",
    "extraer(url5)\n",
    "extraer(url6)\n",
    "extraer(url7)\n",
    "extraer(url8)\n",
    "extraer(url9)\n",
    "extraer(url10)\n"
   ]
  },
  {
   "cell_type": "code",
   "execution_count": 19,
   "metadata": {},
   "outputs": [],
   "source": [
    "data=pd.DataFrame(tabla)"
   ]
  },
  {
   "cell_type": "code",
   "execution_count": 24,
   "metadata": {},
   "outputs": [],
   "source": [
    "data.to_csv('Tripadvisor2', index=False)\n"
   ]
  },
  {
   "cell_type": "code",
   "execution_count": 22,
   "metadata": {},
   "outputs": [
    {
     "data": {
      "text/html": [
       "<div>\n",
       "<style scoped>\n",
       "    .dataframe tbody tr th:only-of-type {\n",
       "        vertical-align: middle;\n",
       "    }\n",
       "\n",
       "    .dataframe tbody tr th {\n",
       "        vertical-align: top;\n",
       "    }\n",
       "\n",
       "    .dataframe thead th {\n",
       "        text-align: right;\n",
       "    }\n",
       "</style>\n",
       "<table border=\"1\" class=\"dataframe\">\n",
       "  <thead>\n",
       "    <tr style=\"text-align: right;\">\n",
       "      <th></th>\n",
       "      <th>0</th>\n",
       "      <th>1</th>\n",
       "      <th>2</th>\n",
       "      <th>3</th>\n",
       "      <th>4</th>\n",
       "    </tr>\n",
       "  </thead>\n",
       "  <tbody>\n",
       "    <tr>\n",
       "      <th>276</th>\n",
       "      <td>26. Ronda 14</td>\n",
       "      <td>982 opinionesCerrado ahora</td>\n",
       "      <td>Japonesa, Peruana€€ - €€€Carta</td>\n",
       "      <td>None</td>\n",
       "      <td>None</td>\n",
       "    </tr>\n",
       "    <tr>\n",
       "      <th>277</th>\n",
       "      <td>27. PICCOLO DIAVOLO</td>\n",
       "      <td>688 opinionesAbierto ahora</td>\n",
       "      <td>Italiana, Pizza€€ - €€€</td>\n",
       "      <td>None</td>\n",
       "      <td>None</td>\n",
       "    </tr>\n",
       "    <tr>\n",
       "      <th>278</th>\n",
       "      <td>28. La Piccola Trattoria</td>\n",
       "      <td>331 opinionesCerrado ahora</td>\n",
       "      <td>Italiana, Pizza€€ - €€€Carta</td>\n",
       "      <td>None</td>\n",
       "      <td>None</td>\n",
       "    </tr>\n",
       "    <tr>\n",
       "      <th>279</th>\n",
       "      <td>29. Kzen</td>\n",
       "      <td>208 opinionesCerrado ahora</td>\n",
       "      <td>China, Japonesa€€ - €€€</td>\n",
       "      <td>None</td>\n",
       "      <td>None</td>\n",
       "    </tr>\n",
       "    <tr>\n",
       "      <th>280</th>\n",
       "      <td>30. Il Boccone</td>\n",
       "      <td>179 opinionesCerrado hoy</td>\n",
       "      <td>Italiana, Mediterránea€€ - €€€Carta</td>\n",
       "      <td>None</td>\n",
       "      <td>None</td>\n",
       "    </tr>\n",
       "  </tbody>\n",
       "</table>\n",
       "</div>"
      ],
      "text/plain": [
       "                            0                           1  \\\n",
       "276              26. Ronda 14  982 opinionesCerrado ahora   \n",
       "277       27. PICCOLO DIAVOLO  688 opinionesAbierto ahora   \n",
       "278  28. La Piccola Trattoria  331 opinionesCerrado ahora   \n",
       "279                  29. Kzen  208 opinionesCerrado ahora   \n",
       "280            30. Il Boccone    179 opinionesCerrado hoy   \n",
       "\n",
       "                                       2     3     4  \n",
       "276       Japonesa, Peruana€€ - €€€Carta  None  None  \n",
       "277              Italiana, Pizza€€ - €€€  None  None  \n",
       "278         Italiana, Pizza€€ - €€€Carta  None  None  \n",
       "279              China, Japonesa€€ - €€€  None  None  \n",
       "280  Italiana, Mediterránea€€ - €€€Carta  None  None  "
      ]
     },
     "execution_count": 22,
     "metadata": {},
     "output_type": "execute_result"
    }
   ],
   "source": [
    "data.tail()"
   ]
  }
 ],
 "metadata": {
  "kernelspec": {
   "display_name": "clase",
   "language": "python",
   "name": "python3"
  },
  "language_info": {
   "codemirror_mode": {
    "name": "ipython",
    "version": 3
   },
   "file_extension": ".py",
   "mimetype": "text/x-python",
   "name": "python",
   "nbconvert_exporter": "python",
   "pygments_lexer": "ipython3",
   "version": "3.10.13"
  }
 },
 "nbformat": 4,
 "nbformat_minor": 2
}
