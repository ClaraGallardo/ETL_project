{
 "cells": [
  {
   "cell_type": "code",
   "execution_count": 1,
   "metadata": {},
   "outputs": [],
   "source": [
    "import time\n",
    "import pandas as pd\n",
    "import warnings\n",
    "warnings.filterwarnings('ignore')\n",
    "\n",
    "from selenium import webdriver\n",
    "from webdriver_manager.chrome import ChromeDriverManager\n",
    "from selenium.webdriver.common.by import By\n",
    "from selenium.webdriver.support.ui import Select\n",
    "\n",
    "driver = webdriver.Chrome()"
   ]
  },
  {
   "cell_type": "markdown",
   "metadata": {},
   "source": [
    "# Extraccion de datos Tripadvisor.es:\n",
    "\n",
    "Comenzamos definiedo la funcion de extraccion.\n",
    "\n",
    "Definimos las url de las que queremos extrar la informacion ya seleccionada y la guardamos en una lista, con la que luego nos haremos nuestro DF."
   ]
  },
  {
   "cell_type": "code",
   "execution_count": 2,
   "metadata": {},
   "outputs": [],
   "source": [
    "def extraer(url):\n",
    "\n",
    "    global tabla\n",
    "\n",
    "    driver = webdriver.Chrome()\n",
    "    driver.get(url)\n",
    "\n",
    "    time.sleep(2)\n",
    "    \n",
    "    # COOKIES\n",
    "\n",
    "    try:\n",
    "\n",
    "        aceptar = driver.find_element(By.XPATH, '//*[@id=\"onetrust-accept-btn-handler\"]')\n",
    "        aceptar.click()\n",
    "\n",
    "    except:\n",
    "\n",
    "        print('Ya')\n",
    "\n",
    "    time.sleep(5)\n",
    "\n",
    "    tarjetas = []\n",
    "\n",
    "    for e in range(len(driver.find_elements(By.TAG_NAME, 'header'))):\n",
    "        box = driver.find_elements(By.TAG_NAME, 'header')[e].text.split('\\n')\n",
    "        tarjetas.append(box)\n",
    "        \n",
    "    tabla += tarjetas\n"
   ]
  },
  {
   "cell_type": "code",
   "execution_count": 3,
   "metadata": {},
   "outputs": [],
   "source": [
    "url1='https://www.tripadvisor.es/FindRestaurants?geo=187514&cuisines=10749%2C10639%2C10659%2C4617%2C5473%2C10653%2C5110%2C5379%2C10698%2C10631%2C10715%2C10772%2C5086%2C20076%2C10687%2C10346%2C10660%2C20062%2C10622%2C10757%2C10661%2C20069%2C10348%2C10347%2C10626%2C10791%2C10633%2C10692%2C20066%2C10680%2C10744%2C10632%2C10752%2C20068%2C20067%2C11744%2C10618%2C11739%2C10769%2C10742%2C10765%2C10753%2C10732%2C10635%2C10767%2C10662%2C10693%2C10695%2C10664%2C10636%2C10617%2C10628%2C21363%2C10675%2C20074%2C10696%2C10748%2C10756%2C10690%2C10681%2C10717%2C10747%2C10784%2C10775%2C10766%2C10755&establishmentTypes=10591&broadened=false'\n",
    "\n",
    "url2='https://www.tripadvisor.es/FindRestaurants?geo=187514&offset=30&cuisines=10749%2C10639%2C10659%2C4617%2C5473%2C10653%2C5110%2C5379%2C10698%2C10631%2C10715%2C10772%2C5086%2C20076%2C10687%2C10346%2C10660%2C20062%2C10622%2C10757%2C10661%2C20069%2C10348%2C10347%2C10626%2C10791%2C10633%2C10692%2C20066%2C10680%2C10744%2C10632%2C10752%2C20068%2C20067%2C11744%2C10618%2C11739%2C10769%2C10742%2C10765%2C10753%2C10732%2C10635%2C10767%2C10662%2C10693%2C10695%2C10664%2C10636%2C10617%2C10628%2C21363%2C10675%2C20074%2C10696%2C10748%2C10756%2C10690%2C10681%2C10717%2C10747%2C10784%2C10775%2C10766%2C10755&establishmentTypes=10591&broadened=false'\n",
    "\n",
    "url3='https://www.tripadvisor.es/FindRestaurants?geo=187514&offset=60&cuisines=10749%2C10639%2C10659%2C4617%2C5473%2C10653%2C5110%2C5379%2C10698%2C10631%2C10715%2C10772%2C5086%2C20076%2C10687%2C10346%2C10660%2C20062%2C10622%2C10757%2C10661%2C20069%2C10348%2C10347%2C10626%2C10791%2C10633%2C10692%2C20066%2C10680%2C10744%2C10632%2C10752%2C20068%2C20067%2C11744%2C10618%2C11739%2C10769%2C10742%2C10765%2C10753%2C10732%2C10635%2C10767%2C10662%2C10693%2C10695%2C10664%2C10636%2C10617%2C10628%2C21363%2C10675%2C20074%2C10696%2C10748%2C10756%2C10690%2C10681%2C10717%2C10747%2C10784%2C10775%2C10766%2C10755&establishmentTypes=10591&broadened=false'\n",
    "\n",
    "url4='https://www.tripadvisor.es/FindRestaurants?geo=187514&offset=90&cuisines=10749%2C10639%2C10659%2C4617%2C5473%2C10653%2C5110%2C5379%2C10698%2C10631%2C10715%2C10772%2C5086%2C20076%2C10687%2C10346%2C10660%2C20062%2C10622%2C10757%2C10661%2C20069%2C10348%2C10347%2C10626%2C10791%2C10633%2C10692%2C20066%2C10680%2C10744%2C10632%2C10752%2C20068%2C20067%2C11744%2C10618%2C11739%2C10769%2C10742%2C10765%2C10753%2C10732%2C10635%2C10767%2C10662%2C10693%2C10695%2C10664%2C10636%2C10617%2C10628%2C21363%2C10675%2C20074%2C10696%2C10748%2C10756%2C10690%2C10681%2C10717%2C10747%2C10784%2C10775%2C10766%2C10755&establishmentTypes=10591&broadened=false'\n",
    "\n",
    "url5='https://www.tripadvisor.es/FindRestaurants?geo=187514&offset=90&cuisines=10749%2C10639%2C10659%2C4617%2C5473%2C10653%2C5110%2C5379%2C10698%2C10631%2C10715%2C10772%2C5086%2C20076%2C10687%2C10346%2C10660%2C20062%2C10622%2C10757%2C10661%2C20069%2C10348%2C10347%2C10626%2C10791%2C10633%2C10692%2C20066%2C10680%2C10744%2C10632%2C10752%2C20068%2C20067%2C11744%2C10618%2C11739%2C10769%2C10742%2C10765%2C10753%2C10732%2C10635%2C10767%2C10662%2C10693%2C10695%2C10664%2C10636%2C10617%2C10628%2C21363%2C10675%2C20074%2C10696%2C10748%2C10756%2C10690%2C10681%2C10717%2C10747%2C10784%2C10775%2C10766%2C10755&establishmentTypes=10591&broadened=false'"
   ]
  },
  {
   "cell_type": "code",
   "execution_count": 4,
   "metadata": {},
   "outputs": [],
   "source": [
    "url6 = 'https://www.tripadvisor.es/FindRestaurants?geo=187514&offset=120&cuisines=10749%2C10639%2C10659%2C4617%2C5473%2C10653%2C5110%2C5379%2C10698%2C10631%2C10715%2C10772%2C5086%2C20076%2C10687%2C10346%2C10660%2C20062%2C10622%2C10757%2C10661%2C20069%2C10348%2C10347%2C10626%2C10791%2C10633%2C10692%2C20066%2C10680%2C10744%2C10632%2C10752%2C20068%2C20067%2C11744%2C10618%2C11739%2C10769%2C10742%2C10765%2C10753%2C10732%2C10635%2C10767%2C10662%2C10693%2C10695%2C10664%2C10636%2C10617%2C10628%2C21363%2C10675%2C20074%2C10696%2C10748%2C10756%2C10690%2C10681%2C10717%2C10747%2C10784%2C10775%2C10766%2C10755&establishmentTypes=10591&broadened=false'\n",
    "\n",
    "url7 = 'https://www.tripadvisor.es/FindRestaurants?geo=187514&offset=150&cuisines=10749%2C10639%2C10659%2C4617%2C5473%2C10653%2C5110%2C5379%2C10698%2C10631%2C10715%2C10772%2C5086%2C20076%2C10687%2C10346%2C10660%2C20062%2C10622%2C10757%2C10661%2C20069%2C10348%2C10347%2C10626%2C10791%2C10633%2C10692%2C20066%2C10680%2C10744%2C10632%2C10752%2C20068%2C20067%2C11744%2C10618%2C11739%2C10769%2C10742%2C10765%2C10753%2C10732%2C10635%2C10767%2C10662%2C10693%2C10695%2C10664%2C10636%2C10617%2C10628%2C21363%2C10675%2C20074%2C10696%2C10748%2C10756%2C10690%2C10681%2C10717%2C10747%2C10784%2C10775%2C10766%2C10755&establishmentTypes=10591&broadened=false'\n",
    "\n",
    "url8 = 'https://www.tripadvisor.es/FindRestaurants?geo=187514&offset=180&cuisines=10749%2C10639%2C10659%2C4617%2C5473%2C10653%2C5110%2C5379%2C10698%2C10631%2C10715%2C10772%2C5086%2C20076%2C10687%2C10346%2C10660%2C20062%2C10622%2C10757%2C10661%2C20069%2C10348%2C10347%2C10626%2C10791%2C10633%2C10692%2C20066%2C10680%2C10744%2C10632%2C10752%2C20068%2C20067%2C11744%2C10618%2C11739%2C10769%2C10742%2C10765%2C10753%2C10732%2C10635%2C10767%2C10662%2C10693%2C10695%2C10664%2C10636%2C10617%2C10628%2C21363%2C10675%2C20074%2C10696%2C10748%2C10756%2C10690%2C10681%2C10717%2C10747%2C10784%2C10775%2C10766%2C10755&establishmentTypes=10591&broadened=false'\n",
    "\n",
    "url9 = 'https://www.tripadvisor.es/FindRestaurants?geo=187514&offset=180&cuisines=10749%2C10639%2C10659%2C4617%2C5473%2C10653%2C5110%2C5379%2C10698%2C10631%2C10715%2C10772%2C5086%2C20076%2C10687%2C10346%2C10660%2C20062%2C10622%2C10757%2C10661%2C20069%2C10348%2C10347%2C10626%2C10791%2C10633%2C10692%2C20066%2C10680%2C10744%2C10632%2C10752%2C20068%2C20067%2C11744%2C10618%2C11739%2C10769%2C10742%2C10765%2C10753%2C10732%2C10635%2C10767%2C10662%2C10693%2C10695%2C10664%2C10636%2C10617%2C10628%2C21363%2C10675%2C20074%2C10696%2C10748%2C10756%2C10690%2C10681%2C10717%2C10747%2C10784%2C10775%2C10766%2C10755&establishmentTypes=10591&broadened=false'\n",
    "\n",
    "url10 = 'https://www.tripadvisor.es/FindRestaurants?geo=187514&offset=210&cuisines=10749%2C10639%2C10659%2C4617%2C5473%2C10653%2C5110%2C5379%2C10698%2C10631%2C10715%2C10772%2C5086%2C20076%2C10687%2C10346%2C10660%2C20062%2C10622%2C10757%2C10661%2C20069%2C10348%2C10347%2C10626%2C10791%2C10633%2C10692%2C20066%2C10680%2C10744%2C10632%2C10752%2C20068%2C20067%2C11744%2C10618%2C11739%2C10769%2C10742%2C10765%2C10753%2C10732%2C10635%2C10767%2C10662%2C10693%2C10695%2C10664%2C10636%2C10617%2C10628%2C21363%2C10675%2C20074%2C10696%2C10748%2C10756%2C10690%2C10681%2C10717%2C10747%2C10784%2C10775%2C10766%2C10755&establishmentTypes=10591&broadened=false'\n",
    "\n",
    "url11= 'https://www.tripadvisor.es/FindRestaurants?geo=187514&offset=240&cuisines=10749%2C10639%2C10659%2C4617%2C5473%2C10653%2C5110%2C5379%2C10698%2C10631%2C10715%2C10772%2C5086%2C20076%2C10687%2C10346%2C10660%2C20062%2C10622%2C10757%2C10661%2C20069%2C10348%2C10347%2C10626%2C10791%2C10633%2C10692%2C20066%2C10680%2C10744%2C10632%2C10752%2C20068%2C20067%2C11744%2C10618%2C11739%2C10769%2C10742%2C10765%2C10753%2C10732%2C10635%2C10767%2C10662%2C10693%2C10695%2C10664%2C10636%2C10617%2C10628%2C21363%2C10675%2C20074%2C10696%2C10748%2C10756%2C10690%2C10681%2C10717%2C10747%2C10784%2C10775%2C10766%2C10755&establishmentTypes=10591&broadened=false'\n"
   ]
  },
  {
   "cell_type": "code",
   "execution_count": 5,
   "metadata": {},
   "outputs": [],
   "source": [
    "tabla=[]\n",
    "\n",
    "extraer(url1)\n",
    "extraer(url2)\n",
    "extraer(url3)\n",
    "extraer(url4)\n",
    "extraer(url5)\n",
    "extraer(url6)\n",
    "extraer(url7)\n",
    "extraer(url8)\n",
    "extraer(url9)\n",
    "extraer(url10)\n"
   ]
  },
  {
   "cell_type": "code",
   "execution_count": 6,
   "metadata": {},
   "outputs": [],
   "source": [
    "data=pd.DataFrame(tabla)"
   ]
  },
  {
   "cell_type": "code",
   "execution_count": 7,
   "metadata": {},
   "outputs": [],
   "source": [
    "data.to_json('../data/Tripadvisor2.json', index=False)\n"
   ]
  },
  {
   "cell_type": "code",
   "execution_count": 8,
   "metadata": {},
   "outputs": [
    {
     "data": {
      "text/html": [
       "<div>\n",
       "<style scoped>\n",
       "    .dataframe tbody tr th:only-of-type {\n",
       "        vertical-align: middle;\n",
       "    }\n",
       "\n",
       "    .dataframe tbody tr th {\n",
       "        vertical-align: top;\n",
       "    }\n",
       "\n",
       "    .dataframe thead th {\n",
       "        text-align: right;\n",
       "    }\n",
       "</style>\n",
       "<table border=\"1\" class=\"dataframe\">\n",
       "  <thead>\n",
       "    <tr style=\"text-align: right;\">\n",
       "      <th></th>\n",
       "      <th>0</th>\n",
       "      <th>1</th>\n",
       "      <th>2</th>\n",
       "      <th>3</th>\n",
       "      <th>4</th>\n",
       "    </tr>\n",
       "  </thead>\n",
       "  <tbody>\n",
       "    <tr>\n",
       "      <th>185</th>\n",
       "      <td>208. Viva Sushi</td>\n",
       "      <td>6 opiniones</td>\n",
       "      <td>China, SushiCarta</td>\n",
       "      <td>None</td>\n",
       "      <td>None</td>\n",
       "    </tr>\n",
       "    <tr>\n",
       "      <th>186</th>\n",
       "      <td>MICHELIN</td>\n",
       "      <td>209. Tampu</td>\n",
       "      <td>734 opinionesCerrado ahora</td>\n",
       "      <td>Peruana, Latina€€ - €€€Carta</td>\n",
       "      <td>None</td>\n",
       "    </tr>\n",
       "    <tr>\n",
       "      <th>187</th>\n",
       "      <td>210. Distrito 1 - Las Tablas</td>\n",
       "      <td>54 opinionesCerrado ahora</td>\n",
       "      <td>Asiática, Vietnamita€€ - €€€Carta</td>\n",
       "      <td>None</td>\n",
       "      <td>None</td>\n",
       "    </tr>\n",
       "    <tr>\n",
       "      <th>188</th>\n",
       "      <td>Descubrir</td>\n",
       "      <td>Viajes</td>\n",
       "      <td>Comunidad</td>\n",
       "      <td>Más</td>\n",
       "      <td>Iniciar sesión</td>\n",
       "    </tr>\n",
       "    <tr>\n",
       "      <th>189</th>\n",
       "      <td>Opinión</td>\n",
       "      <td>Viajes</td>\n",
       "      <td>Alertas</td>\n",
       "      <td>Iniciar sesión</td>\n",
       "      <td>None</td>\n",
       "    </tr>\n",
       "  </tbody>\n",
       "</table>\n",
       "</div>"
      ],
      "text/plain": [
       "                                0                          1  \\\n",
       "185               208. Viva Sushi                6 opiniones   \n",
       "186                      MICHELIN                 209. Tampu   \n",
       "187  210. Distrito 1 - Las Tablas  54 opinionesCerrado ahora   \n",
       "188                     Descubrir                     Viajes   \n",
       "189                       Opinión                     Viajes   \n",
       "\n",
       "                                     2                             3  \\\n",
       "185                  China, SushiCarta                          None   \n",
       "186         734 opinionesCerrado ahora  Peruana, Latina€€ - €€€Carta   \n",
       "187  Asiática, Vietnamita€€ - €€€Carta                          None   \n",
       "188                          Comunidad                           Más   \n",
       "189                            Alertas                Iniciar sesión   \n",
       "\n",
       "                  4  \n",
       "185            None  \n",
       "186            None  \n",
       "187            None  \n",
       "188  Iniciar sesión  \n",
       "189            None  "
      ]
     },
     "execution_count": 8,
     "metadata": {},
     "output_type": "execute_result"
    }
   ],
   "source": [
    "data.tail()"
   ]
  }
 ],
 "metadata": {
  "kernelspec": {
   "display_name": "clase",
   "language": "python",
   "name": "python3"
  },
  "language_info": {
   "codemirror_mode": {
    "name": "ipython",
    "version": 3
   },
   "file_extension": ".py",
   "mimetype": "text/x-python",
   "name": "python",
   "nbconvert_exporter": "python",
   "pygments_lexer": "ipython3",
   "version": "3.10.13"
  }
 },
 "nbformat": 4,
 "nbformat_minor": 2
}
