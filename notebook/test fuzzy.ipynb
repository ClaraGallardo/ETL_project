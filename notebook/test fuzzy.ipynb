{
 "cells": [
  {
   "cell_type": "code",
   "execution_count": 1,
   "metadata": {},
   "outputs": [
    {
     "name": "stderr",
     "output_type": "stream",
     "text": [
      "c:\\Users\\Usuario\\anaconda3\\envs\\clase\\lib\\site-packages\\fuzzywuzzy\\fuzz.py:11: UserWarning: Using slow pure-python SequenceMatcher. Install python-Levenshtein to remove this warning\n",
      "  warnings.warn('Using slow pure-python SequenceMatcher. Install python-Levenshtein to remove this warning')\n"
     ]
    }
   ],
   "source": [
    "import pandas as pd\n",
    "\n",
    "from fuzzywuzzy import fuzz\n",
    "from fuzzywuzzy import process"
   ]
  },
  {
   "cell_type": "markdown",
   "metadata": {},
   "source": [
    "# Limpieza tablas extraidas desde la API PLACE de Google: "
   ]
  },
  {
   "cell_type": "markdown",
   "metadata": {},
   "source": [
    "#### Todas las tablas tienen la misma estructura por lo que la misma limpieza se la aplico a todas."
   ]
  },
  {
   "cell_type": "code",
   "execution_count": 2,
   "metadata": {},
   "outputs": [],
   "source": [
    "caribe = pd.read_csv('../data/caribe.csv', encoding='latin1')\n",
    "coreano = pd.read_csv('../data/coreano.csv', encoding='latin1')\n",
    "india = pd.read_csv('../data/india.csv', encoding='latin1')\n",
    "ita = pd.read_csv('../data/ita.csv', encoding='latin1')\n",
    "japo = pd.read_csv('../data/japo.csv', encoding='latin1')\n",
    "mex = pd.read_csv('../data/mex.csv', encoding='latin1')\n",
    "peru = pd.read_csv('../data/peru.csv', encoding='latin1')"
   ]
  },
  {
   "cell_type": "code",
   "execution_count": 3,
   "metadata": {},
   "outputs": [
    {
     "name": "stdout",
     "output_type": "stream",
     "text": [
      "<class 'pandas.core.frame.DataFrame'>\n",
      "RangeIndex: 20 entries, 0 to 19\n",
      "Data columns (total 9 columns):\n",
      " #   Column              Non-Null Count  Dtype  \n",
      "---  ------              --------------  -----  \n",
      " 0   business_status     20 non-null     object \n",
      " 1   geometry            20 non-null     object \n",
      " 2   name                20 non-null     object \n",
      " 3   photos              20 non-null     object \n",
      " 4   price_level         12 non-null     float64\n",
      " 5   rating              20 non-null     float64\n",
      " 6   types               20 non-null     object \n",
      " 7   user_ratings_total  20 non-null     int64  \n",
      " 8   tipo                20 non-null     object \n",
      "dtypes: float64(2), int64(1), object(6)\n",
      "memory usage: 1.5+ KB\n"
     ]
    }
   ],
   "source": [
    "coreano.info() # Aqui veo que solo price-level tiene nulos"
   ]
  },
  {
   "cell_type": "code",
   "execution_count": 4,
   "metadata": {},
   "outputs": [
    {
     "data": {
      "text/plain": [
       "Index(['business_status', 'geometry', 'name', 'photos', 'price_level',\n",
       "       'rating', 'types', 'user_ratings_total', 'tipo'],\n",
       "      dtype='object')"
      ]
     },
     "execution_count": 4,
     "metadata": {},
     "output_type": "execute_result"
    }
   ],
   "source": [
    "coreano.columns"
   ]
  },
  {
   "cell_type": "code",
   "execution_count": 5,
   "metadata": {},
   "outputs": [],
   "source": [
    "coreano=coreano.drop(columns=['business_status','geometry','tipo'])"
   ]
  },
  {
   "cell_type": "code",
   "execution_count": 6,
   "metadata": {},
   "outputs": [],
   "source": [
    "coreano.columns = ['Nombre','Foto','Precio','Puntuacion','Servicios', 'Nº opiniones']"
   ]
  },
  {
   "cell_type": "code",
   "execution_count": 7,
   "metadata": {},
   "outputs": [],
   "source": [
    "coreano.Nombre = coreano.Nombre.str.upper()"
   ]
  },
  {
   "cell_type": "code",
   "execution_count": 8,
   "metadata": {},
   "outputs": [
    {
     "data": {
      "text/html": [
       "<div>\n",
       "<style scoped>\n",
       "    .dataframe tbody tr th:only-of-type {\n",
       "        vertical-align: middle;\n",
       "    }\n",
       "\n",
       "    .dataframe tbody tr th {\n",
       "        vertical-align: top;\n",
       "    }\n",
       "\n",
       "    .dataframe thead th {\n",
       "        text-align: right;\n",
       "    }\n",
       "</style>\n",
       "<table border=\"1\" class=\"dataframe\">\n",
       "  <thead>\n",
       "    <tr style=\"text-align: right;\">\n",
       "      <th></th>\n",
       "      <th>Nombre</th>\n",
       "      <th>Foto</th>\n",
       "      <th>Precio</th>\n",
       "      <th>Puntuacion</th>\n",
       "      <th>Servicios</th>\n",
       "      <th>Nº opiniones</th>\n",
       "    </tr>\n",
       "  </thead>\n",
       "  <tbody>\n",
       "    <tr>\n",
       "      <th>0</th>\n",
       "      <td>RESTAURANTE COREANO GANGNAM</td>\n",
       "      <td>[{'height': 2988, 'html_attributions': ['&lt;a hr...</td>\n",
       "      <td>1.0</td>\n",
       "      <td>4.4</td>\n",
       "      <td>['restaurant', 'food', 'point_of_interest', 'e...</td>\n",
       "      <td>597</td>\n",
       "    </tr>\n",
       "    <tr>\n",
       "      <th>1</th>\n",
       "      <td>RESTAURANTE KOREA</td>\n",
       "      <td>[{'height': 2773, 'html_attributions': ['&lt;a hr...</td>\n",
       "      <td>2.0</td>\n",
       "      <td>4.5</td>\n",
       "      <td>['restaurant', 'food', 'point_of_interest', 'e...</td>\n",
       "      <td>1922</td>\n",
       "    </tr>\n",
       "    <tr>\n",
       "      <th>2</th>\n",
       "      <td>GO HYANG MAT</td>\n",
       "      <td>[{'height': 3000, 'html_attributions': ['&lt;a hr...</td>\n",
       "      <td>1.0</td>\n",
       "      <td>4.5</td>\n",
       "      <td>['restaurant', 'food', 'point_of_interest', 'e...</td>\n",
       "      <td>994</td>\n",
       "    </tr>\n",
       "    <tr>\n",
       "      <th>3</th>\n",
       "      <td>RESTAURANTE MIDANG</td>\n",
       "      <td>[{'height': 1669, 'html_attributions': ['&lt;a hr...</td>\n",
       "      <td>2.0</td>\n",
       "      <td>4.7</td>\n",
       "      <td>['meal_delivery', 'restaurant', 'food', 'point...</td>\n",
       "      <td>762</td>\n",
       "    </tr>\n",
       "    <tr>\n",
       "      <th>4</th>\n",
       "      <td>RESTAURANTE MARU</td>\n",
       "      <td>[{'height': 3024, 'html_attributions': ['&lt;a hr...</td>\n",
       "      <td>2.0</td>\n",
       "      <td>4.3</td>\n",
       "      <td>['restaurant', 'food', 'point_of_interest', 'e...</td>\n",
       "      <td>847</td>\n",
       "    </tr>\n",
       "  </tbody>\n",
       "</table>\n",
       "</div>"
      ],
      "text/plain": [
       "                        Nombre  \\\n",
       "0  RESTAURANTE COREANO GANGNAM   \n",
       "1            RESTAURANTE KOREA   \n",
       "2                 GO HYANG MAT   \n",
       "3           RESTAURANTE MIDANG   \n",
       "4             RESTAURANTE MARU   \n",
       "\n",
       "                                                Foto  Precio  Puntuacion  \\\n",
       "0  [{'height': 2988, 'html_attributions': ['<a hr...     1.0         4.4   \n",
       "1  [{'height': 2773, 'html_attributions': ['<a hr...     2.0         4.5   \n",
       "2  [{'height': 3000, 'html_attributions': ['<a hr...     1.0         4.5   \n",
       "3  [{'height': 1669, 'html_attributions': ['<a hr...     2.0         4.7   \n",
       "4  [{'height': 3024, 'html_attributions': ['<a hr...     2.0         4.3   \n",
       "\n",
       "                                           Servicios  Nº opiniones  \n",
       "0  ['restaurant', 'food', 'point_of_interest', 'e...           597  \n",
       "1  ['restaurant', 'food', 'point_of_interest', 'e...          1922  \n",
       "2  ['restaurant', 'food', 'point_of_interest', 'e...           994  \n",
       "3  ['meal_delivery', 'restaurant', 'food', 'point...           762  \n",
       "4  ['restaurant', 'food', 'point_of_interest', 'e...           847  "
      ]
     },
     "execution_count": 8,
     "metadata": {},
     "output_type": "execute_result"
    }
   ],
   "source": [
    "coreano.head() "
   ]
  },
  {
   "cell_type": "markdown",
   "metadata": {},
   "source": [
    "#### Creo una función para limpiar 🫧🧹 todo de una."
   ]
  },
  {
   "cell_type": "code",
   "execution_count": 9,
   "metadata": {},
   "outputs": [],
   "source": [
    "import sys\n",
    "sys.path.append(\"..\")\n",
    "from src.funciones import *  #funciones"
   ]
  },
  {
   "cell_type": "code",
   "execution_count": 10,
   "metadata": {},
   "outputs": [],
   "source": [
    "india = clean(india) \n",
    "ita = clean(ita) \n",
    "japo = clean(japo)\n",
    "mex = clean(mex) \n",
    "peru = clean(peru)"
   ]
  },
  {
   "cell_type": "markdown",
   "metadata": {},
   "source": [
    "#### La talba de Caribe tiene una columna menos por lo que la funcion no se puede aplicar"
   ]
  },
  {
   "cell_type": "code",
   "execution_count": 11,
   "metadata": {},
   "outputs": [],
   "source": [
    "caribe=caribe.drop(columns=['business_status','geometry','tipo'])\n",
    "caribe.columns = ['Nombre','Foto','Puntuacion','Servicios', 'Nº opiniones']\n",
    "caribe.Nombre = caribe.Nombre.str.upper()"
   ]
  },
  {
   "cell_type": "markdown",
   "metadata": {},
   "source": [
    "#### Nuesto principal objetivo 🎯🎯 es tener todos los nombres de los restaurantes de las tablas para poder relacionarlos con la tabla de locales"
   ]
  },
  {
   "cell_type": "code",
   "execution_count": 12,
   "metadata": {},
   "outputs": [],
   "source": [
    "locales = pd.read_csv('../data/restaurantes.csv', encoding='latin1')"
   ]
  },
  {
   "cell_type": "code",
   "execution_count": 13,
   "metadata": {},
   "outputs": [],
   "source": [
    "locales.columns = ['o', 'id_local','Nombre']"
   ]
  },
  {
   "cell_type": "code",
   "execution_count": 14,
   "metadata": {},
   "outputs": [],
   "source": [
    "tabla1 = pd.merge(india,locales, on= 'Nombre',how= 'inner')\n",
    "tabla2 = pd.merge(ita,locales, on= 'Nombre',how= 'inner')\n",
    "\n"
   ]
  },
  {
   "cell_type": "code",
   "execution_count": 15,
   "metadata": {},
   "outputs": [
    {
     "data": {
      "text/html": [
       "<div>\n",
       "<style scoped>\n",
       "    .dataframe tbody tr th:only-of-type {\n",
       "        vertical-align: middle;\n",
       "    }\n",
       "\n",
       "    .dataframe tbody tr th {\n",
       "        vertical-align: top;\n",
       "    }\n",
       "\n",
       "    .dataframe thead th {\n",
       "        text-align: right;\n",
       "    }\n",
       "</style>\n",
       "<table border=\"1\" class=\"dataframe\">\n",
       "  <thead>\n",
       "    <tr style=\"text-align: right;\">\n",
       "      <th></th>\n",
       "      <th>Nombre</th>\n",
       "      <th>Foto</th>\n",
       "      <th>Precio</th>\n",
       "      <th>Puntuacion</th>\n",
       "      <th>Servicios</th>\n",
       "      <th>Nº opiniones</th>\n",
       "      <th>o</th>\n",
       "      <th>id_local</th>\n",
       "    </tr>\n",
       "  </thead>\n",
       "  <tbody>\n",
       "    <tr>\n",
       "      <th>0</th>\n",
       "      <td>TRATTORIA MANZONI</td>\n",
       "      <td>[{'height': 709, 'html_attributions': ['&lt;a hre...</td>\n",
       "      <td>2</td>\n",
       "      <td>4.3</td>\n",
       "      <td>['restaurant', 'food', 'point_of_interest', 'e...</td>\n",
       "      <td>555</td>\n",
       "      <td>24727</td>\n",
       "      <td>24728</td>\n",
       "    </tr>\n",
       "    <tr>\n",
       "      <th>1</th>\n",
       "      <td>OLIVETO</td>\n",
       "      <td>[{'height': 3000, 'html_attributions': ['&lt;a hr...</td>\n",
       "      <td>2</td>\n",
       "      <td>4.7</td>\n",
       "      <td>['restaurant', 'food', 'point_of_interest', 'e...</td>\n",
       "      <td>1133</td>\n",
       "      <td>55470</td>\n",
       "      <td>55471</td>\n",
       "    </tr>\n",
       "    <tr>\n",
       "      <th>2</th>\n",
       "      <td>LUNA ROSSA</td>\n",
       "      <td>[{'height': 3415, 'html_attributions': ['&lt;a hr...</td>\n",
       "      <td>2</td>\n",
       "      <td>4.4</td>\n",
       "      <td>['restaurant', 'food', 'point_of_interest', 'e...</td>\n",
       "      <td>1864</td>\n",
       "      <td>90057</td>\n",
       "      <td>90058</td>\n",
       "    </tr>\n",
       "  </tbody>\n",
       "</table>\n",
       "</div>"
      ],
      "text/plain": [
       "              Nombre                                               Foto  \\\n",
       "0  TRATTORIA MANZONI  [{'height': 709, 'html_attributions': ['<a hre...   \n",
       "1            OLIVETO  [{'height': 3000, 'html_attributions': ['<a hr...   \n",
       "2         LUNA ROSSA  [{'height': 3415, 'html_attributions': ['<a hr...   \n",
       "\n",
       "   Precio  Puntuacion                                          Servicios  \\\n",
       "0       2         4.3  ['restaurant', 'food', 'point_of_interest', 'e...   \n",
       "1       2         4.7  ['restaurant', 'food', 'point_of_interest', 'e...   \n",
       "2       2         4.4  ['restaurant', 'food', 'point_of_interest', 'e...   \n",
       "\n",
       "   Nº opiniones      o  id_local  \n",
       "0           555  24727     24728  \n",
       "1          1133  55470     55471  \n",
       "2          1864  90057     90058  "
      ]
     },
     "execution_count": 15,
     "metadata": {},
     "output_type": "execute_result"
    }
   ],
   "source": [
    "tabla2"
   ]
  },
  {
   "cell_type": "code",
   "execution_count": 16,
   "metadata": {},
   "outputs": [],
   "source": [
    "from multiprocessing import Pool"
   ]
  },
  {
   "cell_type": "code",
   "execution_count": 17,
   "metadata": {},
   "outputs": [],
   "source": [
    "import pandas as pd\n",
    "from fuzzywuzzy import fuzz\n",
    "from fuzzywuzzy import process\n",
    "from multiprocessing import Pool\n",
    "\n",
    "def fuzzy_match(name_df, locales, threshold):\n",
    "\n",
    "    matches = process.extractBests(name_df, locales['Nombre'], score_cutoff=threshold)\n",
    "    \n",
    "    return [{'Nombre_df': name_df, 'Nombre_locales': match[0], 'Score': match[1]} for match in matches]\n",
    "\n",
    "def fuzzy_merge_with_locales(df_list, locales, threshold=80, num_processes=2):\n",
    "\n",
    "    pool = Pool(num_processes)\n",
    "    results = []\n",
    "    \n",
    "    for df in df_list:\n",
    "        results.extend(pool.starmap(fuzzy_match, [(name, locales, threshold) for name in df['Nombre']]))\n",
    "    \n",
    "    pool.close()\n",
    "    pool.join()..\n",
    "\n",
    "\n",
    "    result = pd.DataFrame(results)\n",
    "    \n",
    "    return result\n",
    "\n",
    "\n",
    "df_list = [india,ita,japo,mex,peru,caribe]\n",
    "\n",
    "threshold = 80\n",
    "num_processes = 14  # Puedes ajustar el número de procesos según la cantidad de núcleos de CPU disponibles\n",
    "\n",
    "merged_data = fuzzy_merge_with_locales(df_list, locales, threshold, num_processes)"
   ]
  },
  {
   "cell_type": "code",
   "execution_count": null,
   "metadata": {},
   "outputs": [],
   "source": [
    "merged_data"
   ]
  },
  {
   "cell_type": "code",
   "execution_count": null,
   "metadata": {},
   "outputs": [],
   "source": []
  }
 ],
 "metadata": {
  "kernelspec": {
   "display_name": "clase",
   "language": "python",
   "name": "python3"
  },
  "language_info": {
   "codemirror_mode": {
    "name": "ipython",
    "version": 3
   },
   "file_extension": ".py",
   "mimetype": "text/x-python",
   "name": "python",
   "nbconvert_exporter": "python",
   "pygments_lexer": "ipython3",
   "version": "3.10.13"
  }
 },
 "nbformat": 4,
 "nbformat_minor": 2
}
