{
 "cells": [
  {
   "cell_type": "code",
   "execution_count": 16,
   "metadata": {},
   "outputs": [],
   "source": [
    "import pandas as pd\n",
    "\n",
    "import sys\n",
    "sys.path.append(\"..\")\n",
    "from src.funciones import * "
   ]
  },
  {
   "cell_type": "markdown",
   "metadata": {},
   "source": [
    "# Limpieza archivo CSV (Fuente: Tripadvisor):\n",
    "\n",
    "Una vez tenemos el archivos csv,procedemos a limpiarlo."
   ]
  },
  {
   "cell_type": "markdown",
   "metadata": {},
   "source": [
    "Tras ver el dataframe procedemos con la siguiente limpieza:\n",
    "\n",
    "* Ponemos los títulos bien\n",
    "* Quitamos las filas que han salido mal durante la extracción de datos\n",
    "* Quitamos los números que preceden a los nomber\n",
    "* Reseteamos los índices\n",
    "* Quitamos de la columna opiniones Abierto/Cerrado ahora\n",
    "* Quitamos de Tipo '€' y los añadimos a precio la equivalencia\n",
    "* Quitamos Carta de Tipo"
   ]
  },
  {
   "cell_type": "code",
   "execution_count": 17,
   "metadata": {},
   "outputs": [],
   "source": [
    "ruta_al_csv = '..\\data\\Tripadvisor2.csv'\n",
    "df = pd.read_csv(ruta_al_csv)\n",
    "data=df.copy()"
   ]
  },
  {
   "cell_type": "code",
   "execution_count": 18,
   "metadata": {},
   "outputs": [
    {
     "name": "stdout",
     "output_type": "stream",
     "text": [
      "<class 'pandas.core.frame.DataFrame'>\n",
      "RangeIndex: 281 entries, 0 to 280\n",
      "Data columns (total 5 columns):\n",
      " #   Column  Non-Null Count  Dtype \n",
      "---  ------  --------------  ----- \n",
      " 0   0       281 non-null    object\n",
      " 1   1       281 non-null    object\n",
      " 2   2       281 non-null    object\n",
      " 3   3       25 non-null     object\n",
      " 4   4       2 non-null      object\n",
      "dtypes: object(5)\n",
      "memory usage: 11.1+ KB\n"
     ]
    }
   ],
   "source": [
    "data.info()"
   ]
  },
  {
   "cell_type": "code",
   "execution_count": 19,
   "metadata": {},
   "outputs": [
    {
     "data": {
      "text/html": [
       "<div>\n",
       "<style scoped>\n",
       "    .dataframe tbody tr th:only-of-type {\n",
       "        vertical-align: middle;\n",
       "    }\n",
       "\n",
       "    .dataframe tbody tr th {\n",
       "        vertical-align: top;\n",
       "    }\n",
       "\n",
       "    .dataframe thead th {\n",
       "        text-align: right;\n",
       "    }\n",
       "</style>\n",
       "<table border=\"1\" class=\"dataframe\">\n",
       "  <thead>\n",
       "    <tr style=\"text-align: right;\">\n",
       "      <th></th>\n",
       "      <th>0</th>\n",
       "      <th>1</th>\n",
       "      <th>2</th>\n",
       "      <th>3</th>\n",
       "      <th>4</th>\n",
       "    </tr>\n",
       "  </thead>\n",
       "  <tbody>\n",
       "    <tr>\n",
       "      <th>count</th>\n",
       "      <td>281</td>\n",
       "      <td>281</td>\n",
       "      <td>281</td>\n",
       "      <td>25</td>\n",
       "      <td>2</td>\n",
       "    </tr>\n",
       "    <tr>\n",
       "      <th>unique</th>\n",
       "      <td>204</td>\n",
       "      <td>206</td>\n",
       "      <td>95</td>\n",
       "      <td>9</td>\n",
       "      <td>1</td>\n",
       "    </tr>\n",
       "    <tr>\n",
       "      <th>top</th>\n",
       "      <td>MICHELIN</td>\n",
       "      <td>Viajes</td>\n",
       "      <td>Italiana, Pizza€€ - €€€Carta</td>\n",
       "      <td>Iniciar sesión</td>\n",
       "      <td>Iniciar sesión</td>\n",
       "    </tr>\n",
       "    <tr>\n",
       "      <th>freq</th>\n",
       "      <td>14</td>\n",
       "      <td>11</td>\n",
       "      <td>29</td>\n",
       "      <td>9</td>\n",
       "      <td>2</td>\n",
       "    </tr>\n",
       "  </tbody>\n",
       "</table>\n",
       "</div>"
      ],
      "text/plain": [
       "               0       1                             2               3  \\\n",
       "count        281     281                           281              25   \n",
       "unique       204     206                            95               9   \n",
       "top     MICHELIN  Viajes  Italiana, Pizza€€ - €€€Carta  Iniciar sesión   \n",
       "freq          14      11                            29               9   \n",
       "\n",
       "                     4  \n",
       "count                2  \n",
       "unique               1  \n",
       "top     Iniciar sesión  \n",
       "freq                 2  "
      ]
     },
     "execution_count": 19,
     "metadata": {},
     "output_type": "execute_result"
    }
   ],
   "source": [
    "data.describe()"
   ]
  },
  {
   "cell_type": "code",
   "execution_count": 20,
   "metadata": {},
   "outputs": [],
   "source": [
    "data.columns=['Nombre','Opiniones','Tipo','Precio','Cosas'] # renombramos columnas\n",
    "\n",
    "eliminar=['Patrocinado', 'Descubrir','MICHELIN','Opinión'] # quitamos las filas que se repiten y no nos interesan porque se han colado\n",
    "data = data[~data['Nombre'].isin(eliminar)]\n",
    "\n",
    "data['Nombre'] = data['Nombre'].str.replace(r'\\d+\\.\\s', '', regex=True) #eliminamos numeros de nombre\n",
    "data = data.reset_index(drop=True)\n",
    "\n",
    "# Limpiamos loa columna Opiniones y Tipo\n",
    "\n",
    "data['Opiniones'] = data['Opiniones'].str.replace('Abierto ahora', '')\n",
    "data['Opiniones'] = data['Opiniones'].str.replace('Cerrado ahora', '')\n",
    "\n",
    "data['Tipo'] = data['Tipo'].str.replace(r'Carta$', '', regex=True)\n",
    "data['Precio'] = data['Tipo'].str.extract(r'(€+)')\n",
    "\n",
    "\n",
    "def precio(tipo):\n",
    "    if '€€€€' in tipo:\n",
    "        return 'Alto'\n",
    "    elif '€€ - €€€' in tipo:\n",
    "        return 'Medio'\n",
    "    elif '€' in tipo:\n",
    "        return 'Bajo'\n",
    "    else:\n",
    "        return ''\n",
    "    \n",
    "\n",
    "data['Precio'] = data['Tipo'].apply(precio)\n",
    "data['Tipo'] = data['Tipo'].str.replace('€', '', regex=False)\n",
    "data['Tipo'] = data['Tipo'].str.replace('-', '', regex=False)\n",
    "data.head()\n",
    "\n",
    "\n",
    "limpieza_tipo(data)\n"
   ]
  },
  {
   "cell_type": "code",
   "execution_count": 21,
   "metadata": {},
   "outputs": [],
   "source": [
    "import regex as re\n",
    "\n",
    "cerrado = [re.sub(r'Cerrado hoy', '', cadena) for cadena in data.Opiniones]\n",
    "minutos = [re.sub(r'Abre en 6 minutos', '', opinion) for opinion in data.Opiniones]\n",
    "\n",
    "data['Opiniones'] = data['Opiniones'].apply(lambda x: re.sub(r'Abre en 6 minutos', '', x))\n",
    "data['Opiniones'] = data['Opiniones'].apply(lambda x: re.sub(r'Cerrado hoy', '', x))"
   ]
  },
  {
   "cell_type": "code",
   "execution_count": 22,
   "metadata": {},
   "outputs": [],
   "source": [
    "def eliminar_palabras(texto):\n",
    "    palabras_a_eliminar = [\"Latina\", \"Francesa\", \"Saludable\", \"Internacional\",'rápida','saludable']\n",
    "    patron = r'\\b(?:' + '|'.join(palabras_a_eliminar) + r')\\b'\n",
    "    return re.sub(patron, '', texto)\n",
    "\n",
    "# Aplica la función a la columna \"Tipo\"\n",
    "\n",
    "data['Tipo'] = data['Tipo'].apply(eliminar_palabras)\n"
   ]
  },
  {
   "cell_type": "code",
   "execution_count": 23,
   "metadata": {},
   "outputs": [
    {
     "data": {
      "text/html": [
       "<div>\n",
       "<style scoped>\n",
       "    .dataframe tbody tr th:only-of-type {\n",
       "        vertical-align: middle;\n",
       "    }\n",
       "\n",
       "    .dataframe tbody tr th {\n",
       "        vertical-align: top;\n",
       "    }\n",
       "\n",
       "    .dataframe thead th {\n",
       "        text-align: right;\n",
       "    }\n",
       "</style>\n",
       "<table border=\"1\" class=\"dataframe\">\n",
       "  <thead>\n",
       "    <tr style=\"text-align: right;\">\n",
       "      <th></th>\n",
       "      <th>Nombre</th>\n",
       "      <th>Opiniones</th>\n",
       "      <th>Tipo</th>\n",
       "      <th>Precio</th>\n",
       "      <th>Cosas</th>\n",
       "    </tr>\n",
       "  </thead>\n",
       "  <tbody>\n",
       "    <tr>\n",
       "      <th>0</th>\n",
       "      <td>Pizzeria Fratelli</td>\n",
       "      <td>460 opiniones</td>\n",
       "      <td>Italiana</td>\n",
       "      <td>Medio</td>\n",
       "      <td>NaN</td>\n",
       "    </tr>\n",
       "    <tr>\n",
       "      <th>1</th>\n",
       "      <td>Asian Army</td>\n",
       "      <td>52 opiniones</td>\n",
       "      <td>Vietnamita</td>\n",
       "      <td>Medio</td>\n",
       "      <td>NaN</td>\n",
       "    </tr>\n",
       "    <tr>\n",
       "      <th>2</th>\n",
       "      <td>Menomale</td>\n",
       "      <td>204 opiniones</td>\n",
       "      <td>Italiana</td>\n",
       "      <td>Medio</td>\n",
       "      <td>NaN</td>\n",
       "    </tr>\n",
       "    <tr>\n",
       "      <th>3</th>\n",
       "      <td>Borax</td>\n",
       "      <td>445 opiniones</td>\n",
       "      <td>Caribeña</td>\n",
       "      <td>Medio</td>\n",
       "      <td>NaN</td>\n",
       "    </tr>\n",
       "    <tr>\n",
       "      <th>4</th>\n",
       "      <td>Éccolo</td>\n",
       "      <td>133 opiniones</td>\n",
       "      <td>Italiana</td>\n",
       "      <td>Medio</td>\n",
       "      <td>NaN</td>\n",
       "    </tr>\n",
       "  </tbody>\n",
       "</table>\n",
       "</div>"
      ],
      "text/plain": [
       "              Nombre      Opiniones          Tipo Precio Cosas\n",
       "0  Pizzeria Fratelli  460 opiniones      Italiana  Medio   NaN\n",
       "1         Asian Army   52 opiniones  Vietnamita    Medio   NaN\n",
       "2           Menomale  204 opiniones      Italiana  Medio   NaN\n",
       "3              Borax  445 opiniones    Caribeña    Medio   NaN\n",
       "4             Éccolo  133 opiniones      Italiana  Medio   NaN"
      ]
     },
     "execution_count": 23,
     "metadata": {},
     "output_type": "execute_result"
    }
   ],
   "source": [
    "data.head()"
   ]
  },
  {
   "cell_type": "code",
   "execution_count": 24,
   "metadata": {},
   "outputs": [
    {
     "data": {
      "text/plain": [
       "['Venezolana',\n",
       " 'Americana ',\n",
       " 'Colombiana',\n",
       " 'Venezolana  ',\n",
       " 'Filipina',\n",
       " 'LatinaComida   ',\n",
       " 'LatinaInternacional  ',\n",
       " 'Comida rápidaInternacional  ',\n",
       " 'FusiónSaludable  ',\n",
       " 'Argentino  ',\n",
       " 'Americana  ',\n",
       " 'Coreana  ',\n",
       " 'Turca  ']"
      ]
     },
     "execution_count": 24,
     "metadata": {},
     "output_type": "execute_result"
    }
   ],
   "source": [
    "valores_unicos = data['Tipo'].value_counts()\n",
    "valores_unicos = valores_unicos[valores_unicos == 1]\n",
    "\n",
    "# Convierte los valores únicos en una lista\n",
    "valores_unicos_lista = valores_unicos.index.tolist()\n",
    "valores_unicos_lista"
   ]
  },
  {
   "cell_type": "code",
   "execution_count": 25,
   "metadata": {},
   "outputs": [
    {
     "data": {
      "text/plain": [
       "Index([49, 114, 117, 122], dtype='int64')"
      ]
     },
     "execution_count": 25,
     "metadata": {},
     "output_type": "execute_result"
    }
   ],
   "source": [
    "eliminar=['LatinaComida   ',\n",
    " 'LatinaInternacional  ',\n",
    " 'Comida rápidaInternacional  ',\n",
    " 'FusiónSaludable  ',]\n",
    "\n",
    "data.index[data['Tipo'].isin(eliminar)]"
   ]
  },
  {
   "cell_type": "code",
   "execution_count": 26,
   "metadata": {},
   "outputs": [],
   "source": [
    "data = data.drop(data.index[data['Tipo'].isin(eliminar)])"
   ]
  },
  {
   "cell_type": "code",
   "execution_count": 27,
   "metadata": {},
   "outputs": [],
   "source": [
    "data.Nombre = data.Nombre.str.upper()"
   ]
  },
  {
   "cell_type": "code",
   "execution_count": 30,
   "metadata": {},
   "outputs": [
    {
     "name": "stdout",
     "output_type": "stream",
     "text": [
      "<class 'pandas.core.frame.DataFrame'>\n",
      "Index: 252 entries, 0 to 255\n",
      "Data columns (total 5 columns):\n",
      " #   Column     Non-Null Count  Dtype \n",
      "---  ------     --------------  ----- \n",
      " 0   Nombre     252 non-null    object\n",
      " 1   Opiniones  252 non-null    object\n",
      " 2   Tipo       252 non-null    object\n",
      " 3   Precio     252 non-null    object\n",
      " 4   Cosas      0 non-null      object\n",
      "dtypes: object(5)\n",
      "memory usage: 77.1 KB\n"
     ]
    }
   ],
   "source": [
    "data.info(memory_usage='deep')"
   ]
  },
  {
   "cell_type": "code",
   "execution_count": 31,
   "metadata": {},
   "outputs": [],
   "source": [
    "data = optim(data)"
   ]
  },
  {
   "cell_type": "code",
   "execution_count": 32,
   "metadata": {},
   "outputs": [
    {
     "name": "stdout",
     "output_type": "stream",
     "text": [
      "<class 'pandas.core.frame.DataFrame'>\n",
      "Index: 252 entries, 0 to 255\n",
      "Data columns (total 5 columns):\n",
      " #   Column     Non-Null Count  Dtype   \n",
      "---  ------     --------------  -----   \n",
      " 0   Nombre     252 non-null    category\n",
      " 1   Opiniones  252 non-null    category\n",
      " 2   Tipo       252 non-null    category\n",
      " 3   Precio     252 non-null    category\n",
      " 4   Cosas      0 non-null      category\n",
      "dtypes: category(5)\n",
      "memory usage: 41.4 KB\n"
     ]
    }
   ],
   "source": [
    "data.info(memory_usage='deep')"
   ]
  },
  {
   "cell_type": "code",
   "execution_count": 33,
   "metadata": {},
   "outputs": [],
   "source": [
    "data.to_csv('../data/Tripadvisor.csv')"
   ]
  }
 ],
 "metadata": {
  "kernelspec": {
   "display_name": "clase",
   "language": "python",
   "name": "python3"
  },
  "language_info": {
   "codemirror_mode": {
    "name": "ipython",
    "version": 3
   },
   "file_extension": ".py",
   "mimetype": "text/x-python",
   "name": "python",
   "nbconvert_exporter": "python",
   "pygments_lexer": "ipython3",
   "version": "3.10.13"
  }
 },
 "nbformat": 4,
 "nbformat_minor": 2
}
